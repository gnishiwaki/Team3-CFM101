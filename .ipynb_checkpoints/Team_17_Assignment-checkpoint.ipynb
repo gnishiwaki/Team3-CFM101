{
 "cells": [
  {
   "cell_type": "code",
   "execution_count": 1,
   "metadata": {},
   "outputs": [],
   "source": [
    "from IPython.display import display, Math, Latex\n",
    "\n",
    "import pandas as pd\n",
    "import numpy as np\n",
    "import numpy_financial as npf\n",
    "import yfinance as yf\n",
    "import matplotlib.pyplot as plt\n",
    "from datetime import datetime"
   ]
  },
  {
   "cell_type": "markdown",
   "metadata": {},
   "source": [
    "## Group Assignment\n",
    "### Team Number: 17\n",
    "### Team Member Names: John, Gen\n",
    "### Team Strategy Chosen: Risky "
   ]
  },
  {
   "cell_type": "markdown",
   "metadata": {},
   "source": [
    "Requirements for this assignment:\n",
    "- Code needs to be dynamic\n",
    "- Must read in a csv file containing a finite number of stock tickers (with an example csv file in this repo)\n",
    "- Portfolio must contain only US listed stocks\n",
    "- Must have an average daily volume of at least 10 000 shares as calculated based on the time interval July 2, 2021 to October 22, 2021\n",
    "- Pick a minimum 10 maximum 20 stocks for portfolio.\n",
    "- If we choose n stocks, each stock must make up minimum (100/(2n))% of the portfolio when weighted by value as of closing prices on November 26, 2021\n",
    "- No individual stock may make up more than 35% of the portfolio when weighted by value\n",
    "- We have $100000 USD to spend on portfolio and all must be spent\n",
    "- When code is run with the .csv file, it must create a DataFrame \"FinalPortfolio\"\n",
    "    - With this portfolio, index starts at 1 and ends at the number of stocks that our code chooses.\n",
    "    - Headings must be: Ticker, Price, Shares, Value, Weight\n",
    "        - Ticker is the ticker selected\n",
    "        - Price is the price on November 26, 2021\n",
    "        - Shares is the number of shares purchased (can be fractional)\n",
    "        - Value is the total value of those shares\n",
    "        - Weighted is the weight that the value of shares represents relative to the value of the portfolio (which is $100,000)\n",
    "    - Needs to show that the total adds up to $100,000\n",
    "    - Also need to show the weights add to 100%\n",
    "    - This DataFrame must be printed to the screen as the second to last output to the screen.\n",
    "- After the DataFrame, one final DataFrame called \"Stocks\" which has the same index as \"Final Portfolio\" must be made\n",
    "    - Only has the Tickers and Shares from \"Final Portfolio\"\n",
    "    - Must output this DataFrame to a csv file titled \"Stocks_Group_XX.csv\""
   ]
  },
  {
   "cell_type": "markdown",
   "metadata": {},
   "source": [
    "## **General Strategy**:\n",
    "\n",
    "#### Preparation\n",
    "0) Define given variables and other imporant global variables.\n",
    "\n",
    "#### Part #1: Data Cleansing and Filtering\n",
    "1) Filter out all valid US Stocks from the provided CSV file.\n",
    "2) Store the price and volume info of tickers in global dataframe.\n",
    "3) Filter out tickers within date range based on daily average volume.\n",
    "\n",
    "#### Part #2: Portfolio Construction\n",
    "4) Obtain the 20 most volatile stocks (based on Standard Deviation).\n",
    "5) Find the porfolio of 10 stocks with the highest correlation.\n",
    "6) STEP 6: Find the distributions of the weight that maximizes portfolio Standard Deviation.\n",
    "\n",
    "#### Part #3: Proof and Analysis\n",
    "7) Graph the portfolio standard deviation for different weighting distributions.\n",
    "8) Given the chosen portfolio, measure its performance against the price weighted index consisting of all filtered US Stocks.\n",
    "9) Given the chosen portfolio of 10 stocks, graph the change in portfolio standard deviation as other stocks are added\n",
    "10) Beta in reference to the S&P 500.\n",
    "11) Calculate the Beta between our portfolio and an equally weighted portfolio including all valid stocks.\n",
    "12) Beta in reference to the price-weighted index of given stocks\n",
    "13) Beta between our portfolio with varied weight versus when it is equally weighted\n",
    "14) Compare our portfolio graphically against an equally weighted index containing only the 10 stocks chosen\n",
    "\n",
    "#### Part #4: Final Output\n",
    "15) Creating the final portfolio dataframe and CSV."
   ]
  },
  {
   "cell_type": "markdown",
   "metadata": {},
   "source": [
    "## Part #1: Data Cleansing and Filtering\n"
   ]
  },
  {
   "cell_type": "markdown",
   "metadata": {},
   "source": [
    "### Step #0: Define important default and global variables (optimizing time and memories)\n",
    "We will define a global variable 'all_price_df' that tracks the daily closing price and daily volume of all valid US stocks. Many functions will directly access this global dataframe during calculations, to avoid the inefficient passing large dataframes as parameters.\n",
    "\n",
    "**NOTE** that all calculations will be performed with data from the daily interval, since first of all, data is very limited, thus not supporting calculation with dispersed interval. Yet, most importantly, the competition is held only for  a couple of days, therefore gauging the historical daily fluctuation of stocks better serves the purpose for this specific project."
   ]
  },
  {
   "cell_type": "code",
   "execution_count": 2,
   "metadata": {},
   "outputs": [],
   "source": [
    "# Import default information\n",
    "start_date = '2021-07-02'\n",
    "end_date = '2021-10-23' # So that 2021-10-22 is included in the data\n",
    "provided_csv = 'Tickers.csv'\n",
    "initial_investment = 1000000\n",
    "min_avg_daily_volume = 10000\n",
    "min_stock_count = 10\n",
    "max_stock_count = 20\n",
    "\n",
    "# Stores all valid US tickers as yfObjects!!!!\n",
    "us_stock_lst = []\n",
    "\n",
    "# Stores the closing price and volume of tickers\n",
    "all_price_df = pd.DataFrame()"
   ]
  },
  {
   "cell_type": "markdown",
   "metadata": {},
   "source": [
    "### Step #1: Filter out valid US tickers\n",
    "Use the threading technique to quickly filter out all valid US stock in the given CSV."
   ]
  },
  {
   "cell_type": "code",
   "execution_count": 3,
   "metadata": {},
   "outputs": [],
   "source": [
    "stocks_from_csv = pd.read_csv(provided_csv, header=None) # Use header=Noned to read in the first row\n",
    "stocks_lst = stocks_from_csv.iloc[:,0]\n",
    "stocks_lst = stocks_lst.unique().tolist() # Take only the unique values, remove duplicates"
   ]
  },
  {
   "cell_type": "code",
   "execution_count": 4,
   "metadata": {},
   "outputs": [],
   "source": [
    "# import the modules needed for threading\n",
    "import concurrent.futures\n",
    "\n",
    "# Clears the global variable in case of previous stored info (when re-executing cells)\n",
    "us_stock_lst = []\n",
    "\n",
    "# Add valid stocks to the us_stock_lst\n",
    "def filter_valid(ticker_name):\n",
    "    try:\n",
    "        ticker_yf = yf.Ticker(ticker_name) # Store as variable to optimize access time\n",
    "        if (ticker_yf.info['regularMarketPrice'] != None) and (ticker_yf.info['market'] == 'us_market'):\n",
    "            us_stock_lst.append(ticker_yf)\n",
    "\n",
    "    except requests.exceptions.RequestException as e:\n",
    "       return e\n",
    " \n",
    "# Function to call threading\n",
    "def runner():\n",
    "    threads= []\n",
    "    with concurrent.futures.ThreadPoolExecutor(max_workers=80) as executor:\n",
    "        for name in stocks_lst:\n",
    "            threads.append(executor.submit(filter_valid, name))\n",
    "\n",
    "# Calls function, us_stock_lst will be filled\n",
    "runner()"
   ]
  },
  {
   "cell_type": "code",
   "execution_count": 5,
   "metadata": {},
   "outputs": [
    {
     "data": {
      "text/plain": [
       "55"
      ]
     },
     "execution_count": 5,
     "metadata": {},
     "output_type": "execute_result"
    }
   ],
   "source": [
    "# A quick check of the content in the us_stock_lst\n",
    "len(us_stock_lst)"
   ]
  },
  {
   "cell_type": "markdown",
   "metadata": {},
   "source": [
    "### Step #2: Store the price and volume info of tickers in global dataframe\n",
    "\n",
    "Use threading to store the daily closing price and daily volume of all valid US ticker to global dataframe 'all_price_df'."
   ]
  },
  {
   "cell_type": "code",
   "execution_count": 6,
   "metadata": {},
   "outputs": [],
   "source": [
    "# Find the data of a particularly stock\n",
    "def ticker_to_df(ticker_yf):\n",
    "    # Access the ticker symbol of the ticker\n",
    "    symbol = ticker_yf.info['symbol']\n",
    "\n",
    "    # If the ticker is not yet included, we return its info\n",
    "    if symbol not in all_price_df:\n",
    "        temp_df = ticker_yf.history(start=start_date, end=end_date)[['Close', 'Volume']]\n",
    "        temp_df = temp_df.rename(columns={'Close' : symbol, 'Volume' : f'{symbol}_Vol'})\n",
    "        return temp_df\n",
    "    # Otherwise return an empty dataframe, so all_price_df will not be changed\n",
    "    return pd.DataFrame()\n",
    "\n",
    "# Use threading to update the global price dataframe\n",
    "def update_price_df(ticker_lst):\n",
    "    with concurrent.futures.ThreadPoolExecutor(max_workers=80) as executor:\n",
    "        results = executor.map(ticker_to_df, us_stock_lst)\n",
    "\n",
    "    # Load in the global dataframe\n",
    "    global all_price_df\n",
    "\n",
    "    # Update the global dataframe based on the statistic info of each ticker\n",
    "    for result in results:\n",
    "        all_price_df = pd.concat([all_price_df, result], axis=1)"
   ]
  },
  {
   "cell_type": "code",
   "execution_count": 7,
   "metadata": {},
   "outputs": [
    {
     "data": {
      "text/html": [
       "<div>\n",
       "<style scoped>\n",
       "    .dataframe tbody tr th:only-of-type {\n",
       "        vertical-align: middle;\n",
       "    }\n",
       "\n",
       "    .dataframe tbody tr th {\n",
       "        vertical-align: top;\n",
       "    }\n",
       "\n",
       "    .dataframe thead th {\n",
       "        text-align: right;\n",
       "    }\n",
       "</style>\n",
       "<table border=\"1\" class=\"dataframe\">\n",
       "  <thead>\n",
       "    <tr style=\"text-align: right;\">\n",
       "      <th></th>\n",
       "      <th>GOOG</th>\n",
       "      <th>GOOG_Vol</th>\n",
       "      <th>JPM</th>\n",
       "      <th>JPM_Vol</th>\n",
       "      <th>BMY</th>\n",
       "      <th>BMY_Vol</th>\n",
       "      <th>KO</th>\n",
       "      <th>KO_Vol</th>\n",
       "      <th>CMCSA</th>\n",
       "      <th>CMCSA_Vol</th>\n",
       "      <th>...</th>\n",
       "      <th>CVS</th>\n",
       "      <th>CVS_Vol</th>\n",
       "      <th>BA</th>\n",
       "      <th>BA_Vol</th>\n",
       "      <th>PEP</th>\n",
       "      <th>PEP_Vol</th>\n",
       "      <th>GM</th>\n",
       "      <th>GM_Vol</th>\n",
       "      <th>SPG</th>\n",
       "      <th>SPG_Vol</th>\n",
       "    </tr>\n",
       "    <tr>\n",
       "      <th>Date</th>\n",
       "      <th></th>\n",
       "      <th></th>\n",
       "      <th></th>\n",
       "      <th></th>\n",
       "      <th></th>\n",
       "      <th></th>\n",
       "      <th></th>\n",
       "      <th></th>\n",
       "      <th></th>\n",
       "      <th></th>\n",
       "      <th></th>\n",
       "      <th></th>\n",
       "      <th></th>\n",
       "      <th></th>\n",
       "      <th></th>\n",
       "      <th></th>\n",
       "      <th></th>\n",
       "      <th></th>\n",
       "      <th></th>\n",
       "      <th></th>\n",
       "      <th></th>\n",
       "    </tr>\n",
       "  </thead>\n",
       "  <tbody>\n",
       "    <tr>\n",
       "      <th>2021-10-18</th>\n",
       "      <td>2859.209961</td>\n",
       "      <td>828200</td>\n",
       "      <td>166.550003</td>\n",
       "      <td>12672900</td>\n",
       "      <td>56.939999</td>\n",
       "      <td>13320600</td>\n",
       "      <td>53.939999</td>\n",
       "      <td>15861800</td>\n",
       "      <td>53.220001</td>\n",
       "      <td>20106100</td>\n",
       "      <td>...</td>\n",
       "      <td>83.991959</td>\n",
       "      <td>4822100</td>\n",
       "      <td>216.979996</td>\n",
       "      <td>6553500</td>\n",
       "      <td>158.089996</td>\n",
       "      <td>3274200</td>\n",
       "      <td>56.889999</td>\n",
       "      <td>12667900</td>\n",
       "      <td>144.529999</td>\n",
       "      <td>3335500</td>\n",
       "    </tr>\n",
       "    <tr>\n",
       "      <th>2021-10-19</th>\n",
       "      <td>2876.439941</td>\n",
       "      <td>765800</td>\n",
       "      <td>168.570007</td>\n",
       "      <td>8053900</td>\n",
       "      <td>57.590000</td>\n",
       "      <td>9390200</td>\n",
       "      <td>54.150002</td>\n",
       "      <td>11068500</td>\n",
       "      <td>54.240002</td>\n",
       "      <td>15335000</td>\n",
       "      <td>...</td>\n",
       "      <td>84.399590</td>\n",
       "      <td>3833000</td>\n",
       "      <td>215.970001</td>\n",
       "      <td>5963400</td>\n",
       "      <td>160.100006</td>\n",
       "      <td>3125800</td>\n",
       "      <td>56.849998</td>\n",
       "      <td>10589000</td>\n",
       "      <td>142.839996</td>\n",
       "      <td>1709400</td>\n",
       "    </tr>\n",
       "    <tr>\n",
       "      <th>2021-10-20</th>\n",
       "      <td>2848.300049</td>\n",
       "      <td>897000</td>\n",
       "      <td>170.839996</td>\n",
       "      <td>8185600</td>\n",
       "      <td>58.070000</td>\n",
       "      <td>9010300</td>\n",
       "      <td>54.630001</td>\n",
       "      <td>12474800</td>\n",
       "      <td>54.709999</td>\n",
       "      <td>12658700</td>\n",
       "      <td>...</td>\n",
       "      <td>86.050003</td>\n",
       "      <td>5023300</td>\n",
       "      <td>216.169998</td>\n",
       "      <td>8485200</td>\n",
       "      <td>161.309998</td>\n",
       "      <td>3716500</td>\n",
       "      <td>57.669998</td>\n",
       "      <td>13399900</td>\n",
       "      <td>144.960007</td>\n",
       "      <td>1543800</td>\n",
       "    </tr>\n",
       "    <tr>\n",
       "      <th>2021-10-21</th>\n",
       "      <td>2855.610107</td>\n",
       "      <td>742500</td>\n",
       "      <td>169.500000</td>\n",
       "      <td>8415200</td>\n",
       "      <td>57.810001</td>\n",
       "      <td>7159000</td>\n",
       "      <td>54.349998</td>\n",
       "      <td>14388300</td>\n",
       "      <td>54.029999</td>\n",
       "      <td>13686600</td>\n",
       "      <td>...</td>\n",
       "      <td>86.860001</td>\n",
       "      <td>5347200</td>\n",
       "      <td>214.339996</td>\n",
       "      <td>8691500</td>\n",
       "      <td>159.179993</td>\n",
       "      <td>4164700</td>\n",
       "      <td>58.410000</td>\n",
       "      <td>11585400</td>\n",
       "      <td>143.960007</td>\n",
       "      <td>1367500</td>\n",
       "    </tr>\n",
       "    <tr>\n",
       "      <th>2021-10-22</th>\n",
       "      <td>2772.500000</td>\n",
       "      <td>1509100</td>\n",
       "      <td>171.779999</td>\n",
       "      <td>8817900</td>\n",
       "      <td>57.599998</td>\n",
       "      <td>6884500</td>\n",
       "      <td>54.450001</td>\n",
       "      <td>12828600</td>\n",
       "      <td>54.220001</td>\n",
       "      <td>14906900</td>\n",
       "      <td>...</td>\n",
       "      <td>87.519997</td>\n",
       "      <td>5035900</td>\n",
       "      <td>212.970001</td>\n",
       "      <td>7077600</td>\n",
       "      <td>159.970001</td>\n",
       "      <td>3240300</td>\n",
       "      <td>57.770000</td>\n",
       "      <td>11077600</td>\n",
       "      <td>145.139999</td>\n",
       "      <td>1217800</td>\n",
       "    </tr>\n",
       "  </tbody>\n",
       "</table>\n",
       "<p>5 rows × 110 columns</p>\n",
       "</div>"
      ],
      "text/plain": [
       "                   GOOG  GOOG_Vol         JPM   JPM_Vol        BMY   BMY_Vol  \\\n",
       "Date                                                                           \n",
       "2021-10-18  2859.209961    828200  166.550003  12672900  56.939999  13320600   \n",
       "2021-10-19  2876.439941    765800  168.570007   8053900  57.590000   9390200   \n",
       "2021-10-20  2848.300049    897000  170.839996   8185600  58.070000   9010300   \n",
       "2021-10-21  2855.610107    742500  169.500000   8415200  57.810001   7159000   \n",
       "2021-10-22  2772.500000   1509100  171.779999   8817900  57.599998   6884500   \n",
       "\n",
       "                   KO    KO_Vol      CMCSA  CMCSA_Vol  ...        CVS  \\\n",
       "Date                                                   ...              \n",
       "2021-10-18  53.939999  15861800  53.220001   20106100  ...  83.991959   \n",
       "2021-10-19  54.150002  11068500  54.240002   15335000  ...  84.399590   \n",
       "2021-10-20  54.630001  12474800  54.709999   12658700  ...  86.050003   \n",
       "2021-10-21  54.349998  14388300  54.029999   13686600  ...  86.860001   \n",
       "2021-10-22  54.450001  12828600  54.220001   14906900  ...  87.519997   \n",
       "\n",
       "            CVS_Vol          BA   BA_Vol         PEP  PEP_Vol         GM  \\\n",
       "Date                                                                       \n",
       "2021-10-18  4822100  216.979996  6553500  158.089996  3274200  56.889999   \n",
       "2021-10-19  3833000  215.970001  5963400  160.100006  3125800  56.849998   \n",
       "2021-10-20  5023300  216.169998  8485200  161.309998  3716500  57.669998   \n",
       "2021-10-21  5347200  214.339996  8691500  159.179993  4164700  58.410000   \n",
       "2021-10-22  5035900  212.970001  7077600  159.970001  3240300  57.770000   \n",
       "\n",
       "              GM_Vol         SPG  SPG_Vol  \n",
       "Date                                       \n",
       "2021-10-18  12667900  144.529999  3335500  \n",
       "2021-10-19  10589000  142.839996  1709400  \n",
       "2021-10-20  13399900  144.960007  1543800  \n",
       "2021-10-21  11585400  143.960007  1367500  \n",
       "2021-10-22  11077600  145.139999  1217800  \n",
       "\n",
       "[5 rows x 110 columns]"
      ]
     },
     "execution_count": 7,
     "metadata": {},
     "output_type": "execute_result"
    }
   ],
   "source": [
    "# Call the function to fill all_price_df\n",
    "update_price_df(us_stock_lst)\n",
    "\n",
    "# A quick check of the content in the all_price_df\n",
    "all_price_df.tail()"
   ]
  },
  {
   "cell_type": "markdown",
   "metadata": {},
   "source": [
    "### Step #3: Filter out tickers within date range based on daily average volume\n",
    "\n",
    "Iterates through each ticker in the 'us_stock_lst' and check if they are valid. Access the daily volume in 'all_price_df'."
   ]
  },
  {
   "cell_type": "code",
   "execution_count": 8,
   "metadata": {},
   "outputs": [],
   "source": [
    "# Finds the average daily volume of a stock\n",
    "def avg_daily_volume(ticker):\n",
    "    # Load the global price dataframe\n",
    "    global all_price_df\n",
    "\n",
    "    # Calculate and return the average volume\n",
    "    return all_price_df[f'{ticker}_Vol'].mean()\n",
    "    \n",
    "# Iterates through us_stock_lst and checks if the stock has\n",
    "# an average daily volume of at least the minimum given\n",
    "def volume_filter():\n",
    "    # Define a list to store the valid tickers\n",
    "    valid_stock_list = []\n",
    "\n",
    "    # Find the ticker that meets the criteria\n",
    "    for i in us_stock_lst:\n",
    "        symbol = i.info['symbol']\n",
    "\n",
    "        # Skip tickers that are listed after the start_date or delisted before the end_date\n",
    "        if all_price_df[symbol].isnull().values.any():\n",
    "            continue # Skip this ticker\n",
    "        # Filter based on average daily volumne\n",
    "        elif avg_daily_volume(i.info['symbol']) >= min_avg_daily_volume:\n",
    "            valid_stock_list.append(i)\n",
    "        \n",
    "    \n",
    "    # Return all valid stocks\n",
    "    return valid_stock_list\n",
    "\n",
    "# Find the stocks that meet the criteria\n",
    "filtered_stocks = volume_filter()"
   ]
  },
  {
   "cell_type": "code",
   "execution_count": 9,
   "metadata": {},
   "outputs": [
    {
     "data": {
      "text/plain": [
       "54"
      ]
     },
     "execution_count": 9,
     "metadata": {},
     "output_type": "execute_result"
    }
   ],
   "source": [
    "# A quick check of the content in the filtered_stocks\n",
    "len(filtered_stocks)"
   ]
  },
  {
   "cell_type": "markdown",
   "metadata": {},
   "source": [
    "## Part #2: Portfolio Construction"
   ]
  },
  {
   "cell_type": "markdown",
   "metadata": {},
   "source": [
    "### Step #4: Obtain the 20 most volatile stocks (based on Standard Deviation) \n",
    "Calculate the Standard Deviation of the returns of each stock in 'filtered_stocks' and find the 20 with the highest Standard Deviation. The parameter of 20 is specifically chosen since the maximum number of stocks to be included in a portfolio is 20, and thus we wish to only consider the most volatile 20 stocks (though not all will be included in the final portfolio)."
   ]
  },
  {
   "cell_type": "code",
   "execution_count": 10,
   "metadata": {},
   "outputs": [
    {
     "name": "stdout",
     "output_type": "stream",
     "text": [
      "The top 20 volatile tickers are:\n",
      " ['OXY', 'SLB', 'GM', 'COP', 'COF', 'BA', 'PYPL', 'AIG', 'SPG', 'AXP', 'BIIB', 'BAC', 'USB', 'BK', 'KMI', 'CAT', 'MS', 'AMZN', 'PFE', 'C']\n"
     ]
    }
   ],
   "source": [
    "# Variable to store the number of most volatile stocks we wish to find\n",
    "volatile_sample = max_stock_count\n",
    "\n",
    "# ticker_lst will always be filtered_stocks in yfObjects\n",
    "def find_volatile (stock_count, ticker_lst): \n",
    "    # Load in global price df\n",
    "    global all_price_df\n",
    "\n",
    "    # Find the list of filtered symbols\n",
    "    ticker_symbol = []\n",
    "    for i in ticker_lst:\n",
    "        ticker_symbol.append(i.info['symbol'])\n",
    "\n",
    "    share_prices = all_price_df[ticker_symbol]\n",
    "\n",
    "    #Convert our dataframe into simply one column with standard deviation \n",
    "    sd_of_shares = share_prices.pct_change().std()\n",
    "\n",
    "    #Have to convert sd_of_shares into a dataframe\n",
    "    sd_df = pd.DataFrame(sd_of_shares)\n",
    "\n",
    "    #Find the 20 largest standard deviations meaning the most volatile\n",
    "    column = sd_df[0]\n",
    "    largest_names = []\n",
    "    for i in range (stock_count):\n",
    "        largest_names.append(column.idxmax())\n",
    "        column = column.drop([column.idxmax()])\n",
    "\n",
    "    return largest_names\n",
    "\n",
    "largest_volatile = find_volatile(volatile_sample, filtered_stocks)\n",
    "\n",
    "# Display\n",
    "print('The top 20 volatile tickers are:\\n', largest_volatile)"
   ]
  },
  {
   "cell_type": "markdown",
   "metadata": {},
   "source": [
    "### Step #5: Find the portfolio of 10 stocks with the highest correlation\n",
    "Take the first 15 (or all if there is less than 15) volatile stocks, and iterate through all portfolio combinations of 10 stocks to find the portfolio with the highest average correlation.\n",
    "\n",
    "The average correlation is simply the average value of each pair-wise correlation of the stocks in a portfolio. This helps us to find a portfolio that is highly correlated, apart from being very volatile. Thus, the volatility in each stock will not cancel out, for instance, when one stock fluctuates in an upward trend and the other in the opposite direction.\n",
    "\n",
    "The rationale behind taking only the first 15 tickers is that first of all, we want tickers that are very volatile. More importantly, this helps to reduce computation time. Specifically, choosing a portfolio of 10 tickers from 15 tickers would yield 3003 combinations (15 choose 10). On other hand, if we choose a portfolio of 10 from all 20 tickers would require 184756 combinations (20 choose 10), which takes a lot more time."
   ]
  },
  {
   "cell_type": "code",
   "execution_count": 11,
   "metadata": {},
   "outputs": [],
   "source": [
    "### Find all possible combinations of n tickers within the ticker_lst using a recursive function\n",
    "def combinations(arr, length, pre_arr=[]):\n",
    "    # If the store arr reaches the length required, return it\n",
    "    if len(pre_arr) == length:\n",
    "        return [pre_arr]\n",
    "    \n",
    "    combs = []\n",
    "    # Add each element to the previous array\n",
    "    for i in range (len(arr)):\n",
    "        cur_copy = pre_arr.copy()\n",
    "        cur_copy.append(arr[i])\n",
    "        # Find combinations that yields by adding the remaining ticker spots to stored array of chosen tickers\n",
    "        combs += combinations(arr[i+1:], length, cur_copy)\n",
    "    return combs"
   ]
  },
  {
   "cell_type": "code",
   "execution_count": 12,
   "metadata": {},
   "outputs": [],
   "source": [
    "# Find the correlation matrix of all 20 stocks\n",
    "price_df = all_price_df[largest_volatile]\n",
    "price_df = price_df[(start_date <= price_df.index) & (price_df.index <= end_date)]\n",
    "df_corr = price_df.corr()\n",
    "\n",
    "# Function that finds the average correlation between stocks in a given portfolio\n",
    "def find_avg_corr(ticker_lst):   \n",
    "    # Calculate the avg corr\n",
    "    sum_corr = 0\n",
    "    sum_count = 0\n",
    "    # Iterate through the pair_wise correlation and summing it up\n",
    "    for i in range (len(ticker_lst)):\n",
    "        for j in range (i+1, len(ticker_lst)):\n",
    "            sum_corr += df_corr.loc[ticker_lst[i],ticker_lst[j]]\n",
    "            sum_count += 1\n",
    "    \n",
    "    # Calculate the return the avg correlation\n",
    "    return (sum_corr/sum_count)\n"
   ]
  },
  {
   "cell_type": "code",
   "execution_count": 13,
   "metadata": {},
   "outputs": [],
   "source": [
    "# Find the combinaton of tickers with the maximum avg correlation\n",
    "def find_max_correlation(ticker_lst, result_size = min_stock_count):\n",
    "    # Store the maximum value of corr and the portfolio\n",
    "    max_avg_corr = -1\n",
    "    max_corr_ticker_lst = np.array([])\n",
    "    \n",
    "    # Load the global price dataframe\n",
    "    global all_price_df\n",
    "    \n",
    "    # Convert list to array and find the combinations\n",
    "    comb = combinations(np.array(ticker_lst), result_size)\n",
    "        \n",
    "    # Find the comb with the maximum average correlation\n",
    "    for i in comb:\n",
    "        avg_corr = find_avg_corr(i)\n",
    "        if avg_corr > max_avg_corr:\n",
    "            max_avg_corr = avg_corr\n",
    "            max_corr_ticker_lst = i\n",
    "    \n",
    "    # Return the result sample\n",
    "    return max_avg_corr, max_corr_ticker_lst"
   ]
  },
  {
   "cell_type": "code",
   "execution_count": 14,
   "metadata": {},
   "outputs": [
    {
     "name": "stdout",
     "output_type": "stream",
     "text": [
      "The maximum avg correlation is: 0.6184563708330199\n",
      "The portfolio with maximum avg correlation is: ['OXY', 'SLB', 'COP', 'COF', 'AIG', 'SPG', 'AXP', 'BAC', 'USB', 'BK']\n"
     ]
    }
   ],
   "source": [
    "# Take the first 15 most volatile stocks, or all if there is not enough for 15\n",
    "take_ticker_up_to = min(len(largest_volatile), 15) \n",
    "ticker_lst = largest_volatile[0 : take_ticker_up_to]\n",
    "\n",
    "# Find the combination of tickers with maximum correlation\n",
    "max_avg_corr, max_corr_ticker_lst = find_max_correlation(ticker_lst)\n",
    "\n",
    "# Display\n",
    "print('The maximum avg correlation is:', max_avg_corr)\n",
    "print('The portfolio with maximum avg correlation is:', max_corr_ticker_lst)"
   ]
  },
  {
   "cell_type": "markdown",
   "metadata": {},
   "source": [
    "### Step #6: Find the distributions of the weight that maximizes portfolio Standard Deviation\n",
    "\n",
    "Use an exhaustive method of finding the optimal weighting, that is to test many combinations of weighting and find the one with the highest Portfolio Standard Deviation.\n",
    "\n",
    "First, we vary the weighting by increments from the min_weight to the max_weight. Our default 'number_of_increment' will be 8 for a suitable computation time.\n",
    "\n",
    "Moreover, we only vary the weighting of the first 5 (stored in 'varied_count') volatile tickers, and the remaining tickers will have a default weighting of min_weight. The number of combinations of weighting is equal to the varied_count to the power of number_of_increment. Therefore, only varying the first 5 yields a total of 5^8 = 390625 combinations, which is far faster than varying all 10 weightings, which takes 10^8 = 100000000."
   ]
  },
  {
   "cell_type": "code",
   "execution_count": 15,
   "metadata": {},
   "outputs": [],
   "source": [
    "### Define important variables\n",
    "ticker_count = len(max_corr_ticker_lst) # Should be 10\n",
    "varied_count = int(ticker_count / 2) # Should be 5\n",
    "min_weight = 1/(2*ticker_count) \n",
    "max_weight = 0.35\n",
    "number_of_increment = 8\n",
    "increment = (max_weight - min_weight)/number_of_increment"
   ]
  },
  {
   "cell_type": "code",
   "execution_count": 16,
   "metadata": {},
   "outputs": [],
   "source": [
    "### Define a function for calculation of portfolio Standard Deviation\n",
    "def portfolio_cal(tickers, weights, start_date, end_date, investment=100000):\n",
    "    # Load the global variable price dataframe\n",
    "    global all_price_df\n",
    "    \n",
    "    # Store the size of tickers as a variable\n",
    "    ticker_count = len(tickers)\n",
    "    \n",
    "    # Store the price information of the tickers in a new df\n",
    "    port_df = all_price_df[(start_date <= all_price_df.index) & (all_price_df.index <= end_date)][tickers]\n",
    "    \n",
    "    # Find the value of each ticker using the shares brought on the first date\n",
    "    for i in range (ticker_count):\n",
    "        shares = (investment * weights[i] / port_df.loc[start_date, tickers[i]])\n",
    "        port_df[tickers[i]] = port_df[tickers[i]] * shares\n",
    "\n",
    "    # Calculate the portfolio value\n",
    "    port_df['Portfolio_Value'] = port_df[tickers].sum(axis=1)\n",
    "\n",
    "    # Calculate percentage returns\n",
    "    port_df['Percent_Return'] = port_df['Portfolio_Value'].pct_change() * 100\n",
    "\n",
    "    # Calculate and return the portfolio standard deviation\n",
    "    return port_df[['Portfolio_Value', 'Percent_Return']]"
   ]
  },
  {
   "cell_type": "code",
   "execution_count": 17,
   "metadata": {},
   "outputs": [],
   "source": [
    "# Define variables\n",
    "all_std = []\n",
    "max_std = -1\n",
    "optimal_weights = []\n",
    "check_count = 0\n",
    "\n",
    "# Recursion: update max_std with the maximum recorded std, and fill in the list of all_std\n",
    "def find_weight(cur_index, weights, remaining_weight):\n",
    "    # Load global varables\n",
    "    global ticker_count, varied_count, all_std, max_std, optimal_weights, check_count\n",
    "    \n",
    "    # Already assigned last ticker's weights\n",
    "    if (cur_index == ticker_count):\n",
    "        if (remaining_weight != 0): return\n",
    "\n",
    "        # Display for confirmation that code works\n",
    "        check_count += 1\n",
    "        if (check_count % 1000 == 0): \n",
    "            print(f'Already Checked {check_count} Weighting Distributions.')\n",
    "\n",
    "        # Calculate portfolio Std\n",
    "        port_df = portfolio_cal(max_corr_ticker_lst, weights, start_date, end_date)\n",
    "        std = port_df['Percent_Return'].std()\n",
    "        \n",
    "        # Store and find max std\n",
    "        all_std.append(std)\n",
    "        if (std > max_std):\n",
    "            max_std = std\n",
    "            optimal_weights = weights\n",
    "        \n",
    "        # End recursion since this is last index (aka last ticker to assign weights)\n",
    "        return\n",
    "    \n",
    "    # The weight for the remaining ticker will not be varied\n",
    "    if (cur_index >= varied_count):\n",
    "        find_weight(cur_index + 1, weights + [min_weight], remaining_weight)\n",
    "    # ELSE: assign weighting for this stock at the cur_index\n",
    "    else: \n",
    "        # Store the extra weight given to this stock beyond the minimum weight\n",
    "        cur_extra_weight = 0\n",
    "\n",
    "        # Make sure the extra_weight will not cause to stock to excess max_weight\n",
    "        while (cur_extra_weight <= max_weight - min_weight):\n",
    "            # Stores the weight given to the current ticker, starts at min_weight\n",
    "            ticker_weight = min_weight\n",
    "\n",
    "            # Check if the extra weight given will exceed the remaining distributable weights\n",
    "            if (cur_extra_weight > remaining_weight):\n",
    "                ticker_weight += remaining_weight\n",
    "\n",
    "                # Recursively calls the function to assign weights for the next ticker\n",
    "                find_weight(cur_index + 1, weights + [ticker_weight], 0)\n",
    "                break\n",
    "        \n",
    "            # ELSE: extra weight does not exceed the remaining weight to be distributed\n",
    "            ticker_weight += cur_extra_weight\n",
    "            \n",
    "            # Recursively calls the function to assign weights for the next ticker\n",
    "            find_weight(cur_index + 1, weights + [ticker_weight], remaining_weight - cur_extra_weight)\n",
    "\n",
    "            # Increments for next iteration\n",
    "            cur_extra_weight += increment"
   ]
  },
  {
   "cell_type": "code",
   "execution_count": 18,
   "metadata": {},
   "outputs": [
    {
     "name": "stdout",
     "output_type": "stream",
     "text": [
      "Already Checked 1000 Weighting Distributions.\n",
      "Already Checked 2000 Weighting Distributions.\n",
      "Already Checked 3000 Weighting Distributions.\n"
     ]
    }
   ],
   "source": [
    "# Find the best weighting distribution, should only take 30 to 60 seconds\n",
    "find_weight(0, [], 1 - ticker_count * (min_weight))"
   ]
  },
  {
   "cell_type": "code",
   "execution_count": 19,
   "metadata": {},
   "outputs": [
    {
     "name": "stdout",
     "output_type": "stream",
     "text": [
      "The highest recorded std is 2.1154257512212986\n",
      "The ticker in the portfolio and corresponding weights:\n"
     ]
    },
    {
     "data": {
      "text/plain": [
       "(['OXY', 'SLB', 'COP', 'COF', 'AIG', 'SPG', 'AXP', 'BAC', 'USB', 'BK'],\n",
       " [0.35, 0.25, 0.05, 0.05, 0.05, 0.05, 0.05, 0.05, 0.05, 0.05])"
      ]
     },
     "execution_count": 19,
     "metadata": {},
     "output_type": "execute_result"
    }
   ],
   "source": [
    "# Display of results\n",
    "print('The highest recorded std is', max_std)\n",
    "print('The ticker in the portfolio and corresponding weights:')\n",
    "max_corr_ticker_lst, optimal_weights"
   ]
  },
  {
   "cell_type": "markdown",
   "metadata": {},
   "source": [
    "## Part #3: Proof and Analysis\n"
   ]
  },
  {
   "cell_type": "markdown",
   "metadata": {},
   "source": [
    "### Step #7: Graph the Portfolio Standard Deviation for different weighting distributions\n",
    "\n",
    "We will graph all the recorded Portfolio Standard Deviation in a histogram to show how volatile the portfolio would be if its weights are distributed otherwise.\n",
    "\n",
    "**NOTE:** This graph should exhibit a normal distribution (higher frequency in the middle; less on the sides). Therefore, if the weight is chosen randomly, it is very unlikely that the Portfolio Standard Deviation is maximized. This proves that the exhaustive method of weighting distribution is necessary to find the best portfolio, as outlined by the red line."
   ]
  },
  {
   "cell_type": "code",
   "execution_count": 20,
   "metadata": {},
   "outputs": [
    {
     "data": {
      "image/png": "[encoded data removed]",
      "text/plain": [
       "<Figure size 1080x720 with 1 Axes>"
      ]
     },
     "metadata": {
      "needs_background": "light"
     },
     "output_type": "display_data"
    }
   ],
   "source": [
    "### Use a histogram to show the std of other weightings\n",
    "# Create the interval classes\n",
    "bins_max = max(all_std)\n",
    "bins_min = min(all_std)\n",
    "bins_intervals = 100\n",
    "bins = np.linspace(bins_min, bins_max, bins_intervals)\n",
    "\n",
    "# Create the histogram\n",
    "plt.rcParams[\"figure.figsize\"] = (15,10)\n",
    "plt.hist(all_std, bins, color='b', label='std')\n",
    "plt.axvline(x=max_std, color='r', label='max std', linewidth=3)\n",
    "\n",
    "# Formatting\n",
    "plt.title(\"Distribution of Std of Different Weighing Combinations\")\n",
    "plt.xlabel(\"Standard Deviation (in %)\")\n",
    "plt.ylabel(\"Frequency\")\n",
    "plt.legend(loc='best')\n",
    "\n",
    "# Display\n",
    "plt.show()"
   ]
  },
  {
   "cell_type": "markdown",
   "metadata": {},
   "source": [
    "### Step #9: Graphing the change in Portfolio Standard Deviation as we add more stocks into our portfolio\n",
    "\n",
    "Some may question why we only chose 10 stocks in our portfolio, since in theory, if we chose 20 highly correlated stocks, the standard deviation and overall risk of the portfolio should be amplified by the similar stock movement. However, this is not the case due to diversification which we will exemplify in the graph below."
   ]
  },
  {
   "cell_type": "code",
   "execution_count": 21,
   "metadata": {},
   "outputs": [
    {
     "data": {
      "image/png": "[encoded data removed]",
      "text/plain": [
       "<Figure size 1440x1080 with 1 Axes>"
      ]
     },
     "metadata": {
      "needs_background": "light"
     },
     "output_type": "display_data"
    }
   ],
   "source": [
    "# Take a copy of the filtered stocks, with just the stock names\n",
    "rest_of_stocks_name = []\n",
    "for i in filtered_stocks:\n",
    "    rest_of_stocks_name.append(i.info['symbol'])\n",
    "\n",
    "# Filter out stocks already included max_corr_lst, and store the remaining\n",
    "for y in range (len (max_corr_ticker_lst)):\n",
    "    for u in range (len (rest_of_stocks_name)):\n",
    "        if (max_corr_ticker_lst[y] == rest_of_stocks_name[u]):\n",
    "            rest_of_stocks_name.pop(u)\n",
    "            break # Break this loop, and move on to the next stock\n",
    "\n",
    "#Array that contains all of the stocks names that will be used later on for reference\n",
    "all_stock_names = rest_of_stocks_name + max_corr_ticker_lst\n",
    "\n",
    "#Begin to try to make the code block below recursive\n",
    "SD_array = []\n",
    "\n",
    "# Find the std of the portfolio, store in in SD_array for plotting\n",
    "def find_std(dataframe, num_list_of_stocks):\n",
    "    portfolio_std = dataframe.pct_change().std()[num_list_of_stocks-1] * 100\n",
    "    SD_array.append(portfolio_std)\n",
    "\n",
    "def collect_multiple_std(initial_10, stocks_add_on): #stocks_add_on needs to be rest_of_stocks_name\n",
    "    global all_price_df\n",
    "    \n",
    "    # Get the dataframe consisting of the initial 10 stocks\n",
    "    shares_10_df = all_price_df[initial_10]\n",
    "\n",
    "    # First add the portfolio of our chosen 10 stocks, assuming for evenly distributed weights\n",
    "    equal_weight = [1/len(initial_10)] * len(initial_10)\n",
    "    intial_10_std = portfolio_cal(initial_10, equal_weight, start_date, end_date)['Percent_Return'].std()\n",
    "    SD_array.append(intial_10_std)\n",
    "\n",
    "    # Now make the loop to make more stocks\n",
    "    current_frame_array = [shares_10_df.copy()]\n",
    "\n",
    "    for g in range (len (stocks_add_on)):\n",
    "        next_frame = (pd.DataFrame(all_price_df.loc[:,stocks_add_on[g]]))\n",
    "        current_frame_array.append(next_frame)\n",
    "        current_frame = pd.concat(current_frame_array, join='inner',axis=1)\n",
    "        \n",
    "        #Amount of money per stock\n",
    "        money_per_stock = 100000 / len(current_frame.columns)\n",
    "    \n",
    "        #Number of shares\n",
    "        num_shares = []\n",
    "        for h in range(len(current_frame.columns)):\n",
    "            num_shares.append(money_per_stock / current_frame.iloc[0,h])\n",
    "        \n",
    "        #Create the portfolio value\n",
    "        portfolio_value = 0\n",
    "        for k in range(len(current_frame.columns)):\n",
    "            portfolio_value = portfolio_value + num_shares[k]*current_frame.iloc[:,k]  \n",
    "\n",
    "        data = {'Date': current_frame.index,\n",
    "                'Portfolio_Value': portfolio_value}\n",
    "        \n",
    "        portfolio_frame = pd.DataFrame(data)\n",
    "        \n",
    "        portfolio_dataframe = pd.concat([shares_10_df, portfolio_frame], join='inner', axis=1)\n",
    "        \n",
    "        #Drop the duplicate column\n",
    "        portfolio_dataframe.drop(columns=['Date'], inplace=True)  \n",
    "\n",
    "        find_std(portfolio_dataframe, len(portfolio_dataframe.columns))\n",
    "        \n",
    "collect_multiple_std(max_corr_ticker_lst, rest_of_stocks_name)\n",
    "\n",
    "nums = []\n",
    "for k in range (len(SD_array)):\n",
    "    nums.append(k+1)\n",
    "\n",
    "# Graphing out portion\n",
    "plt.figure(figsize=(20,15))\n",
    "\n",
    "plt.plot(nums, SD_array, color='b', label='Standard Deviaiton')\n",
    "plt.legend(loc='best')\n",
    "#Plot where our standard deviaiton will be if we had 20 stocks in our portfolio\n",
    "plt.axvline(x=20, color='r', label='Standard Deviation for 20 portfolio stock')\n",
    "plt.title('Standard Deviation of the Percentage Return as more stocks are added into an equally weighted portfolio from our initial 10 most voatile stocks')\n",
    "plt.xlabel('Number of additional stocks')\n",
    "plt.ylabel('Standrad Deviaiton (%)')\n",
    "\n",
    "# Display\n",
    "plt.show()"
   ]
  },
  {
   "cell_type": "markdown",
   "metadata": {},
   "source": [
    "The graph above exemplifies an equally weighted portfolio where each stock is allocated an equal amount of money. Hence, in a portfolio with n shares, each stock would be weighted 100/n %. As we move across the x-axis, more stocks are added to the portfolio.\n",
    "\n",
    "As we can see in the graph above, as more stocks are added to a portfolio, the overall standard deviation decreases exponentially. Note that the standard deviation for a portfolio containing 20 randomly selected stocks is almost half of a portfolio containing only 10 stocks. Such phenomenon occurs due to the effects of diversification; by mixing a wide variety of stocks from all different industries, the portfolio is limiting its exposure to the movements of any single stock. In addition to the daily price movement, diversification protects the portfolio from a variety of risks, including business risk in a particular industry, default risk for companies that are on the fringe, and non-systematic risk related to company-specific news. As more stocks are added to the portfolio, the portfolio becomes less biased to a particular company, industry, or country. \n",
    "\n",
    "However, for our portfolio we want it to be as risky and volatile as possible. For this reason, we want our portfolio to be as exposed as possible to the various risks listed earlier. Business risks were taken into consideration by calculating the correlation of the portfolio; stocks that come from the same industry typically have a high correlation and our algorithm searches for the 10 most highly correlated stocks. Non-systematic risks were factored into our portfolio by optimally assigning weighting to each stock to capitalize on its abnormal fluctuations. By doing so, our portfolio is heavily exposed to any fraud, company drama, or CEO scandal related to 1 company which induces volatility. For example, if our algorithm weighted a company such as Tesla 35%, the volatile share price of Tesla induced by an erratic CEO, highly competitive industry, and heavily investigated firm will be reflected in our portfolio. Default risk was not taken into consideration due to the fact that a company that is on the verge of defaulting on their debt most likely has very little volatility; given the poor state of the company, nobody wants to purchase the stock resulting in a relatively low fixated price.\n",
    "\n",
    "In the ways above, our portfolio has taken into consideration the various risks that induce volatility in a portfolio."
   ]
  },
  {
   "cell_type": "markdown",
   "metadata": {},
   "source": [
    "To demonstrate the riskiness of our portfolio, we will compare it to other indexes and portfolio by calculating the Beta value. Given that we want the highest volatility possible, we wish to get as high of a Beta Value as possible."
   ]
  },
  {
   "cell_type": "markdown",
   "metadata": {},
   "source": [
    "### Step #10: Beta with S&P 500\n",
    "\n",
    "We will compare the Beta of our portfolio with reference to the S&P500. Theoretically, our beta should be higher than 1, signaling its volatility when compared to the broader market."
   ]
  },
  {
   "cell_type": "code",
   "execution_count": 22,
   "metadata": {},
   "outputs": [
    {
     "name": "stdout",
     "output_type": "stream",
     "text": [
      "               Our_Portfolio     ^GSPC\n",
      "Our_Portfolio       8.586467  1.614481\n",
      "^GSPC               1.614481  1.000000\n",
      "The Beta of our portfolio is:  1.6144809507338866\n",
      "This means our portfolio is  61.448095073388664 % more volatile than the S&P500\n"
     ]
    }
   ],
   "source": [
    "#The portfolio that we created\n",
    "Our_portfolio = portfolio_cal(max_corr_ticker_lst, optimal_weights, start_date, end_date)\n",
    "\n",
    "# Using the S&P 500 as the market index\n",
    "MarketIndex = '^GSPC'\n",
    "\n",
    "# Use a new df to store the portfolio value and the market value\n",
    "prices = pd.DataFrame(Our_portfolio['Portfolio_Value'])\n",
    "prices.columns = ['Our_Portfolio']\n",
    "MarketIndex_hist = yf.Ticker(MarketIndex).history(start=start_date, end=end_date)\n",
    "prices[MarketIndex] = MarketIndex_hist['Close']\n",
    "\n",
    "# Calculate the daily returns\n",
    "daily_returns = prices.pct_change()\n",
    "daily_returns.drop(index = daily_returns.index[0], inplace=True)\n",
    "\n",
    "# Calculat the market variance and beta\n",
    "MarketVar = daily_returns[MarketIndex].var()\n",
    "Beta = daily_returns.cov()/MarketVar\n",
    "\n",
    "# Display of statistics\n",
    "print(Beta)\n",
    "print('The Beta of our portfolio is: ', Beta.iat[0,1])\n",
    "print(\"This means our portfolio is \",(Beta.iat[0,1]-1)*100,\"% more volatile than the S&P500\")"
   ]
  },
  {
   "cell_type": "markdown",
   "metadata": {},
   "source": [
    "From the Beta value above, our portfolio is significantly more volatile than the S&P500 index. This means that in comparison to the overall market, our portfolio is more volatile, which is a good indicator.\n",
    "\n",
    "This value is in line with diversification as the S&P500 is constituted of 500 different shares while our portfolio is only constituted of 10."
   ]
  },
  {
   "cell_type": "markdown",
   "metadata": {},
   "source": [
    "### Step #11: Calculate the Beta between our portfolio and an equally weighted portfolio including all valid stocks.\n",
    "\n",
    "We will create a portfolio of all given valid US tickers with equally distributed weights. This will serve as another benchmark of the market, much like the S&P 500. This analysis is necessary because we need to show that our chosen portfolio outperforms the market of all stocks provided, thus proving our selection of stocks is effective."
   ]
  },
  {
   "cell_type": "code",
   "execution_count": 23,
   "metadata": {},
   "outputs": [
    {
     "name": "stdout",
     "output_type": "stream",
     "text": [
      "                      Our_Portfolio  Equal_Weighted_Index\n",
      "Our_Portfolio              7.924285              2.117299\n",
      "Equal_Weighted_Index       2.117299              1.000000\n",
      "The Beta of our portfolio is:  2.1172994208825435\n",
      "This means our portfolio is  111.72994208825435 % more volatile than the equally weighted index including all valid stocks\n"
     ]
    }
   ],
   "source": [
    "# Function that creates a equally weighted portfolio given the ticker list\n",
    "def make_equal_weighted_portfolio(list_of_stocks):\n",
    "    # Load the global dataframe\n",
    "    global all_price_df\n",
    "\n",
    "    closing_prices_of_stocks = []\n",
    "    for g in list_of_stocks:\n",
    "        closing_prices_of_stocks.append(pd.DataFrame(all_price_df.loc[:,g])) #converted to just a loc\n",
    "\n",
    "    # A dataframe that contains the price of all considered tickers\n",
    "    pwindex = pd.concat(closing_prices_of_stocks, join='inner', axis=1)\n",
    "\n",
    "    amount_per_stock = 100000 / len(pwindex.columns)\n",
    "\n",
    "    # Calculating the shares purchased for each stock\n",
    "    num_shares = []\n",
    "    for r in range (len(pwindex.columns)):\n",
    "        num_shares.append(amount_per_stock/pwindex.iloc[0,r])\n",
    "    \n",
    "    # Calculating the portfolio value\n",
    "    portfolio_values = []\n",
    "    for i in range (len (pwindex.index)):\n",
    "        p=0\n",
    "        for u in range (len (pwindex.columns)):\n",
    "            p = p + pwindex.iloc[i,u] * num_shares[u]\n",
    "        portfolio_values.append (p)\n",
    "    \n",
    "    data = {'Date': pwindex.index,\n",
    "            'Value': portfolio_values}\n",
    "\n",
    "    data_df = pd.DataFrame(data)\n",
    "    data_df.set_index('Date', inplace=True)\n",
    "\n",
    "    return data_df\n",
    "\n",
    "# Calculate the equally-weight portfolio consisting of all valid stocks\n",
    "data_df = make_equal_weighted_portfolio(all_stock_names)\n",
    "\n",
    "# Reformatting columns, for later output purposes\n",
    "prices = pd.DataFrame(Our_portfolio['Portfolio_Value'])\n",
    "prices.columns = ['Our_Portfolio']\n",
    "prices['Equal_Weighted_Index'] = data_df['Value']\n",
    "\n",
    "# Calculate the market variance and Beta\n",
    "daily_returns = prices.pct_change()\n",
    "daily_returns.drop(index = daily_returns.index[0], inplace=True)\n",
    "MarketVar = daily_returns['Equal_Weighted_Index'].var()\n",
    "Beta = daily_returns.cov()/MarketVar\n",
    "\n",
    "# Display\n",
    "print(Beta)\n",
    "print('The Beta of our portfolio is: ', Beta.iat[0,1])\n",
    "print(\"This means our portfolio is \",(Beta.iat[0,1]-1)*100,\"% more volatile than the equally weighted index including all valid stocks\")"
   ]
  },
  {
   "cell_type": "markdown",
   "metadata": {},
   "source": [
    "As we notice from the Beta calculation above, our portfolio should be significantly more volatile than an equally weighted portfolio including all valid stocks from the CSV file."
   ]
  },
  {
   "cell_type": "markdown",
   "metadata": {},
   "source": [
    "### Step #12: Beta in reference to the price-weighted index of given stocks\n",
    "\n",
    "Now we create another benchmark portfolio of all provided tickers such that the portfolio is price weighted. Similar arguments apply, which is to demonstrate the optimal characteristics of our final chosen portfolio."
   ]
  },
  {
   "cell_type": "code",
   "execution_count": 24,
   "metadata": {},
   "outputs": [
    {
     "name": "stdout",
     "output_type": "stream",
     "text": [
      "                      Our_Portfolio  Price_Weighted_Index\n",
      "Our_Portfolio              6.336502              1.131761\n",
      "Price_Weighted_Index       1.131761              1.000000\n",
      "The Beta of our portfolio is:  1.1317610082960403\n",
      "This means our portfolio is  13.176100829604032 % more volatile than the price weighted index including all valid stocks\n"
     ]
    }
   ],
   "source": [
    "closing_prices_of_stocks = []\n",
    "for g in all_stock_names:\n",
    "    closing_prices_of_stocks.append(pd.DataFrame(all_price_df.loc[:,g]))\n",
    "\n",
    "# A dataframe that contains the price of all considered tickers\n",
    "pwindex = pd.concat(closing_prices_of_stocks, join='inner', axis=1)\n",
    "\n",
    "# Calculation of the index\n",
    "pwindex['PWIndex_Value'] = pwindex.sum(axis=1)\n",
    "pwindex['PWIndex_Value'] /= (len(pwindex.columns)-1)\n",
    "\n",
    "# Reformatting columns, for later output purposes\n",
    "prices = pd.DataFrame(Our_portfolio['Portfolio_Value'])\n",
    "prices.columns = ['Our_Portfolio']\n",
    "prices['Price_Weighted_Index'] = pwindex['PWIndex_Value']\n",
    "\n",
    "# Calculate the market variance and Beta\n",
    "daily_returns = prices.pct_change()\n",
    "daily_returns.drop(index = daily_returns.index[0], inplace=True)\n",
    "MarketVar = daily_returns['Price_Weighted_Index'].var()\n",
    "Beta = daily_returns.cov()/MarketVar\n",
    "\n",
    "# Display\n",
    "print(Beta)\n",
    "print('The Beta of our portfolio is: ', Beta.iat[0,1])\n",
    "print(\"This means our portfolio is \",(Beta.iat[0,1]-1)*100,\"% more volatile than the price weighted index including all valid stocks\")"
   ]
  },
  {
   "cell_type": "markdown",
   "metadata": {},
   "source": [
    "In a price-weighted index, there is a possibility that some tickers will have a weighting greater than 35% due to the fact that the weighting is determined by a share's price. For instance, if one of our valid stocks was Berkshire Hathaway, our portfolio value will be single-handedly influenced by Hathaway given its massive price and weighting. \n",
    "\n",
    "Despite the unequal weighting with no limitation, our portfolio was still more volatile exemplifying the high correlation of stocks in our portfolio; if our stocks were not highly correlated, then the percentage of price change in a single heavily weighted stock should outweigh the overall percent change in our portfolio."
   ]
  },
  {
   "cell_type": "markdown",
   "metadata": {},
   "source": [
    "### Step #13: Beta between our portfolio with varied weight versus when it is equally weighted\n",
    "\n",
    "Here, we will hypothetically create a market, such that it is represented by an equally weighted portfolio of the 10 chosen stocks. Hence, we will evaluate our varied-weighted portfolio against this benchmark, to demonstrate the benefit of dynamically varying the weights."
   ]
  },
  {
   "cell_type": "code",
   "execution_count": 25,
   "metadata": {},
   "outputs": [
    {
     "name": "stdout",
     "output_type": "stream",
     "text": [
      "                         Our_Portfolio  Equal_Weighted_Index_10\n",
      "Our_Portfolio                 1.726386                 1.254586\n",
      "Equal_Weighted_Index_10       1.254586                 1.000000\n",
      "The Beta of our portfolio is:  1.254586297632166\n",
      "This means our portfolio is  25.4586297632166 % more volatile than the equally weighted index only including the 10 stocks chosen for our portfolio\n"
     ]
    }
   ],
   "source": [
    "### Compare Beta between our portfolio and an equally weighted 10 portfolio\n",
    "equal_10 = make_equal_weighted_portfolio(max_corr_ticker_lst)\n",
    "\n",
    "# Reformatting columns, for later output purposes\n",
    "prices = pd.DataFrame(Our_portfolio['Portfolio_Value'])\n",
    "prices.columns = ['Our_Portfolio']\n",
    "prices['Equal_Weighted_Index_10'] = equal_10['Value']\n",
    "\n",
    "# Calculate the market variance and Beta\n",
    "daily_returns = prices.pct_change()\n",
    "daily_returns.drop(index = daily_returns.index[0], inplace=True)\n",
    "MarketVar = daily_returns['Equal_Weighted_Index_10'].var()\n",
    "Beta = daily_returns.cov()/MarketVar\n",
    "\n",
    "# Display\n",
    "print(Beta)\n",
    "print('The Beta of our portfolio is: ', Beta.iat[0,1])\n",
    "print(\"This means our portfolio is \",(Beta.iat[0,1]-1)*100,\"% more volatile than the equally weighted index only including the 10 stocks chosen for our portfolio\")"
   ]
  },
  {
   "cell_type": "markdown",
   "metadata": {},
   "source": [
    "The beta value above suggests that our portfolio is more volatile than an equally weighted portfolio of the 10 most volatile and highly correlated stocks. From such observation, we can note that the weighting for our stocks was done correctly; had the weightings of the 10 shares chosen were not optimized for volatility, the diversification of having 10 different shares would decrease the overall standard deviation."
   ]
  },
  {
   "cell_type": "markdown",
   "metadata": {},
   "source": [
    "### Conclusion from All Previous BETA-related Analysis\n",
    "As seen from the past 4 Beta calculations, our portfolio is significantly riskier than a randomly chosen number of stocks, meaning that our portfolio effectively accumulated a highly volatile portfolio."
   ]
  },
  {
   "cell_type": "markdown",
   "metadata": {},
   "source": [
    "### Step #14: Compare our portfolio graphically against an equally weighted index containing only the 10 stocks chosen\n",
    "\n",
    "Lastly, to **GRAPHICALLY** compare our portfolio against the equally weighted portfolio containing only the 10 stocks chosen, we will first need to generate our portfolio first so we can then graph and compare the portfolio over the time frame from July 2, 2021, to October 22, 2021."
   ]
  },
  {
   "cell_type": "code",
   "execution_count": 26,
   "metadata": {},
   "outputs": [
    {
     "data": {
      "text/html": [
       "<div>\n",
       "<style scoped>\n",
       "    .dataframe tbody tr th:only-of-type {\n",
       "        vertical-align: middle;\n",
       "    }\n",
       "\n",
       "    .dataframe tbody tr th {\n",
       "        vertical-align: top;\n",
       "    }\n",
       "\n",
       "    .dataframe thead th {\n",
       "        text-align: right;\n",
       "    }\n",
       "</style>\n",
       "<table border=\"1\" class=\"dataframe\">\n",
       "  <thead>\n",
       "    <tr style=\"text-align: right;\">\n",
       "      <th></th>\n",
       "      <th>Our_Portfolio</th>\n",
       "      <th>Equal_Weight</th>\n",
       "    </tr>\n",
       "    <tr>\n",
       "      <th>Date</th>\n",
       "      <th></th>\n",
       "      <th></th>\n",
       "    </tr>\n",
       "  </thead>\n",
       "  <tbody>\n",
       "    <tr>\n",
       "      <th>2021-07-02</th>\n",
       "      <td>100000.000000</td>\n",
       "      <td>100000.000000</td>\n",
       "    </tr>\n",
       "    <tr>\n",
       "      <th>2021-07-06</th>\n",
       "      <td>95651.315068</td>\n",
       "      <td>97090.996829</td>\n",
       "    </tr>\n",
       "    <tr>\n",
       "      <th>2021-07-07</th>\n",
       "      <td>94003.325289</td>\n",
       "      <td>96289.632353</td>\n",
       "    </tr>\n",
       "    <tr>\n",
       "      <th>2021-07-08</th>\n",
       "      <td>93373.604454</td>\n",
       "      <td>94881.680053</td>\n",
       "    </tr>\n",
       "    <tr>\n",
       "      <th>2021-07-09</th>\n",
       "      <td>95824.390958</td>\n",
       "      <td>97909.990869</td>\n",
       "    </tr>\n",
       "  </tbody>\n",
       "</table>\n",
       "</div>"
      ],
      "text/plain": [
       "            Our_Portfolio   Equal_Weight\n",
       "Date                                    \n",
       "2021-07-02  100000.000000  100000.000000\n",
       "2021-07-06   95651.315068   97090.996829\n",
       "2021-07-07   94003.325289   96289.632353\n",
       "2021-07-08   93373.604454   94881.680053\n",
       "2021-07-09   95824.390958   97909.990869"
      ]
     },
     "execution_count": 26,
     "metadata": {},
     "output_type": "execute_result"
    }
   ],
   "source": [
    "# Load in our portfolio with varied weights\n",
    "varied_w = Our_portfolio[['Portfolio_Value']].rename(columns={'Portfolio_Value' : 'Our_Portfolio'})\n",
    "equal_w = equal_10[['Value']].rename(columns={'Value' : 'Equal_Weight'})\n",
    "\n",
    "# Create the combined dataframe of our portfolio and the equally weighted one\n",
    "ours_and_equally_weighted = pd.concat([varied_w, equal_w], join = 'inner', axis = 1)\n",
    "\n",
    "# Short display\n",
    "ours_and_equally_weighted.head()"
   ]
  },
  {
   "cell_type": "code",
   "execution_count": 27,
   "metadata": {},
   "outputs": [
    {
     "data": {
      "image/png": "[encoded data removed]",
      "text/plain": [
       "<Figure size 1440x1080 with 1 Axes>"
      ]
     },
     "metadata": {
      "needs_background": "light"
     },
     "output_type": "display_data"
    }
   ],
   "source": [
    "# Graphing out portion\n",
    "plt.figure(figsize=(20,15))\n",
    "\n",
    "plt.plot(ours_and_equally_weighted.index, ours_and_equally_weighted['Equal_Weight'], color='b', label='Equally Weighted Index') \n",
    "plt.plot(ours_and_equally_weighted.index, ours_and_equally_weighted['Our_Portfolio'], color='g', label = \"Our Portfolio\")\n",
    "plt.legend(loc='best')\n",
    "plt.title('Comparison between the Value of an equally weighted Portfolio and our portfolio')\n",
    "plt.xlabel('Number of additional stocks')\n",
    "plt.ylabel('Standard Deviation')\n",
    "\n",
    "# Display\n",
    "plt.show()"
   ]
  },
  {
   "cell_type": "markdown",
   "metadata": {},
   "source": [
    "As we can see in the graph above, while following the general trend, the price movement in our portfolio is significantly more acute than our equally weighted portfolio, when observing the fluctuation from the starting value. As seen, if the portfolio were to be chased out at any point in time, the overall volatility of our portfolio is significantly higher."
   ]
  },
  {
   "cell_type": "markdown",
   "metadata": {},
   "source": [
    "## Part #4: Final Output"
   ]
  },
  {
   "cell_type": "markdown",
   "metadata": {},
   "source": [
    "### Step #15: Creating the final portfolio dataframe and csv"
   ]
  },
  {
   "cell_type": "code",
   "execution_count": 28,
   "metadata": {},
   "outputs": [
    {
     "name": "stdout",
     "output_type": "stream",
     "text": [
      "- OXY: No data found for this date range, symbol may be delisted\n"
     ]
    },
    {
     "ename": "IndexError",
     "evalue": "single positional indexer is out-of-bounds",
     "output_type": "error",
     "traceback": [
      "\u001b[1;31m---------------------------------------------------------------------------\u001b[0m",
      "\u001b[1;31mIndexError\u001b[0m                                Traceback (most recent call last)",
      "\u001b[1;32m~\\AppData\\Local\\Temp/ipykernel_13508/3864666012.py\u001b[0m in \u001b[0;36m<module>\u001b[1;34m\u001b[0m\n\u001b[0;32m     16\u001b[0m \u001b[0mweight\u001b[0m \u001b[1;33m=\u001b[0m \u001b[1;33m[\u001b[0m\u001b[1;33m]\u001b[0m\u001b[1;33m\u001b[0m\u001b[1;33m\u001b[0m\u001b[0m\n\u001b[0;32m     17\u001b[0m \u001b[1;32mfor\u001b[0m \u001b[0mi\u001b[0m \u001b[1;32min\u001b[0m \u001b[0mrange\u001b[0m \u001b[1;33m(\u001b[0m\u001b[0mlen\u001b[0m\u001b[1;33m(\u001b[0m\u001b[0mfinal_tickers\u001b[0m\u001b[1;33m)\u001b[0m\u001b[1;33m)\u001b[0m\u001b[1;33m:\u001b[0m\u001b[1;33m\u001b[0m\u001b[1;33m\u001b[0m\u001b[0m\n\u001b[1;32m---> 18\u001b[1;33m     \u001b[0mprice\u001b[0m\u001b[1;33m.\u001b[0m\u001b[0mappend\u001b[0m\u001b[1;33m(\u001b[0m\u001b[0mprice_on_date\u001b[0m\u001b[1;33m(\u001b[0m\u001b[0mstr\u001b[0m\u001b[1;33m(\u001b[0m\u001b[0mfinal_tickers\u001b[0m\u001b[1;33m[\u001b[0m\u001b[0mi\u001b[0m\u001b[1;33m]\u001b[0m\u001b[1;33m)\u001b[0m\u001b[1;33m,\u001b[0m \u001b[0mrequired_date\u001b[0m\u001b[1;33m,\u001b[0m \u001b[0mnext_date\u001b[0m\u001b[1;33m)\u001b[0m\u001b[1;33m)\u001b[0m\u001b[1;33m\u001b[0m\u001b[1;33m\u001b[0m\u001b[0m\n\u001b[0m\u001b[0;32m     19\u001b[0m     \u001b[0mvalue\u001b[0m\u001b[1;33m.\u001b[0m\u001b[0mappend\u001b[0m\u001b[1;33m(\u001b[0m\u001b[0minvestment\u001b[0m \u001b[1;33m*\u001b[0m \u001b[0mfinal_weights\u001b[0m\u001b[1;33m[\u001b[0m\u001b[0mi\u001b[0m\u001b[1;33m]\u001b[0m\u001b[1;33m)\u001b[0m\u001b[1;33m\u001b[0m\u001b[1;33m\u001b[0m\u001b[0m\n\u001b[0;32m     20\u001b[0m     \u001b[0mshare\u001b[0m\u001b[1;33m.\u001b[0m\u001b[0mappend\u001b[0m\u001b[1;33m(\u001b[0m\u001b[0mvalue\u001b[0m\u001b[1;33m[\u001b[0m\u001b[0mi\u001b[0m\u001b[1;33m]\u001b[0m \u001b[1;33m/\u001b[0m \u001b[0mprice\u001b[0m\u001b[1;33m[\u001b[0m\u001b[0mi\u001b[0m\u001b[1;33m]\u001b[0m\u001b[1;33m)\u001b[0m\u001b[1;33m\u001b[0m\u001b[1;33m\u001b[0m\u001b[0m\n",
      "\u001b[1;32m~\\AppData\\Local\\Temp/ipykernel_13508/3864666012.py\u001b[0m in \u001b[0;36mprice_on_date\u001b[1;34m(ticker, date, next_date)\u001b[0m\n\u001b[0;32m      8\u001b[0m \u001b[1;31m# Access the price on the required date\u001b[0m\u001b[1;33m\u001b[0m\u001b[1;33m\u001b[0m\u001b[1;33m\u001b[0m\u001b[0m\n\u001b[0;32m      9\u001b[0m \u001b[1;32mdef\u001b[0m \u001b[0mprice_on_date\u001b[0m\u001b[1;33m(\u001b[0m\u001b[0mticker\u001b[0m\u001b[1;33m,\u001b[0m \u001b[0mdate\u001b[0m\u001b[1;33m,\u001b[0m \u001b[0mnext_date\u001b[0m\u001b[1;33m)\u001b[0m\u001b[1;33m:\u001b[0m\u001b[1;33m\u001b[0m\u001b[1;33m\u001b[0m\u001b[0m\n\u001b[1;32m---> 10\u001b[1;33m     \u001b[1;32mreturn\u001b[0m \u001b[0myf\u001b[0m\u001b[1;33m.\u001b[0m\u001b[0mTicker\u001b[0m\u001b[1;33m(\u001b[0m\u001b[0mticker\u001b[0m\u001b[1;33m)\u001b[0m\u001b[1;33m.\u001b[0m\u001b[0mhistory\u001b[0m\u001b[1;33m(\u001b[0m\u001b[0mstart\u001b[0m\u001b[1;33m=\u001b[0m\u001b[0mdate\u001b[0m\u001b[1;33m,\u001b[0m \u001b[0mend\u001b[0m\u001b[1;33m=\u001b[0m\u001b[0mnext_date\u001b[0m\u001b[1;33m)\u001b[0m\u001b[1;33m[\u001b[0m\u001b[1;33m[\u001b[0m\u001b[1;34m'Close'\u001b[0m\u001b[1;33m]\u001b[0m\u001b[1;33m]\u001b[0m\u001b[1;33m.\u001b[0m\u001b[0miloc\u001b[0m\u001b[1;33m[\u001b[0m\u001b[1;36m0\u001b[0m\u001b[1;33m,\u001b[0m\u001b[1;36m0\u001b[0m\u001b[1;33m]\u001b[0m\u001b[1;33m\u001b[0m\u001b[1;33m\u001b[0m\u001b[0m\n\u001b[0m\u001b[0;32m     11\u001b[0m \u001b[1;33m\u001b[0m\u001b[0m\n\u001b[0;32m     12\u001b[0m \u001b[1;31m# Get the price, share, value, weight of the ticker on required date\u001b[0m\u001b[1;33m\u001b[0m\u001b[1;33m\u001b[0m\u001b[1;33m\u001b[0m\u001b[0m\n",
      "\u001b[1;32m~\\anaconda3\\lib\\site-packages\\pandas\\core\\indexing.py\u001b[0m in \u001b[0;36m__getitem__\u001b[1;34m(self, key)\u001b[0m\n\u001b[0;32m    887\u001b[0m                     \u001b[1;31m# AttributeError for IntervalTree get_value\u001b[0m\u001b[1;33m\u001b[0m\u001b[1;33m\u001b[0m\u001b[1;33m\u001b[0m\u001b[0m\n\u001b[0;32m    888\u001b[0m                     \u001b[1;32mreturn\u001b[0m \u001b[0mself\u001b[0m\u001b[1;33m.\u001b[0m\u001b[0mobj\u001b[0m\u001b[1;33m.\u001b[0m\u001b[0m_get_value\u001b[0m\u001b[1;33m(\u001b[0m\u001b[1;33m*\u001b[0m\u001b[0mkey\u001b[0m\u001b[1;33m,\u001b[0m \u001b[0mtakeable\u001b[0m\u001b[1;33m=\u001b[0m\u001b[0mself\u001b[0m\u001b[1;33m.\u001b[0m\u001b[0m_takeable\u001b[0m\u001b[1;33m)\u001b[0m\u001b[1;33m\u001b[0m\u001b[1;33m\u001b[0m\u001b[0m\n\u001b[1;32m--> 889\u001b[1;33m             \u001b[1;32mreturn\u001b[0m \u001b[0mself\u001b[0m\u001b[1;33m.\u001b[0m\u001b[0m_getitem_tuple\u001b[0m\u001b[1;33m(\u001b[0m\u001b[0mkey\u001b[0m\u001b[1;33m)\u001b[0m\u001b[1;33m\u001b[0m\u001b[1;33m\u001b[0m\u001b[0m\n\u001b[0m\u001b[0;32m    890\u001b[0m         \u001b[1;32melse\u001b[0m\u001b[1;33m:\u001b[0m\u001b[1;33m\u001b[0m\u001b[1;33m\u001b[0m\u001b[0m\n\u001b[0;32m    891\u001b[0m             \u001b[1;31m# we by definition only have the 0th axis\u001b[0m\u001b[1;33m\u001b[0m\u001b[1;33m\u001b[0m\u001b[1;33m\u001b[0m\u001b[0m\n",
      "\u001b[1;32m~\\anaconda3\\lib\\site-packages\\pandas\\core\\indexing.py\u001b[0m in \u001b[0;36m_getitem_tuple\u001b[1;34m(self, tup)\u001b[0m\n\u001b[0;32m   1448\u001b[0m     \u001b[1;32mdef\u001b[0m \u001b[0m_getitem_tuple\u001b[0m\u001b[1;33m(\u001b[0m\u001b[0mself\u001b[0m\u001b[1;33m,\u001b[0m \u001b[0mtup\u001b[0m\u001b[1;33m:\u001b[0m \u001b[0mTuple\u001b[0m\u001b[1;33m)\u001b[0m\u001b[1;33m:\u001b[0m\u001b[1;33m\u001b[0m\u001b[1;33m\u001b[0m\u001b[0m\n\u001b[0;32m   1449\u001b[0m \u001b[1;33m\u001b[0m\u001b[0m\n\u001b[1;32m-> 1450\u001b[1;33m         \u001b[0mself\u001b[0m\u001b[1;33m.\u001b[0m\u001b[0m_has_valid_tuple\u001b[0m\u001b[1;33m(\u001b[0m\u001b[0mtup\u001b[0m\u001b[1;33m)\u001b[0m\u001b[1;33m\u001b[0m\u001b[1;33m\u001b[0m\u001b[0m\n\u001b[0m\u001b[0;32m   1451\u001b[0m         \u001b[1;32mwith\u001b[0m \u001b[0msuppress\u001b[0m\u001b[1;33m(\u001b[0m\u001b[0mIndexingError\u001b[0m\u001b[1;33m)\u001b[0m\u001b[1;33m:\u001b[0m\u001b[1;33m\u001b[0m\u001b[1;33m\u001b[0m\u001b[0m\n\u001b[0;32m   1452\u001b[0m             \u001b[1;32mreturn\u001b[0m \u001b[0mself\u001b[0m\u001b[1;33m.\u001b[0m\u001b[0m_getitem_lowerdim\u001b[0m\u001b[1;33m(\u001b[0m\u001b[0mtup\u001b[0m\u001b[1;33m)\u001b[0m\u001b[1;33m\u001b[0m\u001b[1;33m\u001b[0m\u001b[0m\n",
      "\u001b[1;32m~\\anaconda3\\lib\\site-packages\\pandas\\core\\indexing.py\u001b[0m in \u001b[0;36m_has_valid_tuple\u001b[1;34m(self, key)\u001b[0m\n\u001b[0;32m    721\u001b[0m         \u001b[1;32mfor\u001b[0m \u001b[0mi\u001b[0m\u001b[1;33m,\u001b[0m \u001b[0mk\u001b[0m \u001b[1;32min\u001b[0m \u001b[0menumerate\u001b[0m\u001b[1;33m(\u001b[0m\u001b[0mkey\u001b[0m\u001b[1;33m)\u001b[0m\u001b[1;33m:\u001b[0m\u001b[1;33m\u001b[0m\u001b[1;33m\u001b[0m\u001b[0m\n\u001b[0;32m    722\u001b[0m             \u001b[1;32mtry\u001b[0m\u001b[1;33m:\u001b[0m\u001b[1;33m\u001b[0m\u001b[1;33m\u001b[0m\u001b[0m\n\u001b[1;32m--> 723\u001b[1;33m                 \u001b[0mself\u001b[0m\u001b[1;33m.\u001b[0m\u001b[0m_validate_key\u001b[0m\u001b[1;33m(\u001b[0m\u001b[0mk\u001b[0m\u001b[1;33m,\u001b[0m \u001b[0mi\u001b[0m\u001b[1;33m)\u001b[0m\u001b[1;33m\u001b[0m\u001b[1;33m\u001b[0m\u001b[0m\n\u001b[0m\u001b[0;32m    724\u001b[0m             \u001b[1;32mexcept\u001b[0m \u001b[0mValueError\u001b[0m \u001b[1;32mas\u001b[0m \u001b[0merr\u001b[0m\u001b[1;33m:\u001b[0m\u001b[1;33m\u001b[0m\u001b[1;33m\u001b[0m\u001b[0m\n\u001b[0;32m    725\u001b[0m                 raise ValueError(\n",
      "\u001b[1;32m~\\anaconda3\\lib\\site-packages\\pandas\\core\\indexing.py\u001b[0m in \u001b[0;36m_validate_key\u001b[1;34m(self, key, axis)\u001b[0m\n\u001b[0;32m   1356\u001b[0m             \u001b[1;32mreturn\u001b[0m\u001b[1;33m\u001b[0m\u001b[1;33m\u001b[0m\u001b[0m\n\u001b[0;32m   1357\u001b[0m         \u001b[1;32melif\u001b[0m \u001b[0mis_integer\u001b[0m\u001b[1;33m(\u001b[0m\u001b[0mkey\u001b[0m\u001b[1;33m)\u001b[0m\u001b[1;33m:\u001b[0m\u001b[1;33m\u001b[0m\u001b[1;33m\u001b[0m\u001b[0m\n\u001b[1;32m-> 1358\u001b[1;33m             \u001b[0mself\u001b[0m\u001b[1;33m.\u001b[0m\u001b[0m_validate_integer\u001b[0m\u001b[1;33m(\u001b[0m\u001b[0mkey\u001b[0m\u001b[1;33m,\u001b[0m \u001b[0maxis\u001b[0m\u001b[1;33m)\u001b[0m\u001b[1;33m\u001b[0m\u001b[1;33m\u001b[0m\u001b[0m\n\u001b[0m\u001b[0;32m   1359\u001b[0m         \u001b[1;32melif\u001b[0m \u001b[0misinstance\u001b[0m\u001b[1;33m(\u001b[0m\u001b[0mkey\u001b[0m\u001b[1;33m,\u001b[0m \u001b[0mtuple\u001b[0m\u001b[1;33m)\u001b[0m\u001b[1;33m:\u001b[0m\u001b[1;33m\u001b[0m\u001b[1;33m\u001b[0m\u001b[0m\n\u001b[0;32m   1360\u001b[0m             \u001b[1;31m# a tuple should already have been caught by this point\u001b[0m\u001b[1;33m\u001b[0m\u001b[1;33m\u001b[0m\u001b[1;33m\u001b[0m\u001b[0m\n",
      "\u001b[1;32m~\\anaconda3\\lib\\site-packages\\pandas\\core\\indexing.py\u001b[0m in \u001b[0;36m_validate_integer\u001b[1;34m(self, key, axis)\u001b[0m\n\u001b[0;32m   1442\u001b[0m         \u001b[0mlen_axis\u001b[0m \u001b[1;33m=\u001b[0m \u001b[0mlen\u001b[0m\u001b[1;33m(\u001b[0m\u001b[0mself\u001b[0m\u001b[1;33m.\u001b[0m\u001b[0mobj\u001b[0m\u001b[1;33m.\u001b[0m\u001b[0m_get_axis\u001b[0m\u001b[1;33m(\u001b[0m\u001b[0maxis\u001b[0m\u001b[1;33m)\u001b[0m\u001b[1;33m)\u001b[0m\u001b[1;33m\u001b[0m\u001b[1;33m\u001b[0m\u001b[0m\n\u001b[0;32m   1443\u001b[0m         \u001b[1;32mif\u001b[0m \u001b[0mkey\u001b[0m \u001b[1;33m>=\u001b[0m \u001b[0mlen_axis\u001b[0m \u001b[1;32mor\u001b[0m \u001b[0mkey\u001b[0m \u001b[1;33m<\u001b[0m \u001b[1;33m-\u001b[0m\u001b[0mlen_axis\u001b[0m\u001b[1;33m:\u001b[0m\u001b[1;33m\u001b[0m\u001b[1;33m\u001b[0m\u001b[0m\n\u001b[1;32m-> 1444\u001b[1;33m             \u001b[1;32mraise\u001b[0m \u001b[0mIndexError\u001b[0m\u001b[1;33m(\u001b[0m\u001b[1;34m\"single positional indexer is out-of-bounds\"\u001b[0m\u001b[1;33m)\u001b[0m\u001b[1;33m\u001b[0m\u001b[1;33m\u001b[0m\u001b[0m\n\u001b[0m\u001b[0;32m   1445\u001b[0m \u001b[1;33m\u001b[0m\u001b[0m\n\u001b[0;32m   1446\u001b[0m     \u001b[1;31m# -------------------------------------------------------------------\u001b[0m\u001b[1;33m\u001b[0m\u001b[1;33m\u001b[0m\u001b[1;33m\u001b[0m\u001b[0m\n",
      "\u001b[1;31mIndexError\u001b[0m: single positional indexer is out-of-bounds"
     ]
    }
   ],
   "source": [
    "# Define important variables\n",
    "final_tickers = max_corr_ticker_lst\n",
    "final_weights = optimal_weights\n",
    "investment = 100000\n",
    "required_date = '2021-11-26'\n",
    "next_date = '2021-11-27' # Used as the end_date parameter\n",
    "\n",
    "# Access the price on the required date\n",
    "def price_on_date(ticker, date, next_date):\n",
    "    return yf.Ticker(ticker).history(start=date, end=next_date)[['Close']].iloc[0,0]\n",
    "\n",
    "# Get the price, share, value, weight of the ticker on required date\n",
    "price = []\n",
    "value = []\n",
    "share = []\n",
    "weight = []\n",
    "for i in range (len(final_tickers)):\n",
    "    price.append(price_on_date(str(final_tickers[i]), required_date, next_date))\n",
    "    value.append(investment * final_weights[i])\n",
    "    share.append(value[i] / price[i])\n",
    "    weight.append(final_weights[i] * 100)\n",
    "    \n",
    "\n",
    "# Create a diction to store the required info\n",
    "final_dic = {'Ticker' : final_tickers,\n",
    "             'Price'  : price,\n",
    "             'Shares' : share,\n",
    "             'Value'  : value,\n",
    "             'Weight' : weight}\n",
    "\n",
    "# Create the final df\n",
    "FinalPortfolio = pd.DataFrame(final_dic)\n",
    "# Shift the index\n",
    "FinalPortfolio.index = np.arange(1, len(FinalPortfolio)+1)"
   ]
  },
  {
   "cell_type": "code",
   "execution_count": null,
   "metadata": {},
   "outputs": [],
   "source": [
    "# Show that value adds to $100,000, the weights add to 100%\n",
    "sum_value = FinalPortfolio['Value'].sum()\n",
    "sum_weight = FinalPortfolio['Weight'].sum()\n",
    "print(f'The sum of all Value is ${sum_value}.')\n",
    "print(f'The sum of all Weight is {sum_weight}%.')"
   ]
  },
  {
   "cell_type": "code",
   "execution_count": null,
   "metadata": {},
   "outputs": [],
   "source": [
    "# Creating the output csv\n",
    "Stocks = FinalPortfolio[['Ticker', 'Shares']]\n",
    "Stocks.to_csv('Stocks_Group_17.csv')"
   ]
  },
  {
   "cell_type": "code",
   "execution_count": null,
   "metadata": {},
   "outputs": [],
   "source": [
    "# Display the final portfolio\n",
    "FinalPortfolio"
   ]
  },
  {
   "cell_type": "markdown",
   "metadata": {},
   "source": [
    "## Contribution Declaration\n",
    "\n",
    "The following team members made a meaningful contribution to this assignment:\n",
    "\n",
    "John Huang, Gen Nishiwaki"
   ]
  }
 ],
 "metadata": {
  "interpreter": {
   "hash": "40d3a090f54c6569ab1632332b64b2c03c39dcf918b08424e98f38b5ae0af88f"
  },
  "kernelspec": {
   "display_name": "Python 3 (ipykernel)",
   "language": "python",
   "name": "python3"
  },
  "language_info": {
   "codemirror_mode": {
    "name": "ipython",
    "version": 3
   },
   "file_extension": ".py",
   "mimetype": "text/x-python",
   "name": "python",
   "nbconvert_exporter": "python",
   "pygments_lexer": "ipython3",
   "version": "3.8.8"
  },
  "metadata": {
   "interpreter": {
    "hash": "b0fa6594d8f4cbf19f97940f81e996739fb7646882a419484c72d19e05852a7e"
   }
  }
 },
 "nbformat": 4,
 "nbformat_minor": 2
}
