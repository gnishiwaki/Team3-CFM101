{
 "cells": [
  {
   "cell_type": "code",
   "execution_count": 33,
   "metadata": {},
   "outputs": [],
   "source": [
    "from IPython.display import display, Math, Latex\n",
    "\n",
    "import pandas as pd\n",
    "import numpy as np\n",
    "import numpy_financial as npf\n",
    "import yfinance as yf\n",
    "import matplotlib.pyplot as plt\n",
    "from datetime import datetime"
   ]
  },
  {
   "cell_type": "markdown",
   "metadata": {},
   "source": [
    "## Group Assignment\n",
    "### Team Number: 17\n",
    "### Team Member Names: John, Gen, Tim\n",
    "### Team Strategy Chosen: Risky "
   ]
  },
  {
   "cell_type": "markdown",
   "metadata": {},
   "source": [
    "Requirements for this assignment:\n",
    "- Code needs to be dynamic\n",
    "- Must read in a csv file containing a finite number of stock tickers (with an example csv file in this repo)\n",
    "- Portfolio must contain only US listed stocks\n",
    "- Must have an average daily volume of at least 10 000 shares as calculated based on the time interval July 2, 2021 to October 22, 2021\n",
    "- Pick a minimum 10 maximum 20 stocks for portfolio.\n",
    "- If we choose n stocks, each stock must make up minimum (100/(2n))% of the portfolio when weighted by value as of closing prices on November 26, 2021\n",
    "- No individual stock may make up more than 35% of the portfolio when weighted by value\n",
    "- We have $100000 USD to spend on portfolio and all must be spent\n",
    "- When code is run with the .csv file, it must create a DataFrame \"FinalPortfolio\"\n",
    "    - With this portfolio, index starts at 1 and ends at the number of stocks that our code chooses.\n",
    "    - Headings must be: Ticker, Price, Shares, Value, Weight\n",
    "        - Ticker is the ticker selected\n",
    "        - Price is the price on November 26, 2021\n",
    "        - Shares is the number of shares purchased (can be fractional)\n",
    "        - Value is the total value of those shares\n",
    "        - Weighted is the weight that the value of shares represents relative to the value of the portfolio (which is $100,000)\n",
    "    - Needs to show that the total adds up to $100,000\n",
    "    - Also need to show the weights add to 100%\n",
    "    - This DataFrame must be printed to the screen as the second to last output to the screen.\n",
    "- After the DataFrame, one final DataFrame called \"Stocks\" which has the same index as \"Final Portfolio\" must be made\n",
    "    - Only has the Tickers and Shares from \"Final Portfolio\"\n",
    "    - Must output this DataFrame to a csv file titled \"Stocks_Group_XX.csv\""
   ]
  },
  {
   "cell_type": "markdown",
   "metadata": {},
   "source": [
    "## **General Strategy**:\n",
    "\n",
    "#### Preparation\n",
    "0) Define given variables and other imporant global variables\n",
    "\n",
    "#### Part #1: Data Cleansing and Filtering\n",
    "1) Filter out all valid US Stocks from the provided CSV file\n",
    "2) Store the price and volume info of tickers in global dataframe\n",
    "3) Filter out tickers within date range based on daily average volume\n",
    "\n",
    "#### Part #2: Portfolio Construction\n",
    "4) Obtain the 20 most volatile stocks (based on Standard Deviation)\n",
    "5) Find the porfolio of 10 stocks with the highest correlation\n",
    "6) STEP 6: Find the distributions of the weight that maximizes portfolio Standard Deviation\n",
    "\n",
    "#### Part #3: Proof and Analysis\n",
    "7) Graph the portfolio standard deviation for different weighting distributions\n",
    "8) Given the chosen portfolio, measure its performance against the price weighted index consisting of all filtered US Stocks\n",
    "9) Given the chosen portfolio of 10 stocks, graph the change in portfolio standard deviation as other risky stocks (not chosen in Step 5) are added in\n",
    "\n",
    "#### Part #4: Final Output\n",
    "10) Creating the final portfolio dataframe and csv"
   ]
  },
  {
   "cell_type": "markdown",
   "metadata": {},
   "source": [
    "## Part #1: Data Cleansing and Filtering\n"
   ]
  },
  {
   "cell_type": "markdown",
   "metadata": {},
   "source": [
    "### Step #0: Define important default and global variables (optimizing time and memories)\n",
    "We will define a global variable 'all_price_df' that tracks the daily closing price and daily volume of all valid US stocks. Many functions will directly access this global dataframe during calculations, to avoid passing large dataframes as parameters, which is inefficient.\n",
    "\n",
    "**NOTE** that all calculations will be performed on the daily interval, since first of all, data is very limited, thus not supporting calculation with dispersed interval. Yet, most importantly, the competition is held only for 7 days, therefore gauging the historical daily fluctuation of stocks better serves the purpose for this specific competition."
   ]
  },
  {
   "cell_type": "code",
   "execution_count": 34,
   "metadata": {},
   "outputs": [],
   "source": [
    "# Import default information\n",
    "start_date = '2021-07-02'\n",
    "end_date = '2021-10-23' # So that 2021-10-22 is included in the data\n",
    "provided_csv = 'Tickers.csv'\n",
    "min_avg_daily_volume = 10000\n",
    "min_stock_count = 10\n",
    "max_stock_count = 20\n",
    "\n",
    "# Stores all valid US tickers as yfObjects!!!!\n",
    "us_stock_lst = []\n",
    "\n",
    "# Stores the closing price and volume of tickers\n",
    "all_price_df = pd.DataFrame()"
   ]
  },
  {
   "cell_type": "markdown",
   "metadata": {},
   "source": [
    "### Step #1: Filter out valid US tickers\n",
    "Use threading technique to quickly filter out all valid US stock in the given csv."
   ]
  },
  {
   "cell_type": "code",
   "execution_count": 35,
   "metadata": {},
   "outputs": [],
   "source": [
    "stocks_from_csv = pd.read_csv(provided_csv, header=None) # Use header=Noned to read in the first row\n",
    "stocks_lst = stocks_from_csv.iloc[:,0]"
   ]
  },
  {
   "cell_type": "code",
   "execution_count": 36,
   "metadata": {},
   "outputs": [],
   "source": [
    "# import the modules needed for threading\n",
    "import concurrent.futures\n",
    "\n",
    "# Clears the global variable in case of previous stored info (when re-executing cells)\n",
    "us_stock_lst = []\n",
    "\n",
    "# Add valid stocks to the us_stock_lst\n",
    "def filter_valid(ticker_name):\n",
    "    try:\n",
    "        ticker_yf = yf.Ticker(ticker_name) # Store as variable to optimize access time\n",
    "        if (ticker_yf.info['regularMarketPrice'] != None) and (ticker_yf.info['market'] == 'us_market'):\n",
    "            us_stock_lst.append(ticker_yf)\n",
    "\n",
    "    except requests.exceptions.RequestException as e:\n",
    "       return e\n",
    " \n",
    "# Function to call threading\n",
    "def runner():\n",
    "    threads= []\n",
    "    with concurrent.futures.ThreadPoolExecutor(max_workers=80) as executor:\n",
    "        for name in stocks_lst:\n",
    "            threads.append(executor.submit(filter_valid, name))\n",
    "\n",
    "# Calls function, us_stock_lst will be filled\n",
    "runner()"
   ]
  },
  {
   "cell_type": "code",
   "execution_count": 37,
   "metadata": {},
   "outputs": [
    {
     "data": {
      "text/plain": [
       "55"
      ]
     },
     "execution_count": 37,
     "metadata": {},
     "output_type": "execute_result"
    }
   ],
   "source": [
    "# A quick check of the content in the us_stock_lst\n",
    "len(us_stock_lst)"
   ]
  },
  {
   "cell_type": "markdown",
   "metadata": {},
   "source": [
    "### Step #2: Store the price and volume info of tickers in global dataframe\n",
    "\n",
    "Use threading to store the daily closing price and daily volume of all valid US ticker tp global dataframe 'all_price_df'."
   ]
  },
  {
   "cell_type": "code",
   "execution_count": 38,
   "metadata": {},
   "outputs": [],
   "source": [
    "# Find the data of a particularly stock\n",
    "def ticker_to_df(ticker_yf):\n",
    "    # Access the ticker symbol of the ticker\n",
    "    symbol = ticker_yf.info['symbol']\n",
    "\n",
    "    # If the ticker is not yet included, we return its info\n",
    "    if symbol not in all_price_df:\n",
    "        temp_df = ticker_yf.history(start=start_date, end=end_date)[['Close', 'Volume']]\n",
    "        temp_df = temp_df.rename(columns={'Close' : symbol, 'Volume' : f'{symbol}_Vol'})\n",
    "        return temp_df\n",
    "    # Otherwise return an empty dataframe, so all_price_df will not be changed\n",
    "    return pd.DataFrame()\n",
    "\n",
    "# Use threading to update the global price dataframe\n",
    "def update_price_df(ticker_lst):\n",
    "    with concurrent.futures.ThreadPoolExecutor(max_workers=80) as executor:\n",
    "        results = executor.map(ticker_to_df, us_stock_lst)\n",
    "\n",
    "    # Load in the global dataframe\n",
    "    global all_price_df\n",
    "\n",
    "    # Update the global dataframe based on the statistic info of each ticker\n",
    "    for result in results:\n",
    "        all_price_df = pd.concat([all_price_df, result], axis=1)"
   ]
  },
  {
   "cell_type": "code",
   "execution_count": 39,
   "metadata": {},
   "outputs": [
    {
     "data": {
      "text/html": [
       "<div>\n",
       "<style scoped>\n",
       "    .dataframe tbody tr th:only-of-type {\n",
       "        vertical-align: middle;\n",
       "    }\n",
       "\n",
       "    .dataframe tbody tr th {\n",
       "        vertical-align: top;\n",
       "    }\n",
       "\n",
       "    .dataframe thead th {\n",
       "        text-align: right;\n",
       "    }\n",
       "</style>\n",
       "<table border=\"1\" class=\"dataframe\">\n",
       "  <thead>\n",
       "    <tr style=\"text-align: right;\">\n",
       "      <th></th>\n",
       "      <th>UPS</th>\n",
       "      <th>UPS_Vol</th>\n",
       "      <th>AXP</th>\n",
       "      <th>AXP_Vol</th>\n",
       "      <th>AMZN</th>\n",
       "      <th>AMZN_Vol</th>\n",
       "      <th>KO</th>\n",
       "      <th>KO_Vol</th>\n",
       "      <th>AAPL</th>\n",
       "      <th>AAPL_Vol</th>\n",
       "      <th>...</th>\n",
       "      <th>NEE</th>\n",
       "      <th>NEE_Vol</th>\n",
       "      <th>USB</th>\n",
       "      <th>USB_Vol</th>\n",
       "      <th>COF</th>\n",
       "      <th>COF_Vol</th>\n",
       "      <th>PYPL</th>\n",
       "      <th>PYPL_Vol</th>\n",
       "      <th>CL</th>\n",
       "      <th>CL_Vol</th>\n",
       "    </tr>\n",
       "    <tr>\n",
       "      <th>Date</th>\n",
       "      <th></th>\n",
       "      <th></th>\n",
       "      <th></th>\n",
       "      <th></th>\n",
       "      <th></th>\n",
       "      <th></th>\n",
       "      <th></th>\n",
       "      <th></th>\n",
       "      <th></th>\n",
       "      <th></th>\n",
       "      <th></th>\n",
       "      <th></th>\n",
       "      <th></th>\n",
       "      <th></th>\n",
       "      <th></th>\n",
       "      <th></th>\n",
       "      <th></th>\n",
       "      <th></th>\n",
       "      <th></th>\n",
       "      <th></th>\n",
       "      <th></th>\n",
       "    </tr>\n",
       "  </thead>\n",
       "  <tbody>\n",
       "    <tr>\n",
       "      <th>2021-10-18</th>\n",
       "      <td>192.439224</td>\n",
       "      <td>2305000</td>\n",
       "      <td>176.820007</td>\n",
       "      <td>2623300</td>\n",
       "      <td>3446.739990</td>\n",
       "      <td>3174100</td>\n",
       "      <td>53.939999</td>\n",
       "      <td>15861800</td>\n",
       "      <td>146.550003</td>\n",
       "      <td>85589200</td>\n",
       "      <td>...</td>\n",
       "      <td>80.632866</td>\n",
       "      <td>4942100</td>\n",
       "      <td>60.580002</td>\n",
       "      <td>5212200</td>\n",
       "      <td>168.514145</td>\n",
       "      <td>1760600</td>\n",
       "      <td>270.329987</td>\n",
       "      <td>4367100</td>\n",
       "      <td>74.826988</td>\n",
       "      <td>4331000</td>\n",
       "    </tr>\n",
       "    <tr>\n",
       "      <th>2021-10-19</th>\n",
       "      <td>192.837250</td>\n",
       "      <td>1974500</td>\n",
       "      <td>177.309998</td>\n",
       "      <td>1400100</td>\n",
       "      <td>3444.149902</td>\n",
       "      <td>2386100</td>\n",
       "      <td>54.150002</td>\n",
       "      <td>11068500</td>\n",
       "      <td>148.759995</td>\n",
       "      <td>76378900</td>\n",
       "      <td>...</td>\n",
       "      <td>81.668282</td>\n",
       "      <td>5717500</td>\n",
       "      <td>61.349998</td>\n",
       "      <td>3506800</td>\n",
       "      <td>169.141724</td>\n",
       "      <td>1955000</td>\n",
       "      <td>271.700012</td>\n",
       "      <td>3985900</td>\n",
       "      <td>74.330002</td>\n",
       "      <td>5206800</td>\n",
       "    </tr>\n",
       "    <tr>\n",
       "      <th>2021-10-20</th>\n",
       "      <td>194.309982</td>\n",
       "      <td>1952000</td>\n",
       "      <td>179.600006</td>\n",
       "      <td>2398500</td>\n",
       "      <td>3415.060059</td>\n",
       "      <td>2139800</td>\n",
       "      <td>54.630001</td>\n",
       "      <td>12474800</td>\n",
       "      <td>149.259995</td>\n",
       "      <td>58418800</td>\n",
       "      <td>...</td>\n",
       "      <td>83.549950</td>\n",
       "      <td>6942600</td>\n",
       "      <td>62.580002</td>\n",
       "      <td>4806200</td>\n",
       "      <td>172.588531</td>\n",
       "      <td>2614000</td>\n",
       "      <td>258.359985</td>\n",
       "      <td>31271700</td>\n",
       "      <td>75.099998</td>\n",
       "      <td>5317600</td>\n",
       "    </tr>\n",
       "    <tr>\n",
       "      <th>2021-10-21</th>\n",
       "      <td>198.459488</td>\n",
       "      <td>2997300</td>\n",
       "      <td>177.470001</td>\n",
       "      <td>3313800</td>\n",
       "      <td>3435.010010</td>\n",
       "      <td>1881400</td>\n",
       "      <td>54.349998</td>\n",
       "      <td>14388300</td>\n",
       "      <td>149.479996</td>\n",
       "      <td>61421000</td>\n",
       "      <td>...</td>\n",
       "      <td>83.440430</td>\n",
       "      <td>4945000</td>\n",
       "      <td>62.180000</td>\n",
       "      <td>4699000</td>\n",
       "      <td>165.057388</td>\n",
       "      <td>3420600</td>\n",
       "      <td>243.210007</td>\n",
       "      <td>42508900</td>\n",
       "      <td>74.889999</td>\n",
       "      <td>4370500</td>\n",
       "    </tr>\n",
       "    <tr>\n",
       "      <th>2021-10-22</th>\n",
       "      <td>202.807999</td>\n",
       "      <td>3735900</td>\n",
       "      <td>187.080002</td>\n",
       "      <td>6026100</td>\n",
       "      <td>3335.550049</td>\n",
       "      <td>3139100</td>\n",
       "      <td>54.450001</td>\n",
       "      <td>12828600</td>\n",
       "      <td>148.690002</td>\n",
       "      <td>58883400</td>\n",
       "      <td>...</td>\n",
       "      <td>84.047745</td>\n",
       "      <td>4732400</td>\n",
       "      <td>62.740002</td>\n",
       "      <td>5251100</td>\n",
       "      <td>167.199173</td>\n",
       "      <td>2943300</td>\n",
       "      <td>240.399994</td>\n",
       "      <td>24170900</td>\n",
       "      <td>75.500000</td>\n",
       "      <td>7665400</td>\n",
       "    </tr>\n",
       "  </tbody>\n",
       "</table>\n",
       "<p>5 rows × 110 columns</p>\n",
       "</div>"
      ],
      "text/plain": [
       "                   UPS  UPS_Vol         AXP  AXP_Vol         AMZN  AMZN_Vol  \\\n",
       "Date                                                                          \n",
       "2021-10-18  192.439224  2305000  176.820007  2623300  3446.739990   3174100   \n",
       "2021-10-19  192.837250  1974500  177.309998  1400100  3444.149902   2386100   \n",
       "2021-10-20  194.309982  1952000  179.600006  2398500  3415.060059   2139800   \n",
       "2021-10-21  198.459488  2997300  177.470001  3313800  3435.010010   1881400   \n",
       "2021-10-22  202.807999  3735900  187.080002  6026100  3335.550049   3139100   \n",
       "\n",
       "                   KO    KO_Vol        AAPL  AAPL_Vol  ...        NEE  \\\n",
       "Date                                                   ...              \n",
       "2021-10-18  53.939999  15861800  146.550003  85589200  ...  80.632866   \n",
       "2021-10-19  54.150002  11068500  148.759995  76378900  ...  81.668282   \n",
       "2021-10-20  54.630001  12474800  149.259995  58418800  ...  83.549950   \n",
       "2021-10-21  54.349998  14388300  149.479996  61421000  ...  83.440430   \n",
       "2021-10-22  54.450001  12828600  148.690002  58883400  ...  84.047745   \n",
       "\n",
       "            NEE_Vol        USB  USB_Vol         COF  COF_Vol        PYPL  \\\n",
       "Date                                                                       \n",
       "2021-10-18  4942100  60.580002  5212200  168.514145  1760600  270.329987   \n",
       "2021-10-19  5717500  61.349998  3506800  169.141724  1955000  271.700012   \n",
       "2021-10-20  6942600  62.580002  4806200  172.588531  2614000  258.359985   \n",
       "2021-10-21  4945000  62.180000  4699000  165.057388  3420600  243.210007   \n",
       "2021-10-22  4732400  62.740002  5251100  167.199173  2943300  240.399994   \n",
       "\n",
       "            PYPL_Vol         CL   CL_Vol  \n",
       "Date                                      \n",
       "2021-10-18   4367100  74.826988  4331000  \n",
       "2021-10-19   3985900  74.330002  5206800  \n",
       "2021-10-20  31271700  75.099998  5317600  \n",
       "2021-10-21  42508900  74.889999  4370500  \n",
       "2021-10-22  24170900  75.500000  7665400  \n",
       "\n",
       "[5 rows x 110 columns]"
      ]
     },
     "execution_count": 39,
     "metadata": {},
     "output_type": "execute_result"
    }
   ],
   "source": [
    "# Call the function to fill all_price_df\n",
    "update_price_df(us_stock_lst)\n",
    "\n",
    "# A quick check of the content in the all_price_df\n",
    "all_price_df.tail()"
   ]
  },
  {
   "cell_type": "markdown",
   "metadata": {},
   "source": [
    "### Step #3: Filter out tickers within date range based on daily average volume\n",
    "\n",
    "Iterates through each ticker in the 'us_stock_lst' and check if they are valid. Access the daily volume in 'all_price_df'."
   ]
  },
  {
   "cell_type": "code",
   "execution_count": 40,
   "metadata": {},
   "outputs": [],
   "source": [
    "# Finds the average daily volume of a stock\n",
    "def avg_daily_volume(ticker):\n",
    "    # Load the global price dataframe\n",
    "    global all_price_df\n",
    "\n",
    "    # Calculate and return the average volume\n",
    "    return all_price_df[f'{ticker}_Vol'].mean()\n",
    "    \n",
    "# Iterates through us_stock_lst and checks if the stock has\n",
    "# an average daily volume of at least the minimum given\n",
    "def volume_filter():\n",
    "    # Define a list to store the valid tickers\n",
    "    valid_stock_list = []\n",
    "\n",
    "    # Find the ticker that meets the criteria\n",
    "    for i in us_stock_lst:\n",
    "        if avg_daily_volume(i.info['symbol']) >= min_avg_daily_volume:\n",
    "            valid_stock_list.append(i)\n",
    "    \n",
    "    # Return all valid stocks\n",
    "    return valid_stock_list\n",
    "\n",
    "# Find the stocks that meet the criteria\n",
    "filtered_stocks = volume_filter()"
   ]
  },
  {
   "cell_type": "code",
   "execution_count": 41,
   "metadata": {},
   "outputs": [
    {
     "data": {
      "text/plain": [
       "55"
      ]
     },
     "execution_count": 41,
     "metadata": {},
     "output_type": "execute_result"
    }
   ],
   "source": [
    "# A quick check of the content in the filtered_stocks\n",
    "len(filtered_stocks)"
   ]
  },
  {
   "cell_type": "markdown",
   "metadata": {},
   "source": [
    "## Part #2: Portfolio Construction"
   ]
  },
  {
   "cell_type": "markdown",
   "metadata": {},
   "source": [
    "### Step #4: Obtain the 20 most volatile stocks (based on Standard Deviation)\n",
    "Calculate the Standard Deviation of the returns of each stock in 'filtered_stocks' and find the 20 with the highests Standard Deviation. The parameter of 20 is specifically chosen since the maximum number of stocks to be included in a portfolio is 20."
   ]
  },
  {
   "cell_type": "code",
   "execution_count": 42,
   "metadata": {},
   "outputs": [
    {
     "name": "stdout",
     "output_type": "stream",
     "text": [
      "The top 20 volatile tickers are:\n",
      " ['OXY', 'SLB', 'GM', 'COP', 'COF', 'BA', 'PYPL', 'AIG', 'SPG', 'AXP', 'BIIB', 'BAC', 'USB', 'BK', 'KMI', 'CAT', 'MS', 'AMZN', 'PFE', 'C']\n"
     ]
    }
   ],
   "source": [
    "# Variable to store the number of most volatile stocks we wish to find\n",
    "volatile_sample = max_stock_count\n",
    "\n",
    "# ticker_lst will always be filtered_stocks in yfObjects\n",
    "def find_volatile (stock_count, ticker_lst): \n",
    "    # Load in global price df\n",
    "    global all_price_df\n",
    "\n",
    "    # Find the list of filtered symbols\n",
    "    ticker_symbol = []\n",
    "    for i in ticker_lst:\n",
    "        ticker_symbol.append(i.info['symbol'])\n",
    "\n",
    "    share_prices = all_price_df[ticker_symbol]\n",
    "\n",
    "    #Convert our dataframe into simply one column with standard deviation \n",
    "    sd_of_shares = share_prices.pct_change().std()\n",
    "\n",
    "    #Have to convert sd_of_shares into a dataframe\n",
    "    sd_df = pd.DataFrame(sd_of_shares)\n",
    "\n",
    "    #Find the 20 largest standard deviations meaning the most volatile\n",
    "    column = sd_df[0]\n",
    "    largest_names = []\n",
    "    for i in range (stock_count):\n",
    "        largest_names.append(column.idxmax())\n",
    "        column = column.drop([column.idxmax()])\n",
    "\n",
    "    return largest_names\n",
    "\n",
    "largest_volatile = find_volatile(volatile_sample, filtered_stocks)\n",
    "\n",
    "# Display\n",
    "print('The top 20 volatile tickers are:\\n', largest_volatile)"
   ]
  },
  {
   "cell_type": "markdown",
   "metadata": {},
   "source": [
    "### Step #5: Find the porfolio of 10 stocks with the highest correlation\n",
    "Take the first 15 (or all if there is less than 15) volatile stocks, and iterate through all portfolio combinations of 10 stocks to find the portfolio with the highest average correlation.\n",
    "\n",
    "The average correlation is simply the average value of each pair-wise correlation of the stocks in a portfolio. This helps us to find a portfolio that is highly correlated, apart from being very volatile. Thus, the volatility in each individual stocks will not cancel out, for instance, when one stock fluctuates in an upward trend and the other in the opposite direction.\n",
    "\n",
    "The rationale behind taking only the first 15 tickers is that first of all, we want tickers that are very volatile. More importantly, this help to reduce computation time. Specifically, choosing a portfolio of 10 tickers from 15 tickers would yield 3003 combinations (15 choose 10). On other hand, if we choose a portfolio of 10 from all 20 tickers would require 184756 combinations (20 choose 10), which takes a lot more time."
   ]
  },
  {
   "cell_type": "code",
   "execution_count": 43,
   "metadata": {},
   "outputs": [],
   "source": [
    "### Find all possible combinations of n tickers within the ticker_lst using a recursive function\n",
    "def combinations(arr, length, pre_arr=[]):\n",
    "    # If the store arr reaches the length required, return it\n",
    "    if len(pre_arr) == length:\n",
    "        return [pre_arr]\n",
    "    \n",
    "    combs = []\n",
    "    # Add each element to the previous array\n",
    "    for i in range (len(arr)):\n",
    "        cur_copy = pre_arr.copy()\n",
    "        cur_copy.append(arr[i])\n",
    "        # Find combinations that yields by adding the remaining ticker spots to stored array of chosen tickers\n",
    "        combs += combinations(arr[i+1:], length, cur_copy)\n",
    "    return combs"
   ]
  },
  {
   "cell_type": "code",
   "execution_count": 44,
   "metadata": {},
   "outputs": [],
   "source": [
    "# Find the correlation matrix of all 20 stocks\n",
    "price_df = all_price_df[largest_volatile]\n",
    "price_df = price_df[(start_date <= price_df.index) & (price_df.index <= end_date)]\n",
    "df_corr = price_df.corr()\n",
    "\n",
    "# Function that finds the average correlation between stocks in a given portfolio\n",
    "def find_avg_corr(ticker_lst):   \n",
    "    # Calculate the avg corr\n",
    "    sum_corr = 0\n",
    "    sum_count = 0\n",
    "    # Iterate through the pair_wise correlation and summing it up\n",
    "    for i in range (len(ticker_lst)):\n",
    "        for j in range (i+1, len(ticker_lst)):\n",
    "            sum_corr += df_corr.loc[ticker_lst[i],ticker_lst[j]]\n",
    "            sum_count += 1\n",
    "    \n",
    "    # Calculate the return the avg correlation\n",
    "    return (sum_corr/sum_count)\n"
   ]
  },
  {
   "cell_type": "code",
   "execution_count": 45,
   "metadata": {},
   "outputs": [],
   "source": [
    "# Find the combinaton of tickers with the maximum avg correlation\n",
    "def find_max_correlation(ticker_lst, result_size = min_stock_count):\n",
    "    # Store the maximum value of corr and the portfolio\n",
    "    max_avg_corr = -1\n",
    "    max_corr_ticker_lst = np.array([])\n",
    "    \n",
    "    # Load the global price dataframe\n",
    "    global all_price_df\n",
    "    \n",
    "    # Convert list to array and find the combinations\n",
    "    comb = combinations(np.array(ticker_lst), result_size)\n",
    "        \n",
    "    # Find the comb with the maximum average correlation\n",
    "    for i in comb:\n",
    "        avg_corr = find_avg_corr(i)\n",
    "        if avg_corr > max_avg_corr:\n",
    "            max_avg_corr = avg_corr\n",
    "            max_corr_ticker_lst = i\n",
    "    \n",
    "    # Return the result sample\n",
    "    return max_avg_corr, max_corr_ticker_lst"
   ]
  },
  {
   "cell_type": "code",
   "execution_count": 46,
   "metadata": {},
   "outputs": [
    {
     "name": "stdout",
     "output_type": "stream",
     "text": [
      "The maximum avg correlation is: 0.6184563708330199\n",
      "The portfolio with maximum avg correlation is: ['OXY', 'SLB', 'COP', 'COF', 'AIG', 'SPG', 'AXP', 'BAC', 'USB', 'BK']\n"
     ]
    }
   ],
   "source": [
    "# Take the first 15 most volatile stocks, or all if there is not enough for 15\n",
    "take_ticker_up_to = min(len(largest_volatile), 15) \n",
    "ticker_lst = largest_volatile[0 : take_ticker_up_to]\n",
    "\n",
    "# Find the combination of tickers with maximum correlation\n",
    "max_avg_corr, max_corr_ticker_lst = find_max_correlation(ticker_lst)\n",
    "\n",
    "# Display\n",
    "print('The maximum avg correlation is:', max_avg_corr)\n",
    "print('The portfolio with maximum avg correlation is:', max_corr_ticker_lst)"
   ]
  },
  {
   "cell_type": "markdown",
   "metadata": {},
   "source": [
    "### Step #6: Find the distributions of the weight that maximizes portfolio Standard Deviation\n",
    "\n",
    "Use an exhaustive method of find the optimal weighting, that is to test many combinations of weighting and find the one with the highest Portfolio Standard Deviation.\n",
    "\n",
    "First, we vary the weighting by increments from the min_weight to the max_weight. Our default number_of_increment will be 8 for a suitable computation time. \n",
    "\n",
    "Moreover, we only vary the weighting of the first 5 (varied_count) volatile tickers, and the remaining tickers will have a default weighting of min_weight. The number of combinations of weighting is equal to the varied_count to the power of number_of_increment. Therefore, only varying the first 5 yield a total of 5^8 = 390625 combinations, which is far faster than varying all 10 weightings, which takes 10^8 = 100000000."
   ]
  },
  {
   "cell_type": "code",
   "execution_count": 47,
   "metadata": {},
   "outputs": [],
   "source": [
    "### Define important variables\n",
    "ticker_count = len(max_corr_ticker_lst) # Should be 10\n",
    "varied_count = int(ticker_count / 2) # Should be 5\n",
    "min_weight = 1/(2*ticker_count) \n",
    "max_weight = 0.35\n",
    "number_of_increment = 8\n",
    "increment = (max_weight - min_weight)/number_of_increment"
   ]
  },
  {
   "cell_type": "code",
   "execution_count": 48,
   "metadata": {},
   "outputs": [],
   "source": [
    "### Define a function for calculation of portfolio Standard Deviation\n",
    "def portfolio_cal_std(tickers, weights, start_date, end_date, investment=100000):\n",
    "    # Load the global variable price dataframe\n",
    "    global all_price_df\n",
    "    \n",
    "    # Store the size of tickers as a variable\n",
    "    ticker_count = len(tickers)\n",
    "    \n",
    "    # Store the price information of the tickers in a new df\n",
    "    port_df = all_price_df[(start_date <= all_price_df.index) & (all_price_df.index <= end_date)][tickers]\n",
    "    \n",
    "    # Find the value of each ticker using the shares brought on the first date\n",
    "    for i in range (ticker_count):\n",
    "        shares = (investment * weights[i] / port_df.loc[start_date, tickers[i]])\n",
    "        port_df[tickers[i]] = port_df[tickers[i]] * shares\n",
    "\n",
    "    # Calculate percentage returns\n",
    "    port_df['Percent_Return'] = port_df[tickers].sum(axis=1).pct_change() * 100\n",
    "\n",
    "    # Calculate and return the portfolio standard deviation\n",
    "    return port_df['Percent_Return'].std()"
   ]
  },
  {
   "cell_type": "code",
   "execution_count": 49,
   "metadata": {},
   "outputs": [],
   "source": [
    "# Define variables\n",
    "all_std = []\n",
    "max_std = -1\n",
    "optimal_weights = []\n",
    "check_count = 0\n",
    "\n",
    "# Recursion: update max_std with the maximum recorded std, and fill in the list of all_std\n",
    "def find_weight(cur_index, weights, remaining_weight):\n",
    "    # Load global varables\n",
    "    global ticker_count, varied_count, all_std, max_std, optimal_weights, check_count\n",
    "    \n",
    "    # Already assigned last ticker's weights\n",
    "    if (cur_index == ticker_count):\n",
    "        if (remaining_weight != 0): return\n",
    "\n",
    "        # Display for confirmation that code works\n",
    "        check_count += 1\n",
    "        if (check_count % 1000 == 0): \n",
    "            print(f'Already Checked {check_count} Weighting Distributions.')\n",
    "\n",
    "        # Calculate portfolio Std\n",
    "        std = portfolio_cal_std(max_corr_ticker_lst, weights, start_date, end_date)\n",
    "        \n",
    "        # Store and find max std\n",
    "        all_std.append(std)\n",
    "        if (std > max_std):\n",
    "            max_std = std\n",
    "            optimal_weights = weights\n",
    "        \n",
    "        # End recursion since this is last index (aka last ticker to assign weights)\n",
    "        return\n",
    "    \n",
    "    # The weight for the remaining ticker will not be varied\n",
    "    if (cur_index >= varied_count):\n",
    "        find_weight(cur_index + 1, weights + [min_weight], remaining_weight)\n",
    "    # ELSE: assign weighting for this stock at the cur_index\n",
    "    else: \n",
    "        # Store the extra weight given to this stock beyond the minimum weight\n",
    "        cur_extra_weight = 0\n",
    "\n",
    "        # Make sure the extra_weight will not cause to stock to excess max_weight\n",
    "        while (cur_extra_weight <= max_weight - min_weight):\n",
    "            # Stores the weight given to the current ticker, starts at min_weight\n",
    "            ticker_weight = min_weight\n",
    "\n",
    "            # Check if the extra weight given will exceed the remaining distributable weights\n",
    "            if (cur_extra_weight > remaining_weight):\n",
    "                ticker_weight += remaining_weight\n",
    "\n",
    "                # Recursively calls the function to assign weights for the next ticker\n",
    "                find_weight(cur_index + 1, weights + [ticker_weight], 0)\n",
    "                break\n",
    "        \n",
    "            # ELSE: extra weight does not exceed the remaining weight to be distributed\n",
    "            ticker_weight += cur_extra_weight\n",
    "            \n",
    "            # Recursively calls the function to assign weights for the next ticker\n",
    "            find_weight(cur_index + 1, weights + [ticker_weight], remaining_weight - cur_extra_weight)\n",
    "\n",
    "            # Increments for next iteration\n",
    "            cur_extra_weight += increment"
   ]
  },
  {
   "cell_type": "code",
   "execution_count": 50,
   "metadata": {},
   "outputs": [
    {
     "name": "stdout",
     "output_type": "stream",
     "text": [
      "Already Checked 1000 Weighting Distributions.\n",
      "Already Checked 2000 Weighting Distributions.\n",
      "Already Checked 3000 Weighting Distributions.\n"
     ]
    }
   ],
   "source": [
    "# Find the best weighting distribution\n",
    "find_weight(0, [], 1 - ticker_count * (min_weight))"
   ]
  },
  {
   "cell_type": "code",
   "execution_count": 51,
   "metadata": {},
   "outputs": [
    {
     "name": "stdout",
     "output_type": "stream",
     "text": [
      "The highest recorded std is 2.115425751221299\n",
      "The ticker in the portfolio and corresponding weights:\n"
     ]
    },
    {
     "data": {
      "text/plain": [
       "(['OXY', 'SLB', 'COP', 'COF', 'AIG', 'SPG', 'AXP', 'BAC', 'USB', 'BK'],\n",
       " [0.35, 0.25, 0.05, 0.05, 0.05, 0.05, 0.05, 0.05, 0.05, 0.05])"
      ]
     },
     "execution_count": 51,
     "metadata": {},
     "output_type": "execute_result"
    }
   ],
   "source": [
    "print('The highest recorded std is', max_std)\n",
    "print('The ticker in the portfolio and corresponding weights:')\n",
    "max_corr_ticker_lst, optimal_weights"
   ]
  },
  {
   "cell_type": "markdown",
   "metadata": {},
   "source": [
    "## Part #3: Proof and Analysis\n"
   ]
  },
  {
   "cell_type": "markdown",
   "metadata": {},
   "source": [
    "### Step #7: Graph the portfolio standard deviation for different weighting distributions\n",
    "\n",
    "We will graph all the recorded Portfolio Standard Deviation in a histogram to show how volatile of the portfolio if it was distributed otherwise.\n",
    "\n",
    "**NOTE:** This graph should exhibits a normal distribution (more in the middle; less on the sides). Therefore, if the weight is chosen randomly, it is very unlikely that the Portfolio Standard Deviation is maximized. This proves that the exhausive method of weighting distribution is necessary to find the best portfolio, as outlined by the red line."
   ]
  },
  {
   "cell_type": "code",
   "execution_count": 52,
   "metadata": {},
   "outputs": [
    {
     "data": {
      "image/png": "[encoded data removed]",
      "text/plain": [
       "<Figure size 1080x720 with 1 Axes>"
      ]
     },
     "metadata": {
      "needs_background": "light"
     },
     "output_type": "display_data"
    }
   ],
   "source": [
    "### Use a histogram to show the std of other weightings\n",
    "# Create the interval classes\n",
    "bins_max = max(all_std)\n",
    "bins_min = min(all_std)\n",
    "bins_intervals = 100\n",
    "bins = np.linspace(bins_min, bins_max, bins_intervals)\n",
    "\n",
    "# Create the histogram\n",
    "plt.rcParams[\"figure.figsize\"] = (15,10)\n",
    "plt.hist(all_std, bins, color='b', label='std')\n",
    "plt.axvline(x=max_std, color='r', label='max std', linewidth=3)\n",
    "\n",
    "# Formatting\n",
    "plt.title(\"Distribution of Std of Different Weighing Combinations\")\n",
    "plt.xlabel(\"Standard Deviation (in %)\")\n",
    "plt.ylabel(\"Frequency\")\n",
    "plt.legend(loc='best')\n",
    "\n",
    "# Display\n",
    "plt.show()"
   ]
  },
  {
   "cell_type": "markdown",
   "metadata": {},
   "source": [
    "### Step #8: Given the chosen portfolio, measure its performance against the price weighted index consisting of all filtered US Stocks"
   ]
  },
  {
   "cell_type": "code",
   "execution_count": null,
   "metadata": {},
   "outputs": [],
   "source": []
  },
  {
   "cell_type": "markdown",
   "metadata": {},
   "source": [
    "## Part #4: Final Output\n"
   ]
  },
  {
   "cell_type": "markdown",
   "metadata": {},
   "source": [
    "### Step 9 the graph"
   ]
  },
  {
   "cell_type": "code",
   "execution_count": 53,
   "metadata": {},
   "outputs": [
    {
     "data": {
      "text/plain": [
       "Text(0, 0.5, 'Standrad Deviaiton')"
      ]
     },
     "execution_count": 53,
     "metadata": {},
     "output_type": "execute_result"
    },
    {
     "data": {
      "image/png": "[encoded data removed]",
      "text/plain": [
       "<Figure size 1440x1080 with 1 Axes>"
      ]
     },
     "metadata": {
      "needs_background": "light"
     },
     "output_type": "display_data"
    }
   ],
   "source": [
    "### Step #9: Given the chosen portfolio of 10 stocks, graph the change in portfolio standard deviation as other risky stocks (from the 10 that weren’t chosen in Step 4) are added in\n",
    "max_corr_ticker_lst\n",
    "#Will beging to remove stocks \n",
    "rest_of_stocks = filtered_stocks.copy()\n",
    "\n",
    "#Filter out max_corr_lst\n",
    "for y in range (len (max_corr_ticker_lst)):\n",
    "\n",
    "    for u in range (len (rest_of_stocks)-1):\n",
    "\n",
    "        if (max_corr_ticker_lst[y] == rest_of_stocks[u].info['symbol']):\n",
    "            rest_of_stocks.pop(u)\n",
    "max_corr_ticker_lst\n",
    "rest_of_stocks\n",
    "#Array with just the stock names\n",
    "rest_of_stocks_name = []\n",
    "for g in rest_of_stocks:\n",
    "    rest_of_stocks_name.append(g.info['symbol'])\n",
    "\n",
    "rest_of_stocks_name\n",
    "#Array that contains all of the stocks names Will be used later on for reference\n",
    "all_stock_names = rest_of_stocks_name + max_corr_ticker_lst\n",
    "\n",
    "all_stock_names\n",
    "#Begin to try to make the code block below recursive\n",
    "#Need to make it accumulatively recursive\n",
    "\n",
    "SD_array = []\n",
    "\n",
    "def find_std(dataframe, num_list_of_stocks):\n",
    "    portfolio_std = dataframe.pct_change().std()[num_list_of_stocks-1]\n",
    "\n",
    "    SD_array.append(portfolio_std)\n",
    "    \n",
    "def collect_multiple_std(initial_10, stocks_add_on): #stocks_add_on needs to be rest_of_stocks_name\n",
    "    global all_price_df\n",
    "\n",
    "    collection_of_dataframes = []\n",
    "    \n",
    "    #Just the dataframe with 10 stocks\n",
    "    for g in initial_10:\n",
    "        collection_of_dataframes.append(pd.DataFrame(all_price_df.loc[:,g]))\n",
    "    \n",
    "    shares_10_df = pd.concat(collection_of_dataframes, join='inner', axis=1)\n",
    "    #Up to here works 100%\n",
    "\n",
    "    #Calculates number of stocks I need\n",
    "    money_per_stock = 100000/10\n",
    "    \n",
    "    #Number of shares\n",
    "    num_shares = []\n",
    "    for h in range(len(initial_10)):\n",
    "        num_shares.append(money_per_stock / shares_10_df.iloc[0,h])\n",
    "    \n",
    "    #Create the portfolio value\n",
    "    portfolio_value = 0\n",
    "    for k in range(len(initial_10)):\n",
    "        portfolio_value = portfolio_value + num_shares[k]*shares_10_df.iloc[:,k]  \n",
    "\n",
    "    data = {'Date': shares_10_df.index,\n",
    "            'Portfolio_Value': portfolio_value}\n",
    "    \n",
    "    portfolio_frame = pd.DataFrame(data)\n",
    "    \n",
    "    portfolio_dataframe_10= pd.concat([shares_10_df, portfolio_frame], join='inner', axis=1)\n",
    "    \n",
    "    #Drop the duplicate column\n",
    "    portfolio_dataframe_10.drop(columns=['Date'], inplace=True)  \n",
    "    find_std(portfolio_dataframe_10, len(portfolio_dataframe_10.columns))\n",
    "\n",
    "    #Up to here works 100%\n",
    "\n",
    "    ## Now make the loop to make more stocks\n",
    "    current_frame_array = [shares_10_df.copy()]\n",
    "    for g in range (len (stocks_add_on)):\n",
    "        next_frame = (pd.DataFrame(all_price_df.loc[:,stocks_add_on[g]]))\n",
    "        current_frame_array.append(next_frame)\n",
    "            \n",
    "        current_frame = pd.concat(current_frame_array, join='inner',axis=1)\n",
    "        \n",
    "        #Amount of money per stock\n",
    "        money_per_stock = 100000 / len(current_frame.columns)\n",
    "    \n",
    "        #Number of shares\n",
    "        num_shares = []\n",
    "        for h in range(len(current_frame.columns)):\n",
    "            num_shares.append(money_per_stock / current_frame.iloc[0,h])\n",
    "        \n",
    "        #Create the portfolio value\n",
    "        portfolio_value = 0\n",
    "        for k in range(len(current_frame.columns)):\n",
    "            portfolio_value = portfolio_value + num_shares[k]*current_frame.iloc[:,k]  \n",
    "\n",
    "        data = {'Date': current_frame.index,\n",
    "                'Portfolio_Value': portfolio_value}\n",
    "        \n",
    "        portfolio_frame = pd.DataFrame(data)\n",
    "        \n",
    "        portfolio_dataframe= pd.concat([shares_10_df, portfolio_frame], join='inner', axis=1)\n",
    "        \n",
    "        #Drop the duplicate column\n",
    "        portfolio_dataframe.drop(columns=['Date'], inplace=True)  \n",
    "\n",
    "        find_std(portfolio_dataframe, len(portfolio_dataframe.columns))\n",
    "        \n",
    "\n",
    "\n",
    "collect_multiple_std(max_corr_ticker_lst, rest_of_stocks_name)\n",
    "SD_array\n",
    "\n",
    "\n",
    "\n",
    "\n",
    "nums = []\n",
    "for k in range (46):\n",
    "    nums.append(k+1)\n",
    "\n",
    "#graphing out portion\n",
    "plt.figure(figsize=(20,15))\n",
    "\n",
    "plt.plot(nums, SD_array, color='b', label='Standard Deviaiton')\n",
    "plt.legend(loc='best')\n",
    "plt.title('Standard Deviation of the Percentage Return as more stocks are added into an equally weighted portfolio from our initial 10 most voatile stocks')\n",
    "plt.xlabel('Number of additional stocks')\n",
    "plt.ylabel('Standrad Deviaiton')\n"
   ]
  },
  {
   "cell_type": "markdown",
   "metadata": {},
   "source": [
    "### Step 10 Beta with S&P 500"
   ]
  },
  {
   "cell_type": "code",
   "execution_count": 54,
   "metadata": {},
   "outputs": [],
   "source": [
    "#Reuqire the portfolio before we can start calculating the Beta\n",
    "# Access the price on the required date\n",
    "def price_on_date(ticker, date, next_date):\n",
    "    return yf.Ticker(ticker).history(start=date, end=next_date)[['Close']].iloc[0,0]"
   ]
  },
  {
   "cell_type": "code",
   "execution_count": 55,
   "metadata": {},
   "outputs": [],
   "source": [
    "### Create the output as required\n",
    "# Define important variables\n",
    "final_tickers = max_corr_ticker_lst\n",
    "final_weights = optimal_weights\n",
    "investment = 1000000\n",
    "required_date = '2021-11-11'\n",
    "next_date = '2021-11-12'\n",
    "\n",
    "# Get the price, share, value, weight of the ticker on required date\n",
    "price = []\n",
    "value = []\n",
    "share = []\n",
    "weight = []\n",
    "for i in range (len(final_tickers)):\n",
    "    price.append(price_on_date(str(final_tickers[i]), required_date, next_date))\n",
    "    value.append(investment * final_weights[i])\n",
    "    share.append(value[i] / price[i])\n",
    "    weight.append(final_weights[i] * 100)\n",
    "    \n",
    "\n",
    "# Create a diction to store the required info\n",
    "final_dic = {'Ticker' : final_tickers,\n",
    "             'Price'  : price,\n",
    "             'Shares' : share,\n",
    "             'Value'  : value,\n",
    "             'Weight' : weight}\n",
    "\n",
    "# Create the final df\n",
    "FinalPortfolio = pd.DataFrame(final_dic)\n",
    "# Shift the index\n",
    "FinalPortfolio.index = np.arange(1, len(FinalPortfolio)+1)"
   ]
  },
  {
   "cell_type": "code",
   "execution_count": 56,
   "metadata": {},
   "outputs": [
    {
     "name": "stdout",
     "output_type": "stream",
     "text": [
      "               Our_Portfolio     ^GSPC\n",
      "Our_Portfolio       8.591629  1.619168\n",
      "^GSPC               1.619168  1.000000\n",
      "The Beta of our portfolio is:  1.6191683868264457\n"
     ]
    }
   ],
   "source": [
    "### Step 10: Calculate the Beta and comment on hor our portfolio significantly riskier than the S&p 500\n",
    "def portfolio_cal(tickers, weights, start_date, end_date, investment=100000):\n",
    "    # Load the global variable price dataframe\n",
    "    global all_price_df\n",
    "    \n",
    "    # Store the size of tickers as a variable\n",
    "    ticker_count = len(tickers)\n",
    "    \n",
    "    # Store the portfolio value in a new dataframe, starting with all zeros\n",
    "    port_df = all_price_df[(start_date <= all_price_df.index) & (all_price_df.index <= end_date)][tickers]\n",
    "    \n",
    "    # Calculate the shares for each stock at the first avaliable date after start_date\n",
    "    first_date = all_price_df.index[all_price_df.index >= start_date][0]\n",
    "    for i in range (ticker_count):\n",
    "        shares = (investment * weights[i] / port_df.loc[first_date, tickers[i]])\n",
    "        port_df[tickers[i]] = port_df[tickers[i]] * shares\n",
    "\n",
    "    # Calculate percentage returns\n",
    "    port_df['Portfolio_Value'] = port_df[tickers].sum(axis=1)\n",
    "\n",
    "    # Calculate and return the std\n",
    "    return port_df\n",
    "Our_portfolio = portfolio_cal (max_corr_ticker_lst, weight, '2021-07-02', '2021-10-22', investment=100000)\n",
    "MarketIndex = '^GSPC'\n",
    "Ticker2 = yf.Ticker(MarketIndex)\n",
    "\n",
    "MarketIndex_hist = Ticker2.history (start='2021-07-02', end='2021-10-22')\n",
    "prices = pd.DataFrame(Our_portfolio['Portfolio_Value'])\n",
    "prices.columns = ['Our_Portfolio']\n",
    "prices[MarketIndex] = MarketIndex_hist['Close']\n",
    "\n",
    "daily_returns = prices.pct_change()\n",
    "daily_returns.drop(index = daily_returns.index[0], inplace=True)\n",
    "MarketVar = daily_returns[MarketIndex].var()\n",
    "\n",
    "Beta = daily_returns.cov()/MarketVar\n",
    "\n",
    "print(Beta)\n",
    "\n",
    "print('The Beta of our portfolio is: ', Beta.iat[0,1])"
   ]
  },
  {
   "cell_type": "markdown",
   "metadata": {},
   "source": [
    "### Step 11 Claculate the beta sbetween equally weighted index"
   ]
  },
  {
   "cell_type": "code",
   "execution_count": 57,
   "metadata": {},
   "outputs": [
    {
     "name": "stdout",
     "output_type": "stream",
     "text": [
      "                      Our_Portfolio  Equal_Weighted_Index\n",
      "Our_Portfolio              8.156197              2.120042\n",
      "Equal_Weighted_Index       2.120042              1.000000\n",
      "The Beta of our portfolio is:  2.1200419275518336\n"
     ]
    }
   ],
   "source": [
    "### Step 11 Calculate the beta showing our portfolio is riskier than the equally weighted index\n",
    "start_date = '2021-07-02'\n",
    "end_date = '2021-10-22'\n",
    "\n",
    "def make_equal_weighted_portfolio(list_of_stocks):\n",
    "\n",
    "    global all_price_df\n",
    "\n",
    "    closing_prices_of_stocks = []\n",
    "    for g in list_of_stocks:\n",
    "        closing_prices_of_stocks.append(pd.DataFrame(all_price_df.loc[:,g])) #converted to just a loc\n",
    "\n",
    "    pwindex = pd.concat(closing_prices_of_stocks, join='inner', axis=1)\n",
    "\n",
    "    amount_per_stock = 100000 / len(pwindex.columns)\n",
    "    num_shares = []\n",
    "    for r in range (len(pwindex.columns)):\n",
    "        num_shares.append(amount_per_stock/pwindex.iloc[0,r])\n",
    "    \n",
    "    portfolio_values = []\n",
    "    for i in range (len (pwindex.index)):\n",
    "        p=0\n",
    "        for u in range (len (pwindex.columns)):\n",
    "            p = p + pwindex.iloc[i,u] * num_shares[u]\n",
    "        portfolio_values.append (p)\n",
    "    \n",
    "    data = {'Date': pwindex.index,\n",
    "            'Value': portfolio_values}\n",
    "\n",
    "    data_df = pd.DataFrame(data)\n",
    "    data_df.set_index('Date', inplace=True)\n",
    "\n",
    "    return data_df\n",
    "\n",
    "data_df = make_equal_weighted_portfolio(all_stock_names)\n",
    "\n",
    "data_df\n",
    "    \n",
    "prices = pd.DataFrame(Our_portfolio['Portfolio_Value'])\n",
    "prices.columns = ['Our_Portfolio']\n",
    "prices['Equal_Weighted_Index'] = data_df['Value']\n",
    "\n",
    "daily_returns = prices.pct_change()\n",
    "daily_returns.drop(index = daily_returns.index[0], inplace=True)\n",
    "MarketVar = daily_returns['Equal_Weighted_Index'].var()\n",
    "\n",
    "Beta = daily_returns.cov()/MarketVar\n",
    "\n",
    "print(Beta)\n",
    "\n",
    "print('The Beta of our portfolio is: ', Beta.iat[0,1])"
   ]
  },
  {
   "cell_type": "markdown",
   "metadata": {},
   "source": [
    "### Step 12 Beta between price weighted index"
   ]
  },
  {
   "cell_type": "code",
   "execution_count": 58,
   "metadata": {},
   "outputs": [
    {
     "name": "stdout",
     "output_type": "stream",
     "text": [
      "                      Our_Portfolio  Price_Weighted_Index\n",
      "Our_Portfolio              6.359991              1.146042\n",
      "Price_Weighted_Index       1.146042              1.000000\n",
      "The Beta of our portfolio is:  1.1460419881157988\n"
     ]
    }
   ],
   "source": [
    "### Step 12 Beta between price weighted index \n",
    "closing_prices_of_stocks = []\n",
    "for g in all_stock_names:\n",
    "    closing_prices_of_stocks.append(pd.DataFrame(all_price_df.loc[:,g]))\n",
    "\n",
    "pwindex = pd.concat(closing_prices_of_stocks, join='inner', axis=1)\n",
    "\n",
    "pwindex['PWIndex_Value'] = pwindex.sum(axis=1)\n",
    "pwindex['PWIndex_Value'] /= (len(pwindex.columns)-1)\n",
    "\n",
    "pwindex\n",
    "prices = pd.DataFrame(Our_portfolio['Portfolio_Value'])\n",
    "prices.columns = ['Our_Portfolio']\n",
    "prices['Price_Weighted_Index'] = pwindex['PWIndex_Value']\n",
    "\n",
    "daily_returns = prices.pct_change()\n",
    "daily_returns.drop(index = daily_returns.index[0], inplace=True)\n",
    "MarketVar = daily_returns['Price_Weighted_Index'].var()\n",
    "\n",
    "Beta = daily_returns.cov()/MarketVar\n",
    "\n",
    "print(Beta)\n",
    "\n",
    "print('The Beta of our portfolio is: ', Beta.iat[0,1])"
   ]
  },
  {
   "cell_type": "markdown",
   "metadata": {},
   "source": [
    "### Step 13 Beta between that and our portfolio and 10 equally weighted"
   ]
  },
  {
   "cell_type": "code",
   "execution_count": 59,
   "metadata": {},
   "outputs": [
    {
     "name": "stdout",
     "output_type": "stream",
     "text": [
      "                         Our_Portfolio  Equal_Weighted_Index_10\n",
      "Our_Portfolio                 1.726386                 1.254586\n",
      "Equal_Weighted_Index_10       1.254586                 1.000000\n",
      "The Beta of our portfolio is:  1.254586297632165\n"
     ]
    }
   ],
   "source": [
    "### Comapre Beta between our portfolio and an equally weighted 10 portfolio\n",
    "equal_10 = make_equal_weighted_portfolio(max_corr_ticker_lst)\n",
    "\n",
    "equal_10\n",
    "prices = pd.DataFrame(Our_portfolio['Portfolio_Value'])\n",
    "prices.columns = ['Our_Portfolio']\n",
    "prices['Equal_Weighted_Index_10'] = equal_10['Value']\n",
    "\n",
    "daily_returns = prices.pct_change()\n",
    "daily_returns.drop(index = daily_returns.index[0], inplace=True)\n",
    "MarketVar = daily_returns['Equal_Weighted_Index_10'].var()\n",
    "\n",
    "Beta = daily_returns.cov()/MarketVar\n",
    "\n",
    "print(Beta)\n",
    "\n",
    "print('The Beta of our portfolio is: ', Beta.iat[0,1])"
   ]
  },
  {
   "cell_type": "markdown",
   "metadata": {},
   "source": [
    "### Step #10: Creating the final portfolio dataframe and csv"
   ]
  },
  {
   "cell_type": "code",
   "execution_count": 60,
   "metadata": {},
   "outputs": [
    {
     "name": "stdout",
     "output_type": "stream",
     "text": [
      "The sum of all Value is $1000000.0.\n",
      "The sum of all Weight is 100.0%.\n"
     ]
    }
   ],
   "source": [
    "# Show that value adds to $100,000, the weights add to 100%\n",
    "sum_value = FinalPortfolio['Value'].sum()\n",
    "sum_weight = FinalPortfolio['Weight'].sum()\n",
    "print(f'The sum of all Value is ${sum_value}.')\n",
    "print(f'The sum of all Weight is {sum_weight}%.')"
   ]
  },
  {
   "cell_type": "code",
   "execution_count": 61,
   "metadata": {},
   "outputs": [],
   "source": [
    "# Creating the output csv\n",
    "Stocks = FinalPortfolio[['Ticker', 'Shares']]\n",
    "Stocks.to_csv('Stocks_Group_17.csv')"
   ]
  },
  {
   "cell_type": "code",
   "execution_count": 62,
   "metadata": {},
   "outputs": [
    {
     "data": {
      "text/html": [
       "<div>\n",
       "<style scoped>\n",
       "    .dataframe tbody tr th:only-of-type {\n",
       "        vertical-align: middle;\n",
       "    }\n",
       "\n",
       "    .dataframe tbody tr th {\n",
       "        vertical-align: top;\n",
       "    }\n",
       "\n",
       "    .dataframe thead th {\n",
       "        text-align: right;\n",
       "    }\n",
       "</style>\n",
       "<table border=\"1\" class=\"dataframe\">\n",
       "  <thead>\n",
       "    <tr style=\"text-align: right;\">\n",
       "      <th></th>\n",
       "      <th>Ticker</th>\n",
       "      <th>Price</th>\n",
       "      <th>Shares</th>\n",
       "      <th>Value</th>\n",
       "      <th>Weight</th>\n",
       "    </tr>\n",
       "  </thead>\n",
       "  <tbody>\n",
       "    <tr>\n",
       "      <th>1</th>\n",
       "      <td>OXY</td>\n",
       "      <td>32.119999</td>\n",
       "      <td>10896.637971</td>\n",
       "      <td>350000.0</td>\n",
       "      <td>35.0</td>\n",
       "    </tr>\n",
       "    <tr>\n",
       "      <th>2</th>\n",
       "      <td>SLB</td>\n",
       "      <td>32.779999</td>\n",
       "      <td>7626.601870</td>\n",
       "      <td>250000.0</td>\n",
       "      <td>25.0</td>\n",
       "    </tr>\n",
       "    <tr>\n",
       "      <th>3</th>\n",
       "      <td>COP</td>\n",
       "      <td>72.139999</td>\n",
       "      <td>693.096762</td>\n",
       "      <td>50000.0</td>\n",
       "      <td>5.0</td>\n",
       "    </tr>\n",
       "    <tr>\n",
       "      <th>4</th>\n",
       "      <td>COF</td>\n",
       "      <td>156.549988</td>\n",
       "      <td>319.386802</td>\n",
       "      <td>50000.0</td>\n",
       "      <td>5.0</td>\n",
       "    </tr>\n",
       "    <tr>\n",
       "      <th>5</th>\n",
       "      <td>AIG</td>\n",
       "      <td>58.860001</td>\n",
       "      <td>849.473318</td>\n",
       "      <td>50000.0</td>\n",
       "      <td>5.0</td>\n",
       "    </tr>\n",
       "    <tr>\n",
       "      <th>6</th>\n",
       "      <td>SPG</td>\n",
       "      <td>165.440002</td>\n",
       "      <td>302.224367</td>\n",
       "      <td>50000.0</td>\n",
       "      <td>5.0</td>\n",
       "    </tr>\n",
       "    <tr>\n",
       "      <th>7</th>\n",
       "      <td>AXP</td>\n",
       "      <td>181.300003</td>\n",
       "      <td>275.785985</td>\n",
       "      <td>50000.0</td>\n",
       "      <td>5.0</td>\n",
       "    </tr>\n",
       "    <tr>\n",
       "      <th>8</th>\n",
       "      <td>BAC</td>\n",
       "      <td>47.490002</td>\n",
       "      <td>1052.853195</td>\n",
       "      <td>50000.0</td>\n",
       "      <td>5.0</td>\n",
       "    </tr>\n",
       "    <tr>\n",
       "      <th>9</th>\n",
       "      <td>USB</td>\n",
       "      <td>60.779999</td>\n",
       "      <td>822.639043</td>\n",
       "      <td>50000.0</td>\n",
       "      <td>5.0</td>\n",
       "    </tr>\n",
       "    <tr>\n",
       "      <th>10</th>\n",
       "      <td>BK</td>\n",
       "      <td>59.990002</td>\n",
       "      <td>833.472222</td>\n",
       "      <td>50000.0</td>\n",
       "      <td>5.0</td>\n",
       "    </tr>\n",
       "  </tbody>\n",
       "</table>\n",
       "</div>"
      ],
      "text/plain": [
       "   Ticker       Price        Shares     Value  Weight\n",
       "1     OXY   32.119999  10896.637971  350000.0    35.0\n",
       "2     SLB   32.779999   7626.601870  250000.0    25.0\n",
       "3     COP   72.139999    693.096762   50000.0     5.0\n",
       "4     COF  156.549988    319.386802   50000.0     5.0\n",
       "5     AIG   58.860001    849.473318   50000.0     5.0\n",
       "6     SPG  165.440002    302.224367   50000.0     5.0\n",
       "7     AXP  181.300003    275.785985   50000.0     5.0\n",
       "8     BAC   47.490002   1052.853195   50000.0     5.0\n",
       "9     USB   60.779999    822.639043   50000.0     5.0\n",
       "10     BK   59.990002    833.472222   50000.0     5.0"
      ]
     },
     "execution_count": 62,
     "metadata": {},
     "output_type": "execute_result"
    }
   ],
   "source": [
    "# Display the final portfolio\n",
    "FinalPortfolio"
   ]
  },
  {
   "cell_type": "markdown",
   "metadata": {},
   "source": [
    "## Contribution Declaration\n",
    "\n",
    "The following team members made a meaningful contribution to this assignment:\n",
    "\n",
    "Insert Names Here. "
   ]
  },
  {
   "cell_type": "code",
   "execution_count": null,
   "metadata": {},
   "outputs": [],
   "source": []
  }
 ],
 "metadata": {
  "interpreter": {
   "hash": "40d3a090f54c6569ab1632332b64b2c03c39dcf918b08424e98f38b5ae0af88f"
  },
  "kernelspec": {
   "display_name": "Python 3.9.7 64-bit",
   "language": "python",
   "name": "python3"
  },
  "language_info": {
   "codemirror_mode": {
    "name": "ipython",
    "version": 3
   },
   "file_extension": ".py",
   "mimetype": "text/x-python",
   "name": "python",
   "nbconvert_exporter": "python",
   "pygments_lexer": "ipython3",
   "version": "3.9.6"
  },
  "metadata": {
   "interpreter": {
    "hash": "b0fa6594d8f4cbf19f97940f81e996739fb7646882a419484c72d19e05852a7e"
   }
  }
 },
 "nbformat": 4,
 "nbformat_minor": 2
}
