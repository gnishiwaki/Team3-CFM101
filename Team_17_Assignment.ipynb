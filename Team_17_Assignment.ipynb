{
 "cells": [
  {
   "cell_type": "code",
   "execution_count": 3,
   "metadata": {},
   "outputs": [],
   "source": [
    "from IPython.display import display, Math, Latex\n",
    "\n",
    "import pandas as pd\n",
    "import numpy as np\n",
    "import numpy_financial as npf\n",
    "import yfinance as yf\n",
    "import matplotlib.pyplot as plt\n",
    "from datetime import datetime"
   ]
  },
  {
   "cell_type": "markdown",
   "metadata": {},
   "source": [
    "## Group Assignment\n",
    "### Team Number: 17\n",
    "### Team Member Names: John, Gen, Tim\n",
    "### Team Strategy Chosen: Risky "
   ]
  },
  {
   "cell_type": "markdown",
   "metadata": {},
   "source": [
    "Requirements for this assignment:\n",
    "- Code needs to be dynamic\n",
    "- Must read in a csv file containing a finite number of stock tickers (with an example csv file in this repo)\n",
    "- Portfolio must contain only US listed stocks\n",
    "- Must have an average daily volume of at least 10 000 shares as calculated based on the time interval July 2, 2021 to October 22, 2021\n",
    "- Pick a minimum 10 maximum 20 stocks for portfolio.\n",
    "- If we choose n stocks, each stock must make up minimum (100/(2n))% of the portfolio when weighted by value as of closing prices on November 26, 2021\n",
    "- No individual stock may make up more than 35% of the portfolio when weighted by value\n",
    "- We have $100000 USD to spend on portfolio and all must be spent\n",
    "- When code is run with the .csv file, it must create a DataFrame \"FinalPortfolio\"\n",
    "    - With this portfolio, index starts at 1 and ends at the number of stocks that our code chooses.\n",
    "    - Headings must be: Ticker, Price, Shares, Value, Weight\n",
    "        - Ticker is the ticker selected\n",
    "        - Price is the price on November 26, 2021\n",
    "        - Shares is the number of shares purchased (can be fractional)\n",
    "        - Value is the total value of those shares\n",
    "        - Weighted is the weight that the value of shares represents relative to the value of the portfolio (which is $100,000)\n",
    "    - Needs to show that the total adds up to $100,000\n",
    "    - Also need to show the weights add to 100%\n",
    "    - This DataFrame must be printed to the screen as the second to last output to the screen.\n",
    "- After the DataFrame, one final DataFrame called \"Stocks\" which has the same index as \"Final Portfolio\" must be mad\n",
    "    - Only has the Tickers and Shares from \"Final Portfolio\"\n",
    "    - Must output this DataFrame to a csv file titled \"Stocks_Group_XX.csv\""
   ]
  },
  {
   "cell_type": "code",
   "execution_count": 4,
   "metadata": {},
   "outputs": [
    {
     "data": {
      "text/html": [
       "<div>\n",
       "<style scoped>\n",
       "    .dataframe tbody tr th:only-of-type {\n",
       "        vertical-align: middle;\n",
       "    }\n",
       "\n",
       "    .dataframe tbody tr th {\n",
       "        vertical-align: top;\n",
       "    }\n",
       "\n",
       "    .dataframe thead th {\n",
       "        text-align: right;\n",
       "    }\n",
       "</style>\n",
       "<table border=\"1\" class=\"dataframe\">\n",
       "  <thead>\n",
       "    <tr style=\"text-align: right;\">\n",
       "      <th></th>\n",
       "      <th>AAPL</th>\n",
       "    </tr>\n",
       "  </thead>\n",
       "  <tbody>\n",
       "    <tr>\n",
       "      <th>0</th>\n",
       "      <td>ABBV</td>\n",
       "    </tr>\n",
       "    <tr>\n",
       "      <th>1</th>\n",
       "      <td>ABT</td>\n",
       "    </tr>\n",
       "    <tr>\n",
       "      <th>2</th>\n",
       "      <td>ACN</td>\n",
       "    </tr>\n",
       "    <tr>\n",
       "      <th>3</th>\n",
       "      <td>AGN</td>\n",
       "    </tr>\n",
       "    <tr>\n",
       "      <th>4</th>\n",
       "      <td>AIG</td>\n",
       "    </tr>\n",
       "    <tr>\n",
       "      <th>...</th>\n",
       "      <td>...</td>\n",
       "    </tr>\n",
       "    <tr>\n",
       "      <th>56</th>\n",
       "      <td>TXN</td>\n",
       "    </tr>\n",
       "    <tr>\n",
       "      <th>57</th>\n",
       "      <td>UNH</td>\n",
       "    </tr>\n",
       "    <tr>\n",
       "      <th>58</th>\n",
       "      <td>UNP</td>\n",
       "    </tr>\n",
       "    <tr>\n",
       "      <th>59</th>\n",
       "      <td>UPS</td>\n",
       "    </tr>\n",
       "    <tr>\n",
       "      <th>60</th>\n",
       "      <td>USB</td>\n",
       "    </tr>\n",
       "  </tbody>\n",
       "</table>\n",
       "<p>61 rows × 1 columns</p>\n",
       "</div>"
      ],
      "text/plain": [
       "    AAPL\n",
       "0   ABBV\n",
       "1    ABT\n",
       "2    ACN\n",
       "3    AGN\n",
       "4    AIG\n",
       "..   ...\n",
       "56   TXN\n",
       "57   UNH\n",
       "58   UNP\n",
       "59   UPS\n",
       "60   USB\n",
       "\n",
       "[61 rows x 1 columns]"
      ]
     },
     "execution_count": 4,
     "metadata": {},
     "output_type": "execute_result"
    }
   ],
   "source": [
    "stocks_from_csv = pd.read_csv('Tickers.csv')\n",
    "stocks_from_csv\n"
   ]
  },
  {
   "cell_type": "code",
   "execution_count": 5,
   "metadata": {},
   "outputs": [
    {
     "data": {
      "text/plain": [
       "0     ABBV\n",
       "1      ABT\n",
       "2      ACN\n",
       "3      AGN\n",
       "4      AIG\n",
       "      ... \n",
       "56     TXN\n",
       "57     UNH\n",
       "58     UNP\n",
       "59     UPS\n",
       "60     USB\n",
       "Name: AAPL, Length: 61, dtype: object"
      ]
     },
     "execution_count": 5,
     "metadata": {},
     "output_type": "execute_result"
    }
   ],
   "source": [
    "stocks_lst = stocks_from_csv.iloc[:,0]\n",
    "stocks_lst"
   ]
  },
  {
   "cell_type": "code",
   "execution_count": 6,
   "metadata": {},
   "outputs": [
    {
     "data": {
      "text/plain": [
       "'AAPL'"
      ]
     },
     "execution_count": 6,
     "metadata": {},
     "output_type": "execute_result"
    }
   ],
   "source": [
    "stocks_from_csv.columns[0]"
   ]
  },
  {
   "cell_type": "code",
   "execution_count": 7,
   "metadata": {},
   "outputs": [
    {
     "data": {
      "text/plain": [
       "'us_market'"
      ]
     },
     "execution_count": 7,
     "metadata": {},
     "output_type": "execute_result"
    }
   ],
   "source": [
    "current_stock=yf.Ticker(stocks_lst[0])\n",
    "current_stock.info['market']"
   ]
  },
  {
   "cell_type": "code",
   "execution_count": 8,
   "metadata": {},
   "outputs": [],
   "source": [
    "us_stock_lst = []\n",
    "i=0\n",
    "while i < stocks_from_csv.index.size:\n",
    "    if (yf.Ticker(stocks_lst[i]).info['regularMarketPrice'] != None) and (yf.Ticker(stocks_lst[i]).info['market']=='us_market'):\n",
    "        us_stock_lst.append(yf.Ticker(stocks_lst[i]))\n",
    "    i+=1"
   ]
  },
  {
   "cell_type": "code",
   "execution_count": 9,
   "metadata": {},
   "outputs": [
    {
     "data": {
      "text/plain": [
       "[yfinance.Ticker object <ABBV>,\n",
       " yfinance.Ticker object <ABT>,\n",
       " yfinance.Ticker object <ACN>,\n",
       " yfinance.Ticker object <AIG>,\n",
       " yfinance.Ticker object <AMZN>,\n",
       " yfinance.Ticker object <AXP>,\n",
       " yfinance.Ticker object <BA>,\n",
       " yfinance.Ticker object <BAC>,\n",
       " yfinance.Ticker object <BIIB>,\n",
       " yfinance.Ticker object <BK>,\n",
       " yfinance.Ticker object <BLK>,\n",
       " yfinance.Ticker object <BMY>,\n",
       " yfinance.Ticker object <C>,\n",
       " yfinance.Ticker object <CAT>,\n",
       " yfinance.Ticker object <CL>,\n",
       " yfinance.Ticker object <CMCSA>,\n",
       " yfinance.Ticker object <COF>,\n",
       " yfinance.Ticker object <COP>,\n",
       " yfinance.Ticker object <COST>,\n",
       " yfinance.Ticker object <CSCO>,\n",
       " yfinance.Ticker object <CVS>,\n",
       " yfinance.Ticker object <GM>,\n",
       " yfinance.Ticker object <GOOG>,\n",
       " yfinance.Ticker object <JPM>,\n",
       " yfinance.Ticker object <KMI>,\n",
       " yfinance.Ticker object <KO>,\n",
       " yfinance.Ticker object <LLY>,\n",
       " yfinance.Ticker object <LMT>,\n",
       " yfinance.Ticker object <MO>,\n",
       " yfinance.Ticker object <MON>,\n",
       " yfinance.Ticker object <MRK>,\n",
       " yfinance.Ticker object <MS>,\n",
       " yfinance.Ticker object <MSFT>,\n",
       " yfinance.Ticker object <NEE>,\n",
       " yfinance.Ticker object <NKE>,\n",
       " yfinance.Ticker object <ORCL>,\n",
       " yfinance.Ticker object <OXY>,\n",
       " yfinance.Ticker object <PEP>,\n",
       " yfinance.Ticker object <PFE>,\n",
       " yfinance.Ticker object <PG>,\n",
       " yfinance.Ticker object <PM>,\n",
       " yfinance.Ticker object <PYPL>,\n",
       " yfinance.Ticker object <QCOM>,\n",
       " yfinance.Ticker object <SBUX>,\n",
       " yfinance.Ticker object <SLB>,\n",
       " yfinance.Ticker object <SO>,\n",
       " yfinance.Ticker object <SPG>,\n",
       " yfinance.Ticker object <T>,\n",
       " yfinance.Ticker object <TGT>,\n",
       " yfinance.Ticker object <TXN>,\n",
       " yfinance.Ticker object <UNH>,\n",
       " yfinance.Ticker object <UNP>,\n",
       " yfinance.Ticker object <UPS>,\n",
       " yfinance.Ticker object <USB>]"
      ]
     },
     "execution_count": 9,
     "metadata": {},
     "output_type": "execute_result"
    }
   ],
   "source": [
    "us_stock_lst"
   ]
  },
  {
   "cell_type": "code",
   "execution_count": 83,
   "metadata": {},
   "outputs": [
    {
     "name": "stdout",
     "output_type": "stream",
     "text": [
      "[yfinance.Ticker object <ABBV>, yfinance.Ticker object <ABT>, yfinance.Ticker object <ACN>, yfinance.Ticker object <AIG>, yfinance.Ticker object <AMZN>, yfinance.Ticker object <AXP>, yfinance.Ticker object <BA>, yfinance.Ticker object <BAC>, yfinance.Ticker object <BIIB>, yfinance.Ticker object <BK>, yfinance.Ticker object <BLK>, yfinance.Ticker object <BMY>, yfinance.Ticker object <C>, yfinance.Ticker object <CAT>, yfinance.Ticker object <CL>, yfinance.Ticker object <CMCSA>, yfinance.Ticker object <COF>, yfinance.Ticker object <COP>, yfinance.Ticker object <COST>, yfinance.Ticker object <CSCO>, yfinance.Ticker object <CVS>, yfinance.Ticker object <GM>, yfinance.Ticker object <GOOG>, yfinance.Ticker object <JPM>, yfinance.Ticker object <KMI>, yfinance.Ticker object <KO>, yfinance.Ticker object <LLY>, yfinance.Ticker object <LMT>, yfinance.Ticker object <MO>, yfinance.Ticker object <MON>, yfinance.Ticker object <MRK>, yfinance.Ticker object <MS>, yfinance.Ticker object <MSFT>, yfinance.Ticker object <NEE>, yfinance.Ticker object <NKE>, yfinance.Ticker object <ORCL>, yfinance.Ticker object <OXY>, yfinance.Ticker object <PEP>, yfinance.Ticker object <PFE>, yfinance.Ticker object <PG>, yfinance.Ticker object <PM>, yfinance.Ticker object <PYPL>, yfinance.Ticker object <QCOM>, yfinance.Ticker object <SBUX>, yfinance.Ticker object <SLB>, yfinance.Ticker object <SO>, yfinance.Ticker object <SPG>, yfinance.Ticker object <T>, yfinance.Ticker object <TGT>, yfinance.Ticker object <TXN>, yfinance.Ticker object <UNH>, yfinance.Ticker object <UNP>, yfinance.Ticker object <UPS>, yfinance.Ticker object <USB>]\n"
     ]
    }
   ],
   "source": [
    "valid_stock_list = []\n",
    "\n",
    "# time interval of July 02, 2021 to October 22, 2021\n",
    "start_date = \"2021-07-02\"\n",
    "end_date = \"2021-10-22\"\n",
    "\n",
    "# Finds the average daily volume of a stock\n",
    "def avg_daily_volume(ticker):\n",
    "    ticker_history = ticker.history(start=start_date,end=end_date,interval='1d')\n",
    "    ticker_vol_avg = ticker_history['Volume'].mean()\n",
    "    return ticker_vol_avg\n",
    "    \n",
    "\n",
    "# iterates through us_stock_lst and checks if the stock has an average daily volume of at least 10,000 shares and appends to a list\n",
    "def volume_filter(ticker_lst):\n",
    "    for i in us_stock_lst:\n",
    "        if avg_daily_volume(i) >= 10_000:\n",
    "            valid_stock_list.append(i)\n",
    "        else:\n",
    "            continue\n",
    "    print(valid_stock_list)\n",
    "\n",
    "volume_filter(us_stock_lst)\n",
    "\n",
    "\n",
    "\n",
    "\n",
    "\n"
   ]
  },
  {
   "cell_type": "markdown",
   "metadata": {},
   "source": [
    "## Contribution Declaration\n",
    "\n",
    "The following team members made a meaningful contribution to this assignment:\n",
    "\n",
    "Insert Names Here. "
   ]
  },
  {
   "cell_type": "code",
   "execution_count": null,
   "metadata": {},
   "outputs": [],
   "source": []
  }
 ],
 "metadata": {
  "interpreter": {
   "hash": "887d71aaa28694ada9a01b3008abe4a6fba8ff877a5394603b639b18c4c32c88"
  },
  "kernelspec": {
   "display_name": "Python 3.9.7 64-bit",
   "language": "python",
   "name": "python3"
  },
  "language_info": {
   "codemirror_mode": {
    "name": "ipython",
    "version": 3
   },
   "file_extension": ".py",
   "mimetype": "text/x-python",
   "name": "python",
   "nbconvert_exporter": "python",
   "pygments_lexer": "ipython3",
   "version": "3.9.5"
  },
  "metadata": {
   "interpreter": {
    "hash": "7812ea015bdcee6f23a998adcdd2ef97c151c0c241b7b7070987d9313e41299d"
   }
  }
 },
 "nbformat": 4,
 "nbformat_minor": 2
}
