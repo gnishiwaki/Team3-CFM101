{
 "cells": [
  {
   "cell_type": "code",
   "execution_count": 2,
   "metadata": {},
   "outputs": [],
   "source": [
    "from IPython.display import display, Math, Latex\n",
    "\n",
    "import pandas as pd\n",
    "import numpy as np\n",
    "import numpy_financial as npf\n",
    "import yfinance as yf\n",
    "import matplotlib.pyplot as plt\n",
    "from datetime import datetime"
   ]
  },
  {
   "cell_type": "markdown",
   "metadata": {},
   "source": [
    "## Group Assignment\n",
    "### Team Number: 17\n",
    "### Team Member Names: John, Gen, Tim\n",
    "### Team Strategy Chosen: Risky "
   ]
  },
  {
   "cell_type": "markdown",
   "metadata": {},
   "source": [
    "Requirements for this assignment:\n",
    "- Code needs to be dynamic\n",
    "- Must read in a csv file containing a finite number of stock tickers (with an example csv file in this repo)\n",
    "- Portfolio must contain only US listed stocks\n",
    "- Must have an average daily volume of at least 10 000 shares as calculated based on the time interval July 2, 2021 to October 22, 2021\n",
    "- Pick a minimum 10 maximum 20 stocks for portfolio.\n",
    "- If we choose n stocks, each stock must make up minimum (100/(2n))% of the portfolio when weighted by value as of closing prices on November 26, 2021\n",
    "- No individual stock may make up more than 35% of the portfolio when weighted by value\n",
    "- We have $100000 USD to spend on portfolio and all must be spent\n",
    "- When code is run with the .csv file, it must create a DataFrame \"FinalPortfolio\"\n",
    "    - With this portfolio, index starts at 1 and ends at the number of stocks that our code chooses.\n",
    "    - Headings must be: Ticker, Price, Shares, Value, Weight\n",
    "        - Ticker is the ticker selected\n",
    "        - Price is the price on November 26, 2021\n",
    "        - Shares is the number of shares purchased (can be fractional)\n",
    "        - Value is the total value of those shares\n",
    "        - Weighted is the weight that the value of shares represents relative to the value of the portfolio (which is $100,000)\n",
    "    - Needs to show that the total adds up to $100,000\n",
    "    - Also need to show the weights add to 100%\n",
    "    - This DataFrame must be printed to the screen as the second to last output to the screen.\n",
    "- After the DataFrame, one final DataFrame called \"Stocks\" which has the same index as \"Final Portfolio\" must be mad\n",
    "    - Only has the Tickers and Shares from \"Final Portfolio\"\n",
    "    - Must output this DataFrame to a csv file titled \"Stocks_Group_XX.csv\""
   ]
  },
  {
   "cell_type": "markdown",
   "metadata": {},
   "source": [
    "### Step #1: Filter out valid US tickers"
   ]
  },
  {
   "cell_type": "code",
   "execution_count": 3,
   "metadata": {},
   "outputs": [
    {
     "data": {
      "text/html": [
       "<div>\n",
       "<style scoped>\n",
       "    .dataframe tbody tr th:only-of-type {\n",
       "        vertical-align: middle;\n",
       "    }\n",
       "\n",
       "    .dataframe tbody tr th {\n",
       "        vertical-align: top;\n",
       "    }\n",
       "\n",
       "    .dataframe thead th {\n",
       "        text-align: right;\n",
       "    }\n",
       "</style>\n",
       "<table border=\"1\" class=\"dataframe\">\n",
       "  <thead>\n",
       "    <tr style=\"text-align: right;\">\n",
       "      <th></th>\n",
       "      <th>AAPL</th>\n",
       "    </tr>\n",
       "  </thead>\n",
       "  <tbody>\n",
       "    <tr>\n",
       "      <th>0</th>\n",
       "      <td>ABBV</td>\n",
       "    </tr>\n",
       "    <tr>\n",
       "      <th>1</th>\n",
       "      <td>ABT</td>\n",
       "    </tr>\n",
       "    <tr>\n",
       "      <th>2</th>\n",
       "      <td>ACN</td>\n",
       "    </tr>\n",
       "    <tr>\n",
       "      <th>3</th>\n",
       "      <td>AGN</td>\n",
       "    </tr>\n",
       "    <tr>\n",
       "      <th>4</th>\n",
       "      <td>AIG</td>\n",
       "    </tr>\n",
       "    <tr>\n",
       "      <th>...</th>\n",
       "      <td>...</td>\n",
       "    </tr>\n",
       "    <tr>\n",
       "      <th>56</th>\n",
       "      <td>TXN</td>\n",
       "    </tr>\n",
       "    <tr>\n",
       "      <th>57</th>\n",
       "      <td>UNH</td>\n",
       "    </tr>\n",
       "    <tr>\n",
       "      <th>58</th>\n",
       "      <td>UNP</td>\n",
       "    </tr>\n",
       "    <tr>\n",
       "      <th>59</th>\n",
       "      <td>UPS</td>\n",
       "    </tr>\n",
       "    <tr>\n",
       "      <th>60</th>\n",
       "      <td>USB</td>\n",
       "    </tr>\n",
       "  </tbody>\n",
       "</table>\n",
       "<p>61 rows × 1 columns</p>\n",
       "</div>"
      ],
      "text/plain": [
       "    AAPL\n",
       "0   ABBV\n",
       "1    ABT\n",
       "2    ACN\n",
       "3    AGN\n",
       "4    AIG\n",
       "..   ...\n",
       "56   TXN\n",
       "57   UNH\n",
       "58   UNP\n",
       "59   UPS\n",
       "60   USB\n",
       "\n",
       "[61 rows x 1 columns]"
      ]
     },
     "execution_count": 3,
     "metadata": {},
     "output_type": "execute_result"
    }
   ],
   "source": [
    "stocks_from_csv = pd.read_csv('Tickers.csv')\n",
    "stocks_from_csv\n"
   ]
  },
  {
   "cell_type": "code",
   "execution_count": 4,
   "metadata": {},
   "outputs": [
    {
     "data": {
      "text/plain": [
       "0     ABBV\n",
       "1      ABT\n",
       "2      ACN\n",
       "3      AGN\n",
       "4      AIG\n",
       "      ... \n",
       "56     TXN\n",
       "57     UNH\n",
       "58     UNP\n",
       "59     UPS\n",
       "60     USB\n",
       "Name: AAPL, Length: 61, dtype: object"
      ]
     },
     "execution_count": 4,
     "metadata": {},
     "output_type": "execute_result"
    }
   ],
   "source": [
    "stocks_lst = stocks_from_csv.iloc[:,0]\n",
    "stocks_lst"
   ]
  },
  {
   "cell_type": "code",
   "execution_count": 5,
   "metadata": {},
   "outputs": [
    {
     "data": {
      "text/plain": [
       "'AAPL'"
      ]
     },
     "execution_count": 5,
     "metadata": {},
     "output_type": "execute_result"
    }
   ],
   "source": [
    "stocks_from_csv.columns[0]"
   ]
  },
  {
   "cell_type": "code",
   "execution_count": 6,
   "metadata": {},
   "outputs": [
    {
     "data": {
      "text/plain": [
       "'us_market'"
      ]
     },
     "execution_count": 6,
     "metadata": {},
     "output_type": "execute_result"
    }
   ],
   "source": [
    "current_stock=yf.Ticker(stocks_lst[0])\n",
    "current_stock.info['market']"
   ]
  },
  {
   "cell_type": "code",
   "execution_count": 8,
   "metadata": {},
   "outputs": [],
   "source": [
    "us_stock_lst = []\n",
    "i=0\n",
    "while i < stocks_from_csv.index.size:\n",
    "    ticker_yf = yf.Ticker(stocks_lst[i]) # Store as variable to optimize access time\n",
    "\n",
    "    if (ticker_yf.info['regularMarketPrice'] != None) and (ticker_yf.info['market'] == 'us_market'):\n",
    "        us_stock_lst.append(ticker_yf)\n",
    "    i+=1"
   ]
  },
  {
   "cell_type": "code",
   "execution_count": 57,
   "metadata": {},
   "outputs": [
    {
     "data": {
      "text/plain": [
       "'ABT'"
      ]
     },
     "execution_count": 57,
     "metadata": {},
     "output_type": "execute_result"
    }
   ],
   "source": [
    "us_stock_lst[1].info['symbol']"
   ]
  },
  {
   "cell_type": "markdown",
   "metadata": {},
   "source": [
    "### Step 2: Filter out tickers within date range based on daily average volume"
   ]
  },
  {
   "cell_type": "code",
   "execution_count": 16,
   "metadata": {},
   "outputs": [
    {
     "data": {
      "text/plain": [
       "[yfinance.Ticker object <ABBV>,\n",
       " yfinance.Ticker object <ABT>,\n",
       " yfinance.Ticker object <ACN>,\n",
       " yfinance.Ticker object <AIG>,\n",
       " yfinance.Ticker object <AMZN>,\n",
       " yfinance.Ticker object <AXP>,\n",
       " yfinance.Ticker object <BA>,\n",
       " yfinance.Ticker object <BAC>,\n",
       " yfinance.Ticker object <BIIB>,\n",
       " yfinance.Ticker object <BK>,\n",
       " yfinance.Ticker object <BLK>,\n",
       " yfinance.Ticker object <BMY>,\n",
       " yfinance.Ticker object <C>,\n",
       " yfinance.Ticker object <CAT>,\n",
       " yfinance.Ticker object <CL>,\n",
       " yfinance.Ticker object <CMCSA>,\n",
       " yfinance.Ticker object <COF>,\n",
       " yfinance.Ticker object <COP>,\n",
       " yfinance.Ticker object <COST>,\n",
       " yfinance.Ticker object <CSCO>,\n",
       " yfinance.Ticker object <CVS>,\n",
       " yfinance.Ticker object <GM>,\n",
       " yfinance.Ticker object <GOOG>,\n",
       " yfinance.Ticker object <JPM>,\n",
       " yfinance.Ticker object <KMI>,\n",
       " yfinance.Ticker object <KO>,\n",
       " yfinance.Ticker object <LLY>,\n",
       " yfinance.Ticker object <LMT>,\n",
       " yfinance.Ticker object <MO>,\n",
       " yfinance.Ticker object <MON>,\n",
       " yfinance.Ticker object <MRK>,\n",
       " yfinance.Ticker object <MS>,\n",
       " yfinance.Ticker object <MSFT>,\n",
       " yfinance.Ticker object <NEE>,\n",
       " yfinance.Ticker object <NKE>,\n",
       " yfinance.Ticker object <ORCL>,\n",
       " yfinance.Ticker object <OXY>,\n",
       " yfinance.Ticker object <PEP>,\n",
       " yfinance.Ticker object <PFE>,\n",
       " yfinance.Ticker object <PG>,\n",
       " yfinance.Ticker object <PM>,\n",
       " yfinance.Ticker object <PYPL>,\n",
       " yfinance.Ticker object <QCOM>,\n",
       " yfinance.Ticker object <SBUX>,\n",
       " yfinance.Ticker object <SLB>,\n",
       " yfinance.Ticker object <SO>,\n",
       " yfinance.Ticker object <SPG>,\n",
       " yfinance.Ticker object <T>,\n",
       " yfinance.Ticker object <TGT>,\n",
       " yfinance.Ticker object <TXN>,\n",
       " yfinance.Ticker object <UNH>,\n",
       " yfinance.Ticker object <UNP>,\n",
       " yfinance.Ticker object <UPS>,\n",
       " yfinance.Ticker object <USB>]"
      ]
     },
     "execution_count": 16,
     "metadata": {},
     "output_type": "execute_result"
    }
   ],
   "source": [
    "# Define a list to store the valid tickers\n",
    "valid_stock_list = []\n",
    "\n",
    "# time interval of July 02, 2021 to October 22, 2021\n",
    "start_date = \"2021-07-02\"\n",
    "end_date = \"2021-10-22\"\n",
    "\n",
    "# Finds the average daily volume of a stock\n",
    "def avg_daily_volume(ticker):\n",
    "    ticker_history = ticker.history(start=start_date,end=end_date,interval='1d')\n",
    "    ticker_vol_avg = ticker_history['Volume'].mean()\n",
    "    return ticker_vol_avg\n",
    "    \n",
    "    \n",
    "# iterates through us_stock_lst and checks if the stock has an average daily volume of at least 10,000 shares and appends to a list\n",
    "def volume_filter(ticker_lst):\n",
    "    for i in us_stock_lst:\n",
    "        if avg_daily_volume(i) >= 10_000:\n",
    "            valid_stock_list.append(i)\n",
    "        else:\n",
    "            continue\n",
    "    return valid_stock_list\n",
    "\n",
    "filtered_stocks = volume_filter(us_stock_lst)\n",
    "filtered_stocks"
   ]
  },
  {
   "cell_type": "code",
   "execution_count": 33,
   "metadata": {},
   "outputs": [
    {
     "data": {
      "text/plain": [
       "54"
      ]
     },
     "execution_count": 33,
     "metadata": {},
     "output_type": "execute_result"
    }
   ],
   "source": [
    "len(filtered_stocks)"
   ]
  },
  {
   "cell_type": "markdown",
   "metadata": {},
   "source": [
    "### Step #3 Obtain the 20 most volatile stocks from the filtered lsit"
   ]
  },
  {
   "cell_type": "code",
   "execution_count": 103,
   "metadata": {},
   "outputs": [],
   "source": [
    "def find_volatile (stock_count, ticker_lst, start_date, end_date): #Stock count will most likely be 20 #ticker_lst will always be filtered_stocks\n",
    "    #Get the stock history\n",
    "    stock_history = []\n",
    "    for y in range (len (ticker_lst)):\n",
    "        stock_history.append(ticker_lst[y].history(start=start_date, end=end_date))\n",
    "    \n",
    "    #Monthly Closing Prices dataframe\n",
    "    monthly_close = []\n",
    "    for g in range (len(stock_history)):\n",
    "        monthly_close.append(pd.DataFrame(stock_history[g]['Close']))\n",
    "    \n",
    "    #Combine the individual stocks together to make one large dataframe\n",
    "    share_prices = pd.concat (monthly_close, join='inner', axis=1)\n",
    "\n",
    "    # Rename the columns (will need to fix this soon)\n",
    "    share_prices.columns = ticker_lst\n",
    "\n",
    "    #Convert our dataframe into simply one column with standard deviation \n",
    "    sd_of_shares = share_prices.pct_change().std()\n",
    "\n",
    "    #Have to convert sd_of_shares into a dataframe\n",
    "    sd_df = pd.DataFrame(sd_of_shares)\n",
    "\n",
    "    #Find the 20 largest standard deviations meaning the most volatile\n",
    "    column = sd_df[0]\n",
    "    largest_names = []\n",
    "    for g in range (stock_count):\n",
    "        largest_names.append(column.idxmax().info['symbol'])\n",
    "        column = column.drop([column.idxmax()])\n",
    "\n",
    "    return largest_names\n",
    "\n",
    "largest_volatile = find_volatile(20, filtered_stocks, '2021-07-02', '2021-10-22')    "
   ]
  },
  {
   "cell_type": "code",
   "execution_count": 104,
   "metadata": {},
   "outputs": [
    {
     "data": {
      "text/plain": [
       "['OXY',\n",
       " 'SLB',\n",
       " 'GM',\n",
       " 'COP',\n",
       " 'COF',\n",
       " 'BA',\n",
       " 'PYPL',\n",
       " 'AIG',\n",
       " 'SPG',\n",
       " 'BIIB',\n",
       " 'BAC',\n",
       " 'USB',\n",
       " 'KMI',\n",
       " 'BK',\n",
       " 'AXP',\n",
       " 'CAT',\n",
       " 'MS',\n",
       " 'PFE',\n",
       " 'AMZN',\n",
       " 'CMCSA']"
      ]
     },
     "execution_count": 104,
     "metadata": {},
     "output_type": "execute_result"
    }
   ],
   "source": [
    "largest_volatile"
   ]
  },
  {
   "cell_type": "code",
   "execution_count": 70,
   "metadata": {},
   "outputs": [
    {
     "data": {
      "text/plain": [
       "'AXP'"
      ]
     },
     "execution_count": 70,
     "metadata": {},
     "output_type": "execute_result"
    }
   ],
   "source": [
    "#How to get the ticker of a specific stock\n",
    "largest_volatile.index[5].info['symbol']"
   ]
  },
  {
   "cell_type": "code",
   "execution_count": 87,
   "metadata": {},
   "outputs": [
    {
     "data": {
      "text/plain": [
       "0.018234239301448987"
      ]
     },
     "execution_count": 87,
     "metadata": {},
     "output_type": "execute_result"
    }
   ],
   "source": [
    "yr = pd.DataFrame(largest_volatile)\n",
    "yr.iloc[8,0]"
   ]
  },
  {
   "cell_type": "markdown",
   "metadata": {},
   "source": [
    "### Step #4: Find the porfolio with the best correlation"
   ]
  },
  {
   "cell_type": "code",
   "execution_count": 1,
   "metadata": {},
   "outputs": [
    {
     "ename": "NameError",
     "evalue": "name 'pd' is not defined",
     "output_type": "error",
     "traceback": [
      "\u001b[1;31m---------------------------------------------------------------------------\u001b[0m",
      "\u001b[1;31mNameError\u001b[0m                                 Traceback (most recent call last)",
      "\u001b[1;32m~\\AppData\\Local\\Temp/ipykernel_23184/2138556412.py\u001b[0m in \u001b[0;36m<module>\u001b[1;34m\u001b[0m\n\u001b[0;32m      1\u001b[0m \u001b[1;31m# Define a global price dataframe to store all past data\u001b[0m\u001b[1;33m\u001b[0m\u001b[1;33m\u001b[0m\u001b[1;33m\u001b[0m\u001b[0m\n\u001b[1;32m----> 2\u001b[1;33m \u001b[0mglobal_price_df\u001b[0m \u001b[1;33m=\u001b[0m \u001b[0mpd\u001b[0m\u001b[1;33m.\u001b[0m\u001b[0mDataFrame\u001b[0m\u001b[1;33m(\u001b[0m\u001b[1;33m)\u001b[0m\u001b[1;33m\u001b[0m\u001b[1;33m\u001b[0m\u001b[0m\n\u001b[0m",
      "\u001b[1;31mNameError\u001b[0m: name 'pd' is not defined"
     ]
    }
   ],
   "source": [
    "# Define a global price dataframe to store all past data\n",
    "global_price_df = pd.DataFrame()"
   ]
  },
  {
   "cell_type": "code",
   "execution_count": 14,
   "metadata": {},
   "outputs": [],
   "source": [
    "### Add all data for tickers to a global price dataframe\n",
    "def update_price_df(ticker_lst, start_date, end_date):\n",
    "    # Load the global dataframe\n",
    "    global global_price_df\n",
    "    \n",
    "    # Read in the history closing price info\n",
    "    # Store in a dictionary where the key is the name of the ticker\n",
    "    hist_dic = {}\n",
    "    for i in ticker_lst:\n",
    "        if i not in global_price_df:\n",
    "            ticker_yf = yf.Ticker(i)\n",
    "            hist_dic[i] = ticker_yf.history(start=start_date, end=end_date)['Close']\n",
    "    \n",
    "    # Convert the dictionary to a dataframe\n",
    "    temp_price_df = pd.DataFrame(hist_dic)\n",
    "    \n",
    "    # If there is tickers to add, then resample it to month and add to the global closing price df\n",
    "    if not temp_price_df.empty:\n",
    "        # temp_prices_df = prices_df.resample('MS').first()\n",
    "        global_price_df = pd.concat([global_price_df, temp_price_df], axis=1)"
   ]
  },
  {
   "cell_type": "code",
   "execution_count": 15,
   "metadata": {},
   "outputs": [],
   "source": [
    "### Find all possible combinations of n tickers within the ticker_lst using a recursive function\n",
    "def combinations(arr, length, pre_arr=[]):\n",
    "    if len(pre_arr) == length:\n",
    "        return [pre_arr]\n",
    "    \n",
    "    combs = []\n",
    "    # Add each element to the previous array\n",
    "    for i, val in enumerate(arr):\n",
    "        cur_copy = pre_arr.copy()\n",
    "        cur_copy.append(val)\n",
    "        combs += combinations(arr[i+1:], length, cur_copy)\n",
    "    return combs"
   ]
  },
  {
   "cell_type": "code",
   "execution_count": 16,
   "metadata": {},
   "outputs": [],
   "source": [
    "### Find the average correlation between each stock\n",
    "def find_avg_corr(ticker_lst, start_date, end_date):\n",
    "    # Load the global price dataframe\n",
    "    global global_price_df\n",
    "    \n",
    "    # Find the dataframe with the given tickers and filter the dates\n",
    "    price_df = global_price_df[ticker_lst]\n",
    "    price_df = price_df[(start_date <= price_df.index) & (price_df.index <= end_date)]\n",
    "    \n",
    "    # Find the correlation matrix\n",
    "    df_corr = price_df.corr()\n",
    "    \n",
    "    # Calculate the avg corr\n",
    "    sum_corr = 0\n",
    "    sum_count = 0\n",
    "    for i in range (len(ticker_lst)):\n",
    "        for j in range (i+1, len(ticker_lst)):\n",
    "            sum_corr += df_corr.loc[ticker_lst[i],ticker_lst[j]]\n",
    "            sum_count += 1\n",
    "    \n",
    "    # Calculate the return the avg correlation\n",
    "    return sum_corr/sum_count"
   ]
  },
  {
   "cell_type": "code",
   "execution_count": 17,
   "metadata": {},
   "outputs": [],
   "source": [
    "# Find the combinaton of tickers with the maximum avg correlation\n",
    "def find_max_correlation(ticker_lst,  start_date, end_date, result_size = 10):\n",
    "    # Store the maximum value of corr and the portfolio\n",
    "    max_avg_corr = -1\n",
    "    max_corr_port = np.array([])\n",
    "    \n",
    "    # Load the global price dataframe\n",
    "    global global_price_df\n",
    "    \n",
    "    # Convert list to array and find the combinations\n",
    "    comb = combinations(np.array(ticker_lst), result_size)\n",
    "    \n",
    "    # Find the comb with the maximum average correlation\n",
    "    for i in comb:\n",
    "        avg_corr = find_avg_corr(i, start_date, end_date)\n",
    "        if avg_corr > max_avg_corr:\n",
    "            max_avg_corr = avg_corr\n",
    "            max_corr_port = i\n",
    "    \n",
    "    # Return the result sample\n",
    "    return max_corr_port"
   ]
  },
  {
   "cell_type": "code",
   "execution_count": 18,
   "metadata": {},
   "outputs": [
    {
     "name": "stdout",
     "output_type": "stream",
     "text": [
      "The portfolio with maximum avg correlation is: ['MSFT', 'AAPL', 'GOOGL', 'TSLA', 'FB', 'NVDA', 'NFLX', 'JPM', 'UNH', 'WMT']\n"
     ]
    }
   ],
   "source": [
    "### Applying the functions\n",
    "# A random ticker list\n",
    "ticker_lst = ['MSFT', 'AAPL', 'GOOGL', 'AMZN', 'TSLA', 'FB', 'NVDA', 'NFLX', 'TSM', 'JPM',\n",
    "             'BABA', 'V', 'JNJ', 'UNH', 'WMT'] #, 'HD', 'BAC', 'MA', 'ASML', 'PG']\n",
    "\n",
    "# Update the global closing df\n",
    "update_price_df(ticker_lst, start_date, end_date)\n",
    "\n",
    "# Find the combination of tickers with maximum correlation\n",
    "max_corr_port = find_max_correlation(ticker_lst, start_date, end_date)\n",
    "\n",
    "# Display\n",
    "print('The portfolio with maximum avg correlation is:', max_corr_port)"
   ]
  },
  {
   "cell_type": "markdown",
   "metadata": {},
   "source": [
    "## Contribution Declaration\n",
    "\n",
    "The following team members made a meaningful contribution to this assignment:\n",
    "\n",
    "Insert Names Here. "
   ]
  },
  {
   "cell_type": "code",
   "execution_count": null,
   "metadata": {},
   "outputs": [],
   "source": []
  }
 ],
 "metadata": {
  "interpreter": {
   "hash": "40d3a090f54c6569ab1632332b64b2c03c39dcf918b08424e98f38b5ae0af88f"
  },
  "kernelspec": {
   "display_name": "Python 3.9.7 64-bit",
   "language": "python",
   "name": "python3"
  },
  "language_info": {
   "codemirror_mode": {
    "name": "ipython",
    "version": 3
   },
   "file_extension": ".py",
   "mimetype": "text/x-python",
   "name": "python",
   "nbconvert_exporter": "python",
   "pygments_lexer": "ipython3",
   "version": "3.8.8"
  },
  "metadata": {
   "interpreter": {
    "hash": "b0fa6594d8f4cbf19f97940f81e996739fb7646882a419484c72d19e05852a7e"
   }
  }
 },
 "nbformat": 4,
 "nbformat_minor": 2
}
