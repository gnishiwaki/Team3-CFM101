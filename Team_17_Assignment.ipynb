{
 "cells": [
  {
   "cell_type": "code",
   "execution_count": 391,
   "metadata": {},
   "outputs": [],
   "source": [
    "from IPython.display import display, Math, Latex\n",
    "\n",
    "import pandas as pd\n",
    "import numpy as np\n",
    "import numpy_financial as npf\n",
    "import yfinance as yf\n",
    "import matplotlib.pyplot as plt\n",
    "from datetime import datetime"
   ]
  },
  {
   "cell_type": "markdown",
   "metadata": {},
   "source": [
    "## Group Assignment\n",
    "### Team Number: 17\n",
    "### Team Member Names: John, Gen, Tim\n",
    "### Team Strategy Chosen: Risky "
   ]
  },
  {
   "cell_type": "markdown",
   "metadata": {},
   "source": [
    "Requirements for this assignment:\n",
    "- Code needs to be dynamic\n",
    "- Must read in a csv file containing a finite number of stock tickers (with an example csv file in this repo)\n",
    "- Portfolio must contain only US listed stocks\n",
    "- Must have an average daily volume of at least 10 000 shares as calculated based on the time interval July 2, 2021 to October 22, 2021\n",
    "- Pick a minimum 10 maximum 20 stocks for portfolio.\n",
    "- If we choose n stocks, each stock must make up minimum (100/(2n))% of the portfolio when weighted by value as of closing prices on November 26, 2021\n",
    "- No individual stock may make up more than 35% of the portfolio when weighted by value\n",
    "- We have $100000 USD to spend on portfolio and all must be spent\n",
    "- When code is run with the .csv file, it must create a DataFrame \"FinalPortfolio\"\n",
    "    - With this portfolio, index starts at 1 and ends at the number of stocks that our code chooses.\n",
    "    - Headings must be: Ticker, Price, Shares, Value, Weight\n",
    "        - Ticker is the ticker selected\n",
    "        - Price is the price on November 26, 2021\n",
    "        - Shares is the number of shares purchased (can be fractional)\n",
    "        - Value is the total value of those shares\n",
    "        - Weighted is the weight that the value of shares represents relative to the value of the portfolio (which is $100,000)\n",
    "    - Needs to show that the total adds up to $100,000\n",
    "    - Also need to show the weights add to 100%\n",
    "    - This DataFrame must be printed to the screen as the second to last output to the screen.\n",
    "- After the DataFrame, one final DataFrame called \"Stocks\" which has the same index as \"Final Portfolio\" must be mad\n",
    "    - Only has the Tickers and Shares from \"Final Portfolio\"\n",
    "    - Must output this DataFrame to a csv file titled \"Stocks_Group_XX.csv\""
   ]
  },
  {
   "cell_type": "markdown",
   "metadata": {},
   "source": [
    "### Define Important Global Variables (Optimizing Time and Memories)"
   ]
  },
  {
   "cell_type": "code",
   "execution_count": 392,
   "metadata": {},
   "outputs": [],
   "source": [
    "# Import default information\n",
    "start_date = \"2021-07-02\"\n",
    "end_date = \"2021-10-22\"\n",
    "\n",
    "# Stores the closing price of Tickers\n",
    "all_price_df = pd.DataFrame()"
   ]
  },
  {
   "cell_type": "markdown",
   "metadata": {},
   "source": [
    "### Step #1: Filter out valid US tickers"
   ]
  },
  {
   "cell_type": "code",
   "execution_count": 393,
   "metadata": {},
   "outputs": [
    {
     "data": {
      "text/html": [
       "<div>\n",
       "<style scoped>\n",
       "    .dataframe tbody tr th:only-of-type {\n",
       "        vertical-align: middle;\n",
       "    }\n",
       "\n",
       "    .dataframe tbody tr th {\n",
       "        vertical-align: top;\n",
       "    }\n",
       "\n",
       "    .dataframe thead th {\n",
       "        text-align: right;\n",
       "    }\n",
       "</style>\n",
       "<table border=\"1\" class=\"dataframe\">\n",
       "  <thead>\n",
       "    <tr style=\"text-align: right;\">\n",
       "      <th></th>\n",
       "      <th>AAPL</th>\n",
       "    </tr>\n",
       "  </thead>\n",
       "  <tbody>\n",
       "    <tr>\n",
       "      <th>0</th>\n",
       "      <td>ABBV</td>\n",
       "    </tr>\n",
       "    <tr>\n",
       "      <th>1</th>\n",
       "      <td>ABT</td>\n",
       "    </tr>\n",
       "    <tr>\n",
       "      <th>2</th>\n",
       "      <td>ACN</td>\n",
       "    </tr>\n",
       "    <tr>\n",
       "      <th>3</th>\n",
       "      <td>AGN</td>\n",
       "    </tr>\n",
       "    <tr>\n",
       "      <th>4</th>\n",
       "      <td>AIG</td>\n",
       "    </tr>\n",
       "    <tr>\n",
       "      <th>...</th>\n",
       "      <td>...</td>\n",
       "    </tr>\n",
       "    <tr>\n",
       "      <th>56</th>\n",
       "      <td>TXN</td>\n",
       "    </tr>\n",
       "    <tr>\n",
       "      <th>57</th>\n",
       "      <td>UNH</td>\n",
       "    </tr>\n",
       "    <tr>\n",
       "      <th>58</th>\n",
       "      <td>UNP</td>\n",
       "    </tr>\n",
       "    <tr>\n",
       "      <th>59</th>\n",
       "      <td>UPS</td>\n",
       "    </tr>\n",
       "    <tr>\n",
       "      <th>60</th>\n",
       "      <td>USB</td>\n",
       "    </tr>\n",
       "  </tbody>\n",
       "</table>\n",
       "<p>61 rows × 1 columns</p>\n",
       "</div>"
      ],
      "text/plain": [
       "    AAPL\n",
       "0   ABBV\n",
       "1    ABT\n",
       "2    ACN\n",
       "3    AGN\n",
       "4    AIG\n",
       "..   ...\n",
       "56   TXN\n",
       "57   UNH\n",
       "58   UNP\n",
       "59   UPS\n",
       "60   USB\n",
       "\n",
       "[61 rows x 1 columns]"
      ]
     },
     "execution_count": 393,
     "metadata": {},
     "output_type": "execute_result"
    }
   ],
   "source": [
    "stocks_from_csv = pd.read_csv('Tickers.csv')\n",
    "stocks_from_csv\n"
   ]
  },
  {
   "cell_type": "code",
   "execution_count": 394,
   "metadata": {},
   "outputs": [
    {
     "data": {
      "text/plain": [
       "0     ABBV\n",
       "1      ABT\n",
       "2      ACN\n",
       "3      AGN\n",
       "4      AIG\n",
       "      ... \n",
       "56     TXN\n",
       "57     UNH\n",
       "58     UNP\n",
       "59     UPS\n",
       "60     USB\n",
       "Name: AAPL, Length: 61, dtype: object"
      ]
     },
     "execution_count": 394,
     "metadata": {},
     "output_type": "execute_result"
    }
   ],
   "source": [
    "stocks_lst = stocks_from_csv.iloc[:,0]\n",
    "stocks_lst"
   ]
  },
  {
   "cell_type": "code",
   "execution_count": 395,
   "metadata": {},
   "outputs": [
    {
     "data": {
      "text/plain": [
       "'AAPL'"
      ]
     },
     "execution_count": 395,
     "metadata": {},
     "output_type": "execute_result"
    }
   ],
   "source": [
    "stocks_from_csv.columns[0]"
   ]
  },
  {
   "cell_type": "code",
   "execution_count": 396,
   "metadata": {},
   "outputs": [
    {
     "data": {
      "text/plain": [
       "'us_market'"
      ]
     },
     "execution_count": 396,
     "metadata": {},
     "output_type": "execute_result"
    }
   ],
   "source": [
    "current_stock=yf.Ticker(stocks_lst[0])\n",
    "current_stock.info['market']"
   ]
  },
  {
   "cell_type": "code",
   "execution_count": 397,
   "metadata": {},
   "outputs": [],
   "source": [
    "#try doing the process below with threading\n",
    "from concurrent.futures import ThreadPoolExecutor, as_completed\n",
    "\n",
    "us_stock_lst = []\n",
    "stocks_lst\n",
    " \n",
    "def filter_valid(ticker_name):\n",
    "    try:\n",
    "        ticker_yf = yf.Ticker(ticker_name) # Store as variable to optimize access time\n",
    "\n",
    "        if (ticker_yf.info['regularMarketPrice'] != None) and (ticker_yf.info['market'] == 'us_market'):\n",
    "            us_stock_lst.append(ticker_yf)\n",
    "    \n",
    "    except requests.exceptions.RequestException as e:\n",
    "       return e\n",
    " \n",
    "def runner():\n",
    "    threads= []\n",
    "    with ThreadPoolExecutor(max_workers=80) as executor:\n",
    "        for name in stocks_lst:\n",
    "            ticker = name\n",
    "            threads.append(executor.submit(filter_valid, ticker))\n",
    "\n",
    "runner()\n"
   ]
  },
  {
   "cell_type": "code",
   "execution_count": 398,
   "metadata": {},
   "outputs": [
    {
     "data": {
      "text/plain": [
       "[yfinance.Ticker object <PM>,\n",
       " yfinance.Ticker object <SO>,\n",
       " yfinance.Ticker object <UPS>,\n",
       " yfinance.Ticker object <AXP>,\n",
       " yfinance.Ticker object <ABT>,\n",
       " yfinance.Ticker object <BA>,\n",
       " yfinance.Ticker object <CMCSA>,\n",
       " yfinance.Ticker object <AIG>,\n",
       " yfinance.Ticker object <CSCO>,\n",
       " yfinance.Ticker object <ABBV>,\n",
       " yfinance.Ticker object <PFE>,\n",
       " yfinance.Ticker object <BLK>,\n",
       " yfinance.Ticker object <MO>,\n",
       " yfinance.Ticker object <ORCL>,\n",
       " yfinance.Ticker object <OXY>,\n",
       " yfinance.Ticker object <COP>,\n",
       " yfinance.Ticker object <USB>,\n",
       " yfinance.Ticker object <AMZN>,\n",
       " yfinance.Ticker object <SLB>,\n",
       " yfinance.Ticker object <QCOM>,\n",
       " yfinance.Ticker object <BK>,\n",
       " yfinance.Ticker object <BMY>,\n",
       " yfinance.Ticker object <KMI>,\n",
       " yfinance.Ticker object <TXN>,\n",
       " yfinance.Ticker object <JPM>,\n",
       " yfinance.Ticker object <PEP>,\n",
       " yfinance.Ticker object <SPG>,\n",
       " yfinance.Ticker object <COST>,\n",
       " yfinance.Ticker object <GOOG>,\n",
       " yfinance.Ticker object <PYPL>,\n",
       " yfinance.Ticker object <NEE>,\n",
       " yfinance.Ticker object <COF>,\n",
       " yfinance.Ticker object <BIIB>,\n",
       " yfinance.Ticker object <C>,\n",
       " yfinance.Ticker object <MSFT>,\n",
       " yfinance.Ticker object <UNH>,\n",
       " yfinance.Ticker object <LLY>,\n",
       " yfinance.Ticker object <TGT>,\n",
       " yfinance.Ticker object <ACN>,\n",
       " yfinance.Ticker object <MS>,\n",
       " yfinance.Ticker object <CVS>,\n",
       " yfinance.Ticker object <MON>,\n",
       " yfinance.Ticker object <CAT>,\n",
       " yfinance.Ticker object <CL>,\n",
       " yfinance.Ticker object <BAC>,\n",
       " yfinance.Ticker object <SBUX>,\n",
       " yfinance.Ticker object <PG>,\n",
       " yfinance.Ticker object <MRK>,\n",
       " yfinance.Ticker object <GM>,\n",
       " yfinance.Ticker object <NKE>,\n",
       " yfinance.Ticker object <LMT>,\n",
       " yfinance.Ticker object <UNP>,\n",
       " yfinance.Ticker object <T>,\n",
       " yfinance.Ticker object <KO>]"
      ]
     },
     "execution_count": 398,
     "metadata": {},
     "output_type": "execute_result"
    }
   ],
   "source": [
    "us_stock_lst"
   ]
  },
  {
   "cell_type": "code",
   "execution_count": 399,
   "metadata": {},
   "outputs": [
    {
     "data": {
      "text/plain": [
       "54"
      ]
     },
     "execution_count": 399,
     "metadata": {},
     "output_type": "execute_result"
    }
   ],
   "source": [
    "len(us_stock_lst)"
   ]
  },
  {
   "cell_type": "markdown",
   "metadata": {},
   "source": [
    "### Step 2: Filter out tickers within date range based on daily average volume"
   ]
  },
  {
   "cell_type": "code",
   "execution_count": 400,
   "metadata": {},
   "outputs": [
    {
     "data": {
      "text/plain": [
       "[yfinance.Ticker object <PM>,\n",
       " yfinance.Ticker object <SO>,\n",
       " yfinance.Ticker object <UPS>,\n",
       " yfinance.Ticker object <AXP>,\n",
       " yfinance.Ticker object <ABT>,\n",
       " yfinance.Ticker object <BA>,\n",
       " yfinance.Ticker object <CMCSA>,\n",
       " yfinance.Ticker object <AIG>,\n",
       " yfinance.Ticker object <CSCO>,\n",
       " yfinance.Ticker object <ABBV>,\n",
       " yfinance.Ticker object <PFE>,\n",
       " yfinance.Ticker object <BLK>,\n",
       " yfinance.Ticker object <MO>,\n",
       " yfinance.Ticker object <ORCL>,\n",
       " yfinance.Ticker object <OXY>,\n",
       " yfinance.Ticker object <COP>,\n",
       " yfinance.Ticker object <USB>,\n",
       " yfinance.Ticker object <AMZN>,\n",
       " yfinance.Ticker object <SLB>,\n",
       " yfinance.Ticker object <QCOM>,\n",
       " yfinance.Ticker object <BK>,\n",
       " yfinance.Ticker object <BMY>,\n",
       " yfinance.Ticker object <KMI>,\n",
       " yfinance.Ticker object <TXN>,\n",
       " yfinance.Ticker object <JPM>,\n",
       " yfinance.Ticker object <PEP>,\n",
       " yfinance.Ticker object <SPG>,\n",
       " yfinance.Ticker object <COST>,\n",
       " yfinance.Ticker object <GOOG>,\n",
       " yfinance.Ticker object <PYPL>,\n",
       " yfinance.Ticker object <NEE>,\n",
       " yfinance.Ticker object <COF>,\n",
       " yfinance.Ticker object <BIIB>,\n",
       " yfinance.Ticker object <C>,\n",
       " yfinance.Ticker object <MSFT>,\n",
       " yfinance.Ticker object <UNH>,\n",
       " yfinance.Ticker object <LLY>,\n",
       " yfinance.Ticker object <TGT>,\n",
       " yfinance.Ticker object <ACN>,\n",
       " yfinance.Ticker object <MS>,\n",
       " yfinance.Ticker object <CVS>,\n",
       " yfinance.Ticker object <MON>,\n",
       " yfinance.Ticker object <CAT>,\n",
       " yfinance.Ticker object <CL>,\n",
       " yfinance.Ticker object <BAC>,\n",
       " yfinance.Ticker object <SBUX>,\n",
       " yfinance.Ticker object <PG>,\n",
       " yfinance.Ticker object <MRK>,\n",
       " yfinance.Ticker object <GM>,\n",
       " yfinance.Ticker object <NKE>,\n",
       " yfinance.Ticker object <LMT>,\n",
       " yfinance.Ticker object <UNP>,\n",
       " yfinance.Ticker object <T>,\n",
       " yfinance.Ticker object <KO>]"
      ]
     },
     "execution_count": 400,
     "metadata": {},
     "output_type": "execute_result"
    }
   ],
   "source": [
    "# Define a list to store the valid tickers\n",
    "valid_stock_list = []\n",
    "\n",
    "# Finds the average daily volume of a stock\n",
    "def avg_daily_volume(ticker):\n",
    "    ticker_history = ticker.history(start=start_date,end=end_date,interval='1d')\n",
    "    ticker_vol_avg = ticker_history['Volume'].mean()\n",
    "    return ticker_vol_avg\n",
    "    \n",
    "    \n",
    "# iterates through us_stock_lst and checks if the stock has an average daily volume of at least 10,000 shares and appends to a list\n",
    "def volume_filter(ticker_lst):\n",
    "    for i in us_stock_lst:\n",
    "        if avg_daily_volume(i) >= 10_000:\n",
    "            valid_stock_list.append(i)\n",
    "        else:\n",
    "            continue\n",
    "    return valid_stock_list\n",
    "\n",
    "filtered_stocks = volume_filter(us_stock_lst)\n",
    "filtered_stocks"
   ]
  },
  {
   "cell_type": "code",
   "execution_count": 401,
   "metadata": {},
   "outputs": [
    {
     "data": {
      "text/plain": [
       "54"
      ]
     },
     "execution_count": 401,
     "metadata": {},
     "output_type": "execute_result"
    }
   ],
   "source": [
    "len(filtered_stocks)"
   ]
  },
  {
   "cell_type": "markdown",
   "metadata": {},
   "source": [
    "### Step #3 Obtain the 20 most volatile stocks from the filtered lsit"
   ]
  },
  {
   "cell_type": "code",
   "execution_count": 402,
   "metadata": {},
   "outputs": [],
   "source": [
    "def find_volatile (stock_count, ticker_lst, start_date, end_date): #Stock count will most likely be 20 #ticker_lst will always be filtered_stocks\n",
    "    #Get the stock history\n",
    "    stock_history = []\n",
    "    for y in range (len (ticker_lst)):\n",
    "        stock_history.append(ticker_lst[y].history(start=start_date, end=end_date))\n",
    "    \n",
    "    #Monthly Closing Prices dataframe\n",
    "    monthly_close = []\n",
    "    for g in range (len(stock_history)):\n",
    "        monthly_close.append(pd.DataFrame(stock_history[g]['Close']))\n",
    "    \n",
    "    #Combine the individual stocks together to make one large dataframe\n",
    "    share_prices = pd.concat (monthly_close, join='inner', axis=1)\n",
    "\n",
    "    # Rename the columns (will need to fix this soon)\n",
    "    share_prices.columns = ticker_lst\n",
    "\n",
    "    #Convert our dataframe into simply one column with standard deviation \n",
    "    sd_of_shares = share_prices.pct_change().std()\n",
    "\n",
    "    #Have to convert sd_of_shares into a dataframe\n",
    "    sd_df = pd.DataFrame(sd_of_shares)\n",
    "\n",
    "    #Find the 20 largest standard deviations meaning the most volatile\n",
    "    column = sd_df[0]\n",
    "    largest_names = []\n",
    "    for g in range (stock_count):\n",
    "        largest_names.append(column.idxmax().info['symbol'])\n",
    "        column = column.drop([column.idxmax()])\n",
    "\n",
    "    return largest_names\n",
    "\n",
    "largest_volatile = find_volatile(20, filtered_stocks, '2021-07-02', '2021-10-22')    "
   ]
  },
  {
   "cell_type": "code",
   "execution_count": 403,
   "metadata": {},
   "outputs": [
    {
     "data": {
      "text/plain": [
       "['OXY',\n",
       " 'SLB',\n",
       " 'GM',\n",
       " 'COP',\n",
       " 'COF',\n",
       " 'BA',\n",
       " 'PYPL',\n",
       " 'AIG',\n",
       " 'SPG',\n",
       " 'BIIB',\n",
       " 'BAC',\n",
       " 'USB',\n",
       " 'KMI',\n",
       " 'BK',\n",
       " 'AXP',\n",
       " 'CAT',\n",
       " 'MS',\n",
       " 'PFE',\n",
       " 'AMZN',\n",
       " 'CMCSA']"
      ]
     },
     "execution_count": 403,
     "metadata": {},
     "output_type": "execute_result"
    }
   ],
   "source": [
    "largest_volatile"
   ]
  },
  {
   "cell_type": "code",
   "execution_count": 404,
   "metadata": {},
   "outputs": [
    {
     "data": {
      "text/plain": [
       "20"
      ]
     },
     "execution_count": 404,
     "metadata": {},
     "output_type": "execute_result"
    }
   ],
   "source": [
    "len(largest_volatile)"
   ]
  },
  {
   "cell_type": "markdown",
   "metadata": {},
   "source": [
    "### Step #4: Find the porfolio with the best correlation"
   ]
  },
  {
   "cell_type": "code",
   "execution_count": 405,
   "metadata": {},
   "outputs": [],
   "source": [
    "### Add all data for tickers to a global price dataframe: all_price_df\n",
    "def update_price_df(ticker_lst, start_date, end_date):\n",
    "    # Load the global dataframe\n",
    "    global all_price_df\n",
    "    \n",
    "    # Read in the history closing price info\n",
    "    # Store in a dictionary where the key is the name of the ticker\n",
    "    hist_dic = {}\n",
    "    for i in ticker_lst:\n",
    "        if i not in all_price_df:\n",
    "            ticker_yf = yf.Ticker(i)\n",
    "            hist_dic[i] = ticker_yf.history(start=start_date, end=end_date)['Close']\n",
    "    \n",
    "    # Convert the dictionary to a dataframe\n",
    "    temp_price_df = pd.DataFrame(hist_dic)\n",
    "    \n",
    "    # If there is tickers to add, then resample it to month and add to the global closing price df\n",
    "    if not temp_price_df.empty:\n",
    "        # temp_prices_df = prices_df.resample('MS').first()\n",
    "        all_price_df = pd.concat([all_price_df, temp_price_df], axis=1)"
   ]
  },
  {
   "cell_type": "code",
   "execution_count": 406,
   "metadata": {},
   "outputs": [],
   "source": [
    "### Find all possible combinations of n tickers within the ticker_lst using a recursive function\n",
    "def combinations(arr, length, pre_arr=[]):\n",
    "    if len(pre_arr) == length:\n",
    "        return [pre_arr]\n",
    "    \n",
    "    combs = []\n",
    "    # Add each element to the previous array\n",
    "    for i, val in enumerate(arr):\n",
    "        cur_copy = pre_arr.copy()\n",
    "        cur_copy.append(val)\n",
    "        combs += combinations(arr[i+1:], length, cur_copy)\n",
    "    return combs"
   ]
  },
  {
   "cell_type": "code",
   "execution_count": 407,
   "metadata": {},
   "outputs": [],
   "source": [
    "### Find the average correlation between each stock\n",
    "def find_avg_corr(ticker_lst, start_date, end_date):\n",
    "    # Load the global price dataframe\n",
    "    global all_price_df\n",
    "    \n",
    "    # Find the dataframe with the given tickers and filter the dates\n",
    "    price_df = all_price_df[ticker_lst]\n",
    "    price_df = price_df[(start_date <= price_df.index) & (price_df.index <= end_date)]\n",
    "    \n",
    "    # Find the correlation matrix\n",
    "    df_corr = price_df.corr()\n",
    "    \n",
    "    # Calculate the avg corr\n",
    "    sum_corr = 0\n",
    "    sum_count = 0\n",
    "    for i in range (len(ticker_lst)):\n",
    "        for j in range (i+1, len(ticker_lst)):\n",
    "            sum_corr += df_corr.loc[ticker_lst[i],ticker_lst[j]]\n",
    "            sum_count += 1\n",
    "    \n",
    "    # Calculate the return the avg correlation\n",
    "    return sum_corr/sum_count"
   ]
  },
  {
   "cell_type": "code",
   "execution_count": 408,
   "metadata": {},
   "outputs": [],
   "source": [
    "# Find the combinaton of tickers with the maximum avg correlation\n",
    "def find_max_correlation(ticker_lst,  start_date, end_date, result_size = 10):\n",
    "    # Store the maximum value of corr and the portfolio\n",
    "    max_avg_corr = -1\n",
    "    max_corr_ticker_lst = np.array([])\n",
    "    \n",
    "    # Load the global price dataframe\n",
    "    global all_price_df\n",
    "    \n",
    "    # Convert list to array and find the combinations\n",
    "    comb = combinations(np.array(ticker_lst), result_size)\n",
    "    \n",
    "    # Find the comb with the maximum average correlation\n",
    "    for i in comb:\n",
    "        avg_corr = find_avg_corr(i, start_date, end_date)\n",
    "        if avg_corr > max_avg_corr:\n",
    "            max_avg_corr = avg_corr\n",
    "            max_corr_ticker_lst = i\n",
    "    \n",
    "    # Return the result sample\n",
    "    return max_avg_corr, max_corr_ticker_lst"
   ]
  },
  {
   "cell_type": "code",
   "execution_count": 409,
   "metadata": {},
   "outputs": [
    {
     "name": "stdout",
     "output_type": "stream",
     "text": [
      "The maximum avg correlation is: 0.6005159297565742\n",
      "The portfolio with maximum avg correlation is: ['OXY', 'SLB', 'COP', 'COF', 'AIG', 'SPG', 'BAC', 'USB', 'BK', 'AXP']\n"
     ]
    }
   ],
   "source": [
    "### Applying the functions\n",
    "# A random ticker list\n",
    "ticker_lst = largest_volatile[0:17] # Only take the first 16\n",
    "\n",
    "# Update the global closing df\n",
    "update_price_df(ticker_lst, start_date, end_date)\n",
    "\n",
    "# Find the combination of tickers with maximum correlation\n",
    "max_avg_corr, max_corr_ticker_lst = find_max_correlation(ticker_lst, start_date, end_date)\n",
    "\n",
    "# Display\n",
    "print('The maximum avg correlation is:', max_avg_corr)\n",
    "print('The portfolio with maximum avg correlation is:', max_corr_ticker_lst)\n"
   ]
  },
  {
   "cell_type": "markdown",
   "metadata": {},
   "source": [
    "### Step 5 Given a list of stocks, find the best distributions of the weight"
   ]
  },
  {
   "cell_type": "code",
   "execution_count": 410,
   "metadata": {},
   "outputs": [],
   "source": [
    "### Define important variables\n",
    "ticker_count = len(max_corr_ticker_lst)\n",
    "\n",
    "min_weight = 1/(2*ticker_count)\n",
    "max_weight = 0.35\n",
    "increment = 0.0625 # would run through 8^10 cases\n",
    "# Use increment = 0.10 would be much faster\n",
    "# Code only works for when ticker_count is 10"
   ]
  },
  {
   "cell_type": "code",
   "execution_count": 411,
   "metadata": {},
   "outputs": [],
   "source": [
    "### Define a function for portfolio calculations\n",
    "def portfolio_cal(tickers, weights, start_date, end_date, investment=100000):\n",
    "    # Load the global variable price dataframe\n",
    "    global all_price_df\n",
    "    \n",
    "    # Store the size of tickers as a variable\n",
    "    ticker_count = len(tickers)\n",
    "    \n",
    "    # Store the number of shares purchased for each stock in a dictionary \n",
    "    shares_dic = {}\n",
    "    \n",
    "    # Calculate the shares for each stock at the first avaliable date after start_date\n",
    "    first_date = all_price_df.index[all_price_df.index >= start_date][0]\n",
    "    for i in range (ticker_count):\n",
    "        shares_dic[tickers[i]] = (investment * weights[i] / all_price_df.loc[first_date, tickers[i]])\n",
    "\n",
    "    # Store the portfolio value in a new dataframe, starting with all zeros\n",
    "    port_value = pd.DataFrame()\n",
    "    \n",
    "    # Calculate the value of each stock to the portfolio\n",
    "    for i in range (ticker_count):\n",
    "        shares = shares_dic[tickers[i]]\n",
    "        port_value[str(tickers[i])] = all_price_df[tickers[i]] * shares\n",
    "    \n",
    "    # Find the range of values within the dates\n",
    "    port_value = port_value[(start_date <= port_value.index) & (port_value.index <= end_date)]\n",
    "    \n",
    "    # Calculate the percentage returns\n",
    "    port_value['Portfolio_Value'] = port_value[tickers].sum(axis=1)\n",
    "    \n",
    "    # Calculate percentage returns\n",
    "    port_value['Percent_Return'] = port_value['Portfolio_Value'].pct_change() * 100\n",
    "    \n",
    "    return port_value[['Portfolio_Value', 'Percent_Return']]"
   ]
  },
  {
   "cell_type": "code",
   "execution_count": 412,
   "metadata": {},
   "outputs": [],
   "source": [
    "### Iterate through possibilities of weight to find the max Std\n",
    "# Define variables\n",
    "all_std = []\n",
    "max_std = -1\n",
    "optimal_weights = []\n",
    "check_count = 0\n",
    "\n",
    "# Recursion: returns weight with max std, and list of all stds\n",
    "def find_weight(t_count, cur_index, weights, acc_weight):\n",
    "    # Load global varables\n",
    "    global all_std, max_std, optimal_weights, check_count\n",
    "    \n",
    "    # If the acc_weight is already over 1, ends recursion\n",
    "    if (acc_weight > 1): return\n",
    "    \n",
    "    # Already assigned last ticker's weights\n",
    "    if (cur_index == t_count):\n",
    "        # If the acc_weight is not 1, then invalid distribution and no calculation\n",
    "        if (acc_weight != 1): return\n",
    "        \n",
    "        # Display for confirmation that code works\n",
    "        check_count += 1\n",
    "        if (check_count % 10000 == 0): print(f'Already Checked {check_count} Weighting Distributions.')\n",
    "\n",
    "        # Calculate portfolio Std\n",
    "        port_df = portfolio_cal(max_corr_ticker_lst, weights, start_date, end_date)\n",
    "        std = port_df['Percent_Return'].std()\n",
    "        \n",
    "        # Store and find max std\n",
    "        all_std.append(std)\n",
    "        if (std > max_std):\n",
    "            max_std = std\n",
    "            optimal_weights = weights\n",
    "        \n",
    "        # End recursion since this is last index (aka last ticker to assign weights)\n",
    "        return\n",
    "    \n",
    "    # Assign weighting for this stock \n",
    "    cur_weight = min_weight\n",
    "    while (cur_weight <= max_weight):\n",
    "        # Recursively call for next index\n",
    "        find_weight(t_count, cur_index + 1, weights + [cur_weight], acc_weight+cur_weight)\n",
    "        cur_weight = round (cur_weight + increment, 5)\n",
    "\n",
    "# Use the function to find std info\n",
    "find_weight(ticker_count, 0, [], 0)"
   ]
  },
  {
   "cell_type": "code",
   "execution_count": 413,
   "metadata": {},
   "outputs": [
    {
     "name": "stdout",
     "output_type": "stream",
     "text": [
      "The highest recorded std is 11.488682785795131\n",
      "The ticker in the portfolio and corresponding weights:\n"
     ]
    },
    {
     "data": {
      "text/plain": [
       "(['OXY', 'SLB', 'COP', 'COF', 'AIG', 'SPG', 'BAC', 'USB', 'BK', 'AXP'],\n",
       " [0.3, 0.05, 0.05, 0.05, 0.05, 0.05, 0.3, 0.05, 0.05, 0.05])"
      ]
     },
     "execution_count": 413,
     "metadata": {},
     "output_type": "execute_result"
    }
   ],
   "source": [
    "print('The highest recorded std is', max_std)\n",
    "print('The ticker in the portfolio and corresponding weights:')\n",
    "max_corr_ticker_lst, optimal_weights"
   ]
  },
  {
   "cell_type": "markdown",
   "metadata": {},
   "source": [
    "### Step 6 Graph the portfolio standard deviation for different weightings"
   ]
  },
  {
   "cell_type": "code",
   "execution_count": 414,
   "metadata": {},
   "outputs": [
    {
     "data": {
      "image/png": "[encoded data removed]",
      "text/plain": [
       "<Figure size 1080x720 with 1 Axes>"
      ]
     },
     "metadata": {
      "needs_background": "light"
     },
     "output_type": "display_data"
    }
   ],
   "source": [
    "### Use a histogram to show the std of other weightings\n",
    "# Create the interval classes\n",
    "bins_max = max(all_std)\n",
    "bins_min = min(all_std)\n",
    "bins_intervals = 100\n",
    "bins = np.linspace(bins_min, bins_max, bins_intervals)\n",
    "\n",
    "# Create the histogram\n",
    "plt.rcParams[\"figure.figsize\"] = (15,10)\n",
    "plt.hist(all_std, bins, color='b', label='std')\n",
    "plt.axvline(x=max_std, color='r', label='max std')\n",
    "\n",
    "# Formatting\n",
    "plt.title(\"Distribution of Std of Different Weighing Combinations\")\n",
    "plt.xlabel(\"Standard Deviation (in %)\")\n",
    "plt.ylabel(\"Frequency\")\n",
    "plt.legend(loc='best')\n",
    "\n",
    "# Display\n",
    "plt.show()"
   ]
  },
  {
   "cell_type": "markdown",
   "metadata": {},
   "source": [
    "### Step 7 Given the chosen portfolio, measure its performance against the price weighted index consisting of all filtered US Stocks in Step 2"
   ]
  },
  {
   "cell_type": "code",
   "execution_count": null,
   "metadata": {},
   "outputs": [],
   "source": []
  },
  {
   "cell_type": "markdown",
   "metadata": {},
   "source": [
    "### Step 8 Creating the final portfolio with csv"
   ]
  },
  {
   "cell_type": "code",
   "execution_count": 415,
   "metadata": {},
   "outputs": [],
   "source": [
    "# Access the price on the required date\n",
    "def price_on_date(ticker, date, next_date):\n",
    "    return yf.Ticker(ticker).history(start=date, end=next_date)[['Close']].iloc[0,0]"
   ]
  },
  {
   "cell_type": "code",
   "execution_count": 416,
   "metadata": {},
   "outputs": [
    {
     "data": {
      "text/html": [
       "<div>\n",
       "<style scoped>\n",
       "    .dataframe tbody tr th:only-of-type {\n",
       "        vertical-align: middle;\n",
       "    }\n",
       "\n",
       "    .dataframe tbody tr th {\n",
       "        vertical-align: top;\n",
       "    }\n",
       "\n",
       "    .dataframe thead th {\n",
       "        text-align: right;\n",
       "    }\n",
       "</style>\n",
       "<table border=\"1\" class=\"dataframe\">\n",
       "  <thead>\n",
       "    <tr style=\"text-align: right;\">\n",
       "      <th></th>\n",
       "      <th>Ticker</th>\n",
       "      <th>Price</th>\n",
       "      <th>Shares</th>\n",
       "      <th>Value</th>\n",
       "      <th>Weight</th>\n",
       "    </tr>\n",
       "  </thead>\n",
       "  <tbody>\n",
       "    <tr>\n",
       "      <th>1</th>\n",
       "      <td>OXY</td>\n",
       "      <td>32.119999</td>\n",
       "      <td>9339.975404</td>\n",
       "      <td>300000.0</td>\n",
       "      <td>30.0</td>\n",
       "    </tr>\n",
       "    <tr>\n",
       "      <th>2</th>\n",
       "      <td>SLB</td>\n",
       "      <td>32.779999</td>\n",
       "      <td>1525.320374</td>\n",
       "      <td>50000.0</td>\n",
       "      <td>5.0</td>\n",
       "    </tr>\n",
       "    <tr>\n",
       "      <th>3</th>\n",
       "      <td>COP</td>\n",
       "      <td>72.139999</td>\n",
       "      <td>693.096762</td>\n",
       "      <td>50000.0</td>\n",
       "      <td>5.0</td>\n",
       "    </tr>\n",
       "    <tr>\n",
       "      <th>4</th>\n",
       "      <td>COF</td>\n",
       "      <td>156.549988</td>\n",
       "      <td>319.386802</td>\n",
       "      <td>50000.0</td>\n",
       "      <td>5.0</td>\n",
       "    </tr>\n",
       "    <tr>\n",
       "      <th>5</th>\n",
       "      <td>AIG</td>\n",
       "      <td>58.860001</td>\n",
       "      <td>849.473318</td>\n",
       "      <td>50000.0</td>\n",
       "      <td>5.0</td>\n",
       "    </tr>\n",
       "    <tr>\n",
       "      <th>6</th>\n",
       "      <td>SPG</td>\n",
       "      <td>165.440002</td>\n",
       "      <td>302.224367</td>\n",
       "      <td>50000.0</td>\n",
       "      <td>5.0</td>\n",
       "    </tr>\n",
       "    <tr>\n",
       "      <th>7</th>\n",
       "      <td>BAC</td>\n",
       "      <td>47.490002</td>\n",
       "      <td>6317.119170</td>\n",
       "      <td>300000.0</td>\n",
       "      <td>30.0</td>\n",
       "    </tr>\n",
       "    <tr>\n",
       "      <th>8</th>\n",
       "      <td>USB</td>\n",
       "      <td>60.779999</td>\n",
       "      <td>822.639043</td>\n",
       "      <td>50000.0</td>\n",
       "      <td>5.0</td>\n",
       "    </tr>\n",
       "    <tr>\n",
       "      <th>9</th>\n",
       "      <td>BK</td>\n",
       "      <td>59.990002</td>\n",
       "      <td>833.472222</td>\n",
       "      <td>50000.0</td>\n",
       "      <td>5.0</td>\n",
       "    </tr>\n",
       "    <tr>\n",
       "      <th>10</th>\n",
       "      <td>AXP</td>\n",
       "      <td>181.300003</td>\n",
       "      <td>275.785985</td>\n",
       "      <td>50000.0</td>\n",
       "      <td>5.0</td>\n",
       "    </tr>\n",
       "  </tbody>\n",
       "</table>\n",
       "</div>"
      ],
      "text/plain": [
       "   Ticker       Price       Shares     Value  Weight\n",
       "1     OXY   32.119999  9339.975404  300000.0    30.0\n",
       "2     SLB   32.779999  1525.320374   50000.0     5.0\n",
       "3     COP   72.139999   693.096762   50000.0     5.0\n",
       "4     COF  156.549988   319.386802   50000.0     5.0\n",
       "5     AIG   58.860001   849.473318   50000.0     5.0\n",
       "6     SPG  165.440002   302.224367   50000.0     5.0\n",
       "7     BAC   47.490002  6317.119170  300000.0    30.0\n",
       "8     USB   60.779999   822.639043   50000.0     5.0\n",
       "9      BK   59.990002   833.472222   50000.0     5.0\n",
       "10    AXP  181.300003   275.785985   50000.0     5.0"
      ]
     },
     "execution_count": 416,
     "metadata": {},
     "output_type": "execute_result"
    }
   ],
   "source": [
    "### Create the output as required\n",
    "final_tickers = max_corr_ticker_lst\n",
    "final_weights = optimal_weights\n",
    "investment = 1000000\n",
    "required_date = '2021-11-11'\n",
    "next_date = '2021-11-12'\n",
    "\n",
    "# Get the price, share, value, weight of the ticker on required date\n",
    "price = []\n",
    "value = []\n",
    "share = []\n",
    "weight = []\n",
    "for i in range (len(final_tickers)):\n",
    "    price.append(price_on_date(str(final_tickers[i]), required_date, next_date))\n",
    "    value.append(investment * final_weights[i])\n",
    "    share.append(value[i] / price[i])\n",
    "    weight.append(final_weights[i] * 100)\n",
    "    \n",
    "\n",
    "# Create a diction to store the required info\n",
    "final_dic = {'Ticker' : final_tickers,\n",
    "             'Price'  : price,\n",
    "             'Shares' : share,\n",
    "             'Value'  : value,\n",
    "             'Weight' : weight}\n",
    "\n",
    "# Create the final df\n",
    "FinalPortfolio = pd.DataFrame(final_dic)\n",
    "# Shift the index\n",
    "FinalPortfolio.index = np.arange(1, len(FinalPortfolio)+1)\n",
    "\n",
    "# Display\n",
    "FinalPortfolio"
   ]
  },
  {
   "cell_type": "markdown",
   "metadata": {},
   "source": [
    "### Step 9 Given the chosen portfolio of 10 stocks, graph the change in portfolio standard deviation as other risky stocks (from the 10 that weren’t chosen in Step 4) are added in"
   ]
  },
  {
   "cell_type": "code",
   "execution_count": 417,
   "metadata": {},
   "outputs": [
    {
     "data": {
      "text/plain": [
       "[0.01614267078875145]"
      ]
     },
     "execution_count": 417,
     "metadata": {},
     "output_type": "execute_result"
    }
   ],
   "source": [
    "#To make this process easier, I will simply make a price weighted index and add on stocks as we go along with my own dataframe\n",
    "\n",
    "#Tickers that are contained in our final portfolio\n",
    "max_corr_ticker_lst\n",
    "\n",
    "#For the function below, list_of_stocks is always max_corr_ticker_lst plus another stock chosen from the filtered stocks for volume\n",
    "# amount_of_monye is always 100000\n",
    "# start_date is always July 2, 2021\n",
    "# end_date is always October 22, 2021\n",
    "\n",
    "#Standard deviaiton arrya that will then be used to graph\n",
    "SD_array = []\n",
    "\n",
    "#Loop through for the stocks\n",
    "def create_portfolio (list_of_stocks, amount_of_money, start_date, end_date):\n",
    "\n",
    "    yf_stocks = []\n",
    "\n",
    "    #All the stock data is loaded in us_stock_lst\n",
    "\n",
    "    #Filter through for the stock data that we need\n",
    "    for g in range (len (list_of_stocks)):\n",
    "\n",
    "        for h in range (len (us_stock_lst)): \n",
    "\n",
    "            if us_stock_lst[h].info['symbol'] == list_of_stocks[g]:\n",
    "                yf_stocks.append(us_stock_lst[h].history(start=start_date, end=end_date))\n",
    "    \n",
    "    #Calculates number of stocks I need\n",
    "    money_per_stock = amount_of_money/len(yf_stocks)\n",
    "    \n",
    "    #Number of shares\n",
    "    num_shares = []\n",
    "    for h in range(len(list_of_stocks)):\n",
    "        num_shares.append(money_per_stock / yf_stocks[h].Close[0])\n",
    "    \n",
    "    #Daily closing price\n",
    "    closing_prices = []\n",
    "    for i in range(len(list_of_stocks)):\n",
    "        closing_prices.append(pd.DataFrame(yf_stocks[i]['Close']))\n",
    "    \n",
    "    #Combine the columns to make a dataframe\n",
    "    prices = pd.concat(closing_prices, join='inner', axis=1)\n",
    "    \n",
    "    #Rename the columns\n",
    "    column_names = []\n",
    "    for j in range(len(list_of_stocks)):\n",
    "        column_names.append(list_of_stocks[j][0])\n",
    "    prices.columns = column_names\n",
    "    \n",
    "    #Create the portfolio value\n",
    "    portfolio_value = 0\n",
    "    for k in range(len(list_of_stocks)):\n",
    "        portfolio_value = portfolio_value + num_shares[k]*prices.iloc[:,k]\n",
    "    \n",
    "    data = {'Date': prices.index,\n",
    "            'Portfolio_Value'+str(len(yf_stocks)): portfolio_value}\n",
    "    \n",
    "    portfolio_frame = pd.DataFrame(data)\n",
    "    \n",
    "    portfolio_dataframe= pd.concat([prices, portfolio_frame], join='inner', axis=1)\n",
    "    \n",
    "    #Drop the duplicate column\n",
    "    portfolio_dataframe.drop(columns=['Date'], inplace=True)\n",
    "\n",
    "    portfolio_std = portfolio_dataframe.pct_change().std()[len(list_of_stocks)]\n",
    "\n",
    "    SD_array.append(portfolio_std)\n",
    "   \n",
    "    return SD_array \n",
    "\n",
    "create_portfolio(max_corr_ticker_lst, 100000, '2021-07-02', '2021-10-22')"
   ]
  },
  {
   "cell_type": "code",
   "execution_count": 418,
   "metadata": {},
   "outputs": [
    {
     "data": {
      "text/plain": [
       "['OXY', 'SLB', 'COP', 'COF', 'AIG', 'SPG', 'BAC', 'USB', 'BK', 'AXP']"
      ]
     },
     "execution_count": 418,
     "metadata": {},
     "output_type": "execute_result"
    }
   ],
   "source": [
    "max_corr_ticker_lst"
   ]
  },
  {
   "cell_type": "code",
   "execution_count": 419,
   "metadata": {},
   "outputs": [],
   "source": [
    "# Will beging to remove stocks from rest_of_stocks that represent how many stock we have left but first we must filter out the stocks \n",
    "# that are in max_corr_lst\n",
    "rest_of_stocks = filtered_stocks\n",
    "\n",
    "#Filter out the stocks already in max_corr_lst. Now it is only stocks that I am interested in\n",
    "for y in range (len(max_corr_ticker_lst)):\n",
    "\n",
    "    for u in range (len (rest_of_stocks)-1):\n",
    "        \n",
    "        if (max_corr_ticker_lst[y] == rest_of_stocks[u].info['symbol']):\n",
    "            rest_of_stocks.pop(u)\n",
    "\n",
    "# Need to make another function that loops through the valid stocks and calcualtes the standrad deviation that is then appended to \n",
    "# a standrad deviation array.\n",
    "#Only thing that changes from thing to thing is the number of stocks that are used."
   ]
  },
  {
   "cell_type": "code",
   "execution_count": 420,
   "metadata": {},
   "outputs": [
    {
     "data": {
      "text/plain": [
       "['OXY', 'SLB', 'COP', 'COF', 'AIG', 'SPG', 'BAC', 'USB', 'BK', 'AXP']"
      ]
     },
     "execution_count": 420,
     "metadata": {},
     "output_type": "execute_result"
    }
   ],
   "source": [
    "max_corr_ticker_lst"
   ]
  },
  {
   "cell_type": "code",
   "execution_count": 421,
   "metadata": {},
   "outputs": [
    {
     "data": {
      "text/plain": [
       "[yfinance.Ticker object <PM>,\n",
       " yfinance.Ticker object <SO>,\n",
       " yfinance.Ticker object <UPS>,\n",
       " yfinance.Ticker object <ABT>,\n",
       " yfinance.Ticker object <BA>,\n",
       " yfinance.Ticker object <CMCSA>,\n",
       " yfinance.Ticker object <CSCO>,\n",
       " yfinance.Ticker object <ABBV>,\n",
       " yfinance.Ticker object <PFE>,\n",
       " yfinance.Ticker object <BLK>,\n",
       " yfinance.Ticker object <MO>,\n",
       " yfinance.Ticker object <ORCL>,\n",
       " yfinance.Ticker object <AMZN>,\n",
       " yfinance.Ticker object <QCOM>,\n",
       " yfinance.Ticker object <BMY>,\n",
       " yfinance.Ticker object <KMI>,\n",
       " yfinance.Ticker object <TXN>,\n",
       " yfinance.Ticker object <JPM>,\n",
       " yfinance.Ticker object <PEP>,\n",
       " yfinance.Ticker object <COST>,\n",
       " yfinance.Ticker object <GOOG>,\n",
       " yfinance.Ticker object <PYPL>,\n",
       " yfinance.Ticker object <NEE>,\n",
       " yfinance.Ticker object <BIIB>,\n",
       " yfinance.Ticker object <C>,\n",
       " yfinance.Ticker object <MSFT>,\n",
       " yfinance.Ticker object <UNH>,\n",
       " yfinance.Ticker object <LLY>,\n",
       " yfinance.Ticker object <TGT>,\n",
       " yfinance.Ticker object <ACN>,\n",
       " yfinance.Ticker object <MS>,\n",
       " yfinance.Ticker object <CVS>,\n",
       " yfinance.Ticker object <MON>,\n",
       " yfinance.Ticker object <CAT>,\n",
       " yfinance.Ticker object <CL>,\n",
       " yfinance.Ticker object <SBUX>,\n",
       " yfinance.Ticker object <PG>,\n",
       " yfinance.Ticker object <MRK>,\n",
       " yfinance.Ticker object <GM>,\n",
       " yfinance.Ticker object <NKE>,\n",
       " yfinance.Ticker object <LMT>,\n",
       " yfinance.Ticker object <UNP>,\n",
       " yfinance.Ticker object <T>,\n",
       " yfinance.Ticker object <KO>]"
      ]
     },
     "execution_count": 421,
     "metadata": {},
     "output_type": "execute_result"
    }
   ],
   "source": [
    "rest_of_stocks"
   ]
  },
  {
   "cell_type": "code",
   "execution_count": 422,
   "metadata": {},
   "outputs": [],
   "source": [
    "#Stocks that are currently being processed (will be appended to as more are added on)\n",
    "max_corr_ticker_lst\n",
    "\n",
    "for w in range(len(rest_of_stocks)):\n",
    "    max_corr_ticker_lst.append(rest_of_stocks[w].info['symbol'])\n",
    "\n",
    "    create_portfolio(max_corr_ticker_lst, 100000, '2021-07-02', '2021-10-22') \n",
    "\n",
    "nums = []\n",
    "for k in range (45):\n",
    "    nums.append(k+1)"
   ]
  },
  {
   "cell_type": "code",
   "execution_count": 423,
   "metadata": {},
   "outputs": [
    {
     "data": {
      "text/plain": [
       "48"
      ]
     },
     "execution_count": 423,
     "metadata": {},
     "output_type": "execute_result"
    }
   ],
   "source": [
    "len(stocks_at_the_moment)"
   ]
  },
  {
   "cell_type": "code",
   "execution_count": 424,
   "metadata": {},
   "outputs": [
    {
     "data": {
      "text/plain": [
       "Text(0, 0.5, 'Standard Deviation')"
      ]
     },
     "execution_count": 424,
     "metadata": {},
     "output_type": "execute_result"
    },
    {
     "data": {
      "image/png": "[encoded data removed]",
      "text/plain": [
       "<Figure size 1440x1080 with 1 Axes>"
      ]
     },
     "metadata": {
      "needs_background": "light"
     },
     "output_type": "display_data"
    }
   ],
   "source": [
    "#Graphing portion\n",
    "#graph out the standard deviation\n",
    "plt.figure(figsize=(20,15))\n",
    "\n",
    "plt.plot(nums, SD_array, color='b', label='Standard Deviation')\n",
    "plt.legend(loc='best')\n",
    "plt.title('Standard Deviation of the Percentage Return as more stocks are added')\n",
    "plt.xlabel('Number of Industries')\n",
    "plt.ylabel('Standard Deviation')"
   ]
  },
  {
   "cell_type": "markdown",
   "metadata": {},
   "source": [
    "## Contribution Declaration\n",
    "\n",
    "The following team members made a meaningful contribution to this assignment:\n",
    "\n",
    "Insert Names Here. "
   ]
  },
  {
   "cell_type": "code",
   "execution_count": null,
   "metadata": {},
   "outputs": [],
   "source": []
  }
 ],
 "metadata": {
  "interpreter": {
   "hash": "40d3a090f54c6569ab1632332b64b2c03c39dcf918b08424e98f38b5ae0af88f"
  },
  "kernelspec": {
   "display_name": "Python 3.9.7 64-bit",
   "language": "python",
   "name": "python3"
  },
  "language_info": {
   "codemirror_mode": {
    "name": "ipython",
    "version": 3
   },
   "file_extension": ".py",
   "mimetype": "text/x-python",
   "name": "python",
   "nbconvert_exporter": "python",
   "pygments_lexer": "ipython3",
   "version": "3.8.8"
  },
  "metadata": {
   "interpreter": {
    "hash": "b0fa6594d8f4cbf19f97940f81e996739fb7646882a419484c72d19e05852a7e"
   }
  }
 },
 "nbformat": 4,
 "nbformat_minor": 2
}
