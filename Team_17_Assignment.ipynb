{
 "cells": [
  {
   "cell_type": "code",
   "execution_count": null,
   "metadata": {},
   "outputs": [],
   "source": [
    "from IPython.display import display, Math, Latex\n",
    "\n",
    "import pandas as pd\n",
    "import numpy as np\n",
    "import numpy_financial as npf\n",
    "import yfinance as yf\n",
    "import matplotlib.pyplot as plt\n",
    "from datetime import datetime"
   ]
  },
  {
   "cell_type": "markdown",
   "metadata": {},
   "source": [
    "## Group Assignment\n",
    "### Team Number: 17\n",
    "### Team Member Names: John, Gen, Timothy\n",
    "### Team Strategy Chosen: Risky "
   ]
  },
  {
   "cell_type": "markdown",
   "metadata": {},
   "source": [
    "Requirements for this assignment:\n",
    "- Code needs to be dynamic\n",
    "- Must read in a csv file containing a finite number of stock tickers (with an example csv file in this repo)\n",
    "- Portfolio must contain only US listed stocks\n",
    "- Must have an average daily volume of at least 10 000 shares as calculated based on the time interval July 2, 2021 to October 22, 2021\n",
    "- Pick a minimum 10 maximum 20 stocks for portfolio.\n",
    "- If we choose n stocks, each stock must make up minimum (100/(2n))% of the portfolio when weighted by value as of closing prices on November 26, 2021\n",
    "- No individual stock may make up more than 35% of the portfolio when weighted by value\n",
    "- We have $100000 USD to spend on portfolio and all must be spent\n",
    "- When code is run with the .csv file, it must create a DataFrame \"FinalPortfolio\"\n",
    "    - With this portfolio, index starts at 1 and ends at the number of stocks that our code chooses.\n",
    "    - Headings must be: Ticker, Price, Shares, Value, Weight\n",
    "        - Ticker is the ticker selected\n",
    "        - Price is the price on November 26, 2021\n",
    "        - Shares is the number of shares purchased (can be fractional)\n",
    "        - Value is the total value of those shares\n",
    "        - Weighted is the weight that the value of shares represents relative to the value of the portfolio (which is $100,000)\n",
    "    - Needs to show that the total adds up to $100,000\n",
    "    - Also need to show the weights add to 100%\n",
    "    - This DataFrame must be printed to the screen as the second to last output to the screen.\n",
    "- After the DataFrame, one final DataFrame called \"Stocks\" which has the same index as \"Final Portfolio\" must be mad\n",
    "    - Only has the Tickers and Shares from \"Final Portfolio\"\n",
    "    - Must output this DataFrame to a csv file titled \"Stocks_Group_XX.csv\""
   ]
  },
  {
   "cell_type": "markdown",
   "metadata": {},
   "source": [
    "### Step 1 (Gen): Filtering out US valid tickers"
   ]
  },
  {
   "cell_type": "code",
   "execution_count": null,
   "metadata": {},
   "outputs": [],
   "source": [
    "stocks_from_csv = pd.read_csv('Tickers.csv')\n",
    "stocks_from_csv.head()"
   ]
  },
  {
   "cell_type": "code",
   "execution_count": null,
   "metadata": {},
   "outputs": [],
   "source": [
    "stocks_lst = []\n",
    "for g in range(len(stocks_from_csv.iloc[:,0])):\n",
    "   stocks_lst.append(stocks_from_csv.iloc[g,0])\n",
    "stocks_lst.append(stocks_from_csv.columns[0]) \n",
    "stocks_lst"
   ]
  },
  {
   "cell_type": "code",
   "execution_count": null,
   "metadata": {},
   "outputs": [],
   "source": [
    "len(stocks_from_csv.iloc[:,0])"
   ]
  },
  {
   "cell_type": "code",
   "execution_count": null,
   "metadata": {},
   "outputs": [],
   "source": [
    "len(stocks_lst)"
   ]
  },
  {
   "cell_type": "code",
   "execution_count": null,
   "metadata": {},
   "outputs": [],
   "source": [
    "stocks_from_csv.columns[0]"
   ]
  },
  {
   "cell_type": "code",
   "execution_count": null,
   "metadata": {},
   "outputs": [],
   "source": [
    "us_stock_lst = []\n",
    "def filter_us():\n",
    "    i=0\n",
    "    while i < len(stocks_lst):\n",
    "        if (yf.Ticker(stocks_lst[i]).info['regularMarketPrice'] != None) and (yf.Ticker(stocks_lst[i]).info['market']=='us_market'):\n",
    "            us_stock_lst.append(yf.Ticker(stocks_lst[i]))\n",
    "        i+=1\n",
    "\n",
    "filter_us()"
   ]
  },
  {
   "cell_type": "code",
   "execution_count": null,
   "metadata": {},
   "outputs": [],
   "source": [
    "us_stock_lst, len(us_stock_lst)"
   ]
  },
  {
   "cell_type": "markdown",
   "metadata": {},
   "source": [
    "### Step 4 (John): Out of the 20 most risky stocks, choose the portfolio of 10 with highest correlation"
   ]
  },
  {
   "cell_type": "code",
   "execution_count": 20,
   "metadata": {},
   "outputs": [],
   "source": [
    "# Define a global price dataframe to store all past data\n",
    "global_price_df = pd.DataFrame()\n",
    "\n",
    "# Define the start and end date\n",
    "start_date = '2020-01-01'\n",
    "end_date = '2021-11-01'"
   ]
  },
  {
   "cell_type": "code",
   "execution_count": 21,
   "metadata": {},
   "outputs": [],
   "source": [
    "### Add all data for tickers to a global price dataframe\n",
    "def update_price_df(ticker_lst, start_date, end_date):\n",
    "    # Load the global dataframe\n",
    "    global global_price_df\n",
    "    \n",
    "    # Read in the history closing price info\n",
    "    # Store in a dictionary where the key is the name of the ticker\n",
    "    hist_dic = {}\n",
    "    for i in ticker_lst:\n",
    "        if i not in global_price_df:\n",
    "            ticker_yf = yf.Ticker(i)\n",
    "            hist_dic[i] = ticker_yf.history(start=start_date, end=end_date)['Close']\n",
    "    \n",
    "    # Convert the dictionary to a dataframe\n",
    "    temp_price_df = pd.DataFrame(hist_dic)\n",
    "    \n",
    "    # If there is tickers to add, then resample it to month and add to the global closing price df\n",
    "    if not temp_price_df.empty:\n",
    "        # temp_prices_df = prices_df.resample('MS').first()\n",
    "        global_price_df = pd.concat([global_price_df, temp_price_df], axis=1)"
   ]
  },
  {
   "cell_type": "code",
   "execution_count": 22,
   "metadata": {},
   "outputs": [],
   "source": [
    "### Find all possible combinations of n tickers within the ticker_lst using a recursive function\n",
    "def combinations(arr, length, pre_arr=[]):\n",
    "    if len(pre_arr) == length:\n",
    "        return [pre_arr]\n",
    "    \n",
    "    combs = []\n",
    "    # Add each element to the previous array\n",
    "    for i, val in enumerate(arr):\n",
    "        cur_copy = pre_arr.copy()\n",
    "        cur_copy.append(val)\n",
    "        combs += combinations(arr[i+1:], length, cur_copy)\n",
    "    return combs"
   ]
  },
  {
   "cell_type": "code",
   "execution_count": 23,
   "metadata": {},
   "outputs": [],
   "source": [
    "### Find the average correlation between each stock\n",
    "def find_avg_corr(ticker_lst, start_date, end_date):\n",
    "    # Load the global price dataframe\n",
    "    global global_price_df\n",
    "    \n",
    "    # Find the dataframe with the given tickers and filter the dates\n",
    "    price_df = global_price_df[ticker_lst]\n",
    "    price_df = price_df[(start_date <= price_df.index) & (price_df.index <= end_date)]\n",
    "    \n",
    "    # Find the correlation matrix\n",
    "    df_corr = price_df.corr()\n",
    "    \n",
    "    # Calculate the avg corr\n",
    "    sum_corr = 0\n",
    "    sum_count = 0\n",
    "    for i in range (len(ticker_lst)):\n",
    "        for j in range (i+1, len(ticker_lst)):\n",
    "            sum_corr += df_corr.loc[ticker_lst[i],ticker_lst[j]]\n",
    "            sum_count += 1\n",
    "    \n",
    "    # Calculate the return the avg correlation\n",
    "    return sum_corr/sum_count"
   ]
  },
  {
   "cell_type": "code",
   "execution_count": 24,
   "metadata": {},
   "outputs": [],
   "source": [
    "# Find the combinaton of tickers with the maximum avg correlation\n",
    "def find_max_correlation(ticker_lst,  start_date, end_date, result_size = 10):\n",
    "    # Store the maximum value of corr and the portfolio\n",
    "    max_avg_corr = -1\n",
    "    max_corr_port = np.array([])\n",
    "    \n",
    "    # Load the global price dataframe\n",
    "    global global_price_df\n",
    "    \n",
    "    # Convert list to array and find the combinations\n",
    "    comb = combinations(np.array(ticker_lst), result_size)\n",
    "    \n",
    "    # Find the comb with the maximum average correlation\n",
    "    for i in comb:\n",
    "        avg_corr = find_avg_corr(i, start_date, end_date)\n",
    "        if avg_corr > max_avg_corr:\n",
    "            max_avg_corr = avg_corr\n",
    "            max_corr_port = i\n",
    "    \n",
    "    # Return the result sample\n",
    "    return max_corr_port"
   ]
  },
  {
   "cell_type": "code",
   "execution_count": 25,
   "metadata": {},
   "outputs": [
    {
     "name": "stdout",
     "output_type": "stream",
     "text": [
      "The portfolio with maximum avg correlation is: ['MSFT', 'AAPL', 'GOOGL', 'TSLA', 'FB', 'NVDA', 'TSM', 'V', 'JNJ', 'UNH']\n"
     ]
    }
   ],
   "source": [
    "### Applying the functions\n",
    "# A random ticker list\n",
    "ticker_lst = ['MSFT', 'AAPL', 'GOOGL', 'AMZN', 'TSLA', 'FB', 'NVDA', 'NFLX', 'TSM', 'JPM',\n",
    "             'BABA', 'V', 'JNJ', 'UNH', 'WMT'] #, 'HD', 'BAC', 'MA', 'ASML', 'PG']\n",
    "\n",
    "# Update the global closing df\n",
    "update_price_df(ticker_lst, start_date, end_date)\n",
    "\n",
    "# Find the combination of tickers with maximum correlation\n",
    "max_corr_port = find_max_correlation(ticker_lst, start_date, end_date)\n",
    "\n",
    "# Display\n",
    "print('The portfolio with maximum avg correlation is:', max_corr_port)"
   ]
  },
  {
   "cell_type": "markdown",
   "metadata": {},
   "source": [
    "## Contribution Declaration\n",
    "\n",
    "The following team members made a meaningful contribution to this assignment:\n",
    "\n",
    "Insert Names Here. "
   ]
  },
  {
   "cell_type": "code",
   "execution_count": null,
   "metadata": {},
   "outputs": [],
   "source": []
  }
 ],
 "metadata": {
  "interpreter": {
   "hash": "22347dabcbb3226bc1baaa7ccef6aad4c84c807ae3267138f40a3028c080d427"
  },
  "kernelspec": {
   "display_name": "Python 3.9.7 64-bit",
   "language": "python",
   "name": "python3"
  },
  "language_info": {
   "codemirror_mode": {
    "name": "ipython",
    "version": 3
   },
   "file_extension": ".py",
   "mimetype": "text/x-python",
   "name": "python",
   "nbconvert_exporter": "python",
   "pygments_lexer": "ipython3",
   "version": "3.8.3"
  },
  "metadata": {
   "interpreter": {
    "hash": "7812ea015bdcee6f23a998adcdd2ef97c151c0c241b7b7070987d9313e41299d"
   }
  }
 },
 "nbformat": 4,
 "nbformat_minor": 2
}
